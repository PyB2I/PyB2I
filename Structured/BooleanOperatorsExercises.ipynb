{
 "cells": [
  {
   "cell_type": "markdown",
   "id": "2e23f6ef",
   "metadata": {},
   "source": [
    "<img src=\"../Images/Level1Beginner.png\" alt=\"Beginner\" width=\"128\" height=\"128\" align=\"right\">\n",
    "\n",
    "## Ejercicios - Operadores Booleanos"
   ]
  },
  {
   "cell_type": "markdown",
   "id": "df4a820c",
   "metadata": {},
   "source": [
    "<span><img src=\"../Images/selected.png\" alt=\"Selected\" width=\"32\" height=\"32\" align=\"right\"></span>"
   ]
  },
  {
   "cell_type": "markdown",
   "id": "15cd003f",
   "metadata": {},
   "source": [
    "Qué ocurre al ejecutar el siguiente código"
   ]
  },
  {
   "cell_type": "code",
   "execution_count": 5,
   "id": "cf906538",
   "metadata": {},
   "outputs": [
    {
     "name": "stdout",
     "output_type": "stream",
     "text": [
      "Ingrese un número positivo y calcularé su inversa: 0.5\n",
      "la inversa de 0.5 es 2.0\n"
     ]
    }
   ],
   "source": [
    "# calcular la inversa de un número positivo\n",
    "value = float(input(\"Ingrese un número positivo y calcularé su inversa: \"))\n",
    "\n",
    "if value > 0 :\n",
    "    print(\"la inversa de\", value, \"es\", 1/value)\n"
   ]
  }
 ],
 "metadata": {
  "kernelspec": {
   "display_name": "Python 3 (ipykernel)",
   "language": "python",
   "name": "python3"
  },
  "language_info": {
   "codemirror_mode": {
    "name": "ipython",
    "version": 3
   },
   "file_extension": ".py",
   "mimetype": "text/x-python",
   "name": "python",
   "nbconvert_exporter": "python",
   "pygments_lexer": "ipython3",
   "version": "3.9.7"
  }
 },
 "nbformat": 4,
 "nbformat_minor": 5
}
