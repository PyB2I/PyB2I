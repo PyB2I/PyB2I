{
 "cells": [
  {
   "cell_type": "markdown",
   "id": "2e23f6ef",
   "metadata": {},
   "source": [
    "<img src=\"../Images/Level1Beginner.png\" alt=\"Beginner\" width=\"128\" height=\"128\" align=\"right\">\n",
    "\n",
    "## Ejercicios - Operadores Booleanos"
   ]
  },
  {
   "cell_type": "markdown",
   "id": "15cd003f",
   "metadata": {},
   "source": [
    "Completa el siguiente código de manera que se evalúe si el caracter ingresado es o no un paréntesis.\n",
    "<span><img src=\"../Images/selected.png\" alt=\"Selected\" width=\"32\" height=\"32\" align=\"right\"></span>"
   ]
  },
  {
   "cell_type": "code",
   "execution_count": null,
   "id": "cf906538",
   "metadata": {},
   "outputs": [],
   "source": [
    "# ingresar un caracter\n",
    "character = input(\"Ingrese un caracter: \")\n",
    "\n",
    "if character == '(' :\n",
    "    print(\"el caracter\", character, \"es un paréntesis\")\n",
    "else :\n",
    "    print(\"el caracter\", character, \"NO es un paréntesis\")\n"
   ]
  },
  {
   "cell_type": "markdown",
   "id": "d0f2d53e",
   "metadata": {},
   "source": [
    "Completa el siguiente código de manera que se evalúe si el caracter ingresado es o no un símbolo utilizado en la matemática para alterar la precedencia de las operaciones."
   ]
  },
  {
   "cell_type": "code",
   "execution_count": null,
   "id": "abc12559",
   "metadata": {},
   "outputs": [],
   "source": [
    "# ingresar un caracter\n",
    "character = input(\"Ingrese un caracter: \")\n"
   ]
  },
  {
   "cell_type": "markdown",
   "id": "6421a3e3",
   "metadata": {},
   "source": [
    "¿Qué ocurre al ejecutar las siguientes celdas?\n",
    "\n",
    "Explique lo que ocurre ..."
   ]
  },
  {
   "cell_type": "code",
   "execution_count": null,
   "id": "7c31159b",
   "metadata": {},
   "outputs": [],
   "source": [
    "var1 = 15\n",
    "var2 = 56\n",
    "var3 = \"algun téxto\"\n",
    "\n",
    "if var1 < var2 or var2 < var :\n",
    "    print(\"var 1 menor que var2 o var2 menor que var3\")\n",
    "\n",
    "    "
   ]
  },
  {
   "cell_type": "code",
   "execution_count": null,
   "id": "c7590650",
   "metadata": {},
   "outputs": [],
   "source": [
    "var1 = 15\n",
    "var2 = 56\n",
    "var3 = \"algun téxto\"\n",
    "\n",
    "if var1 > var2 and var2 > var3 :\n",
    "    print(\"var 1 mayor que var2 y var2 mayor que var3\")\n",
    "\n",
    "    "
   ]
  },
  {
   "cell_type": "code",
   "execution_count": null,
   "id": "f6a93561",
   "metadata": {},
   "outputs": [],
   "source": [
    "var1 = 15\n",
    "var2 = 56\n",
    "var3 = \"algun téxto\"\n",
    "v\n",
    "if var1 < var2 and var2 < var :\n",
    "    print(\"var 1 menor que var2 y var2 menor que var3\")\n",
    "\n",
    "    "
   ]
  }
 ],
 "metadata": {
  "kernelspec": {
   "display_name": "Python 3 (ipykernel)",
   "language": "python",
   "name": "python3"
  },
  "language_info": {
   "codemirror_mode": {
    "name": "ipython",
    "version": 3
   },
   "file_extension": ".py",
   "mimetype": "text/x-python",
   "name": "python",
   "nbconvert_exporter": "python",
   "pygments_lexer": "ipython3",
   "version": "3.9.7"
  }
 },
 "nbformat": 4,
 "nbformat_minor": 5
}
