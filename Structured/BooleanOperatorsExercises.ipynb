{
 "cells": [
  {
   "cell_type": "markdown",
   "id": "2e23f6ef",
   "metadata": {},
   "source": [
    "<img src=\"../Images/Level1Beginner.png\" alt=\"Beginner\" width=\"128\" height=\"128\" align=\"right\">\n",
    "\n",
    "## Ejercicios - Operadores Booleanos"
   ]
  },
  {
   "cell_type": "markdown",
   "id": "15cd003f",
   "metadata": {},
   "source": [
    "Completa el siguiente código de manera que se evalúe si el caracter ingresado es o no un paréntesis.\n",
    "<span><img src=\"../Images/selected.png\" alt=\"Selected\" width=\"32\" height=\"32\" align=\"right\"></span>"
   ]
  },
  {
   "cell_type": "code",
   "execution_count": null,
   "id": "cf906538",
   "metadata": {},
   "outputs": [],
   "source": [
    "# ingresar un caracter\n",
    "character = input(\"Ingrese un caracter: \")\n",
    "\n",
    "if character == '(' :\n",
    "    print(\"el caracter\", character, \"es un paréntesis\")\n",
    "else :\n",
    "    print(\"el caracter\", character, \"NO es un paréntesis\")\n"
   ]
  }
 ],
 "metadata": {
  "kernelspec": {
   "display_name": "Python 3 (ipykernel)",
   "language": "python",
   "name": "python3"
  },
  "language_info": {
   "codemirror_mode": {
    "name": "ipython",
    "version": 3
   },
   "file_extension": ".py",
   "mimetype": "text/x-python",
   "name": "python",
   "nbconvert_exporter": "python",
   "pygments_lexer": "ipython3",
   "version": "3.9.7"
  }
 },
 "nbformat": 4,
 "nbformat_minor": 5
}
