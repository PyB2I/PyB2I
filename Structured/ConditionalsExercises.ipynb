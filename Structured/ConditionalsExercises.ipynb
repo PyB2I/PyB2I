{
 "cells": [
  {
   "cell_type": "markdown",
   "id": "2e23f6ef",
   "metadata": {},
   "source": [
    "<img src=\"../Images/Level1Beginner.png\" alt=\"Beginner\" width=\"128\" height=\"128\" align=\"right\">\n",
    "\n",
    "## Ejercicios - Condicionales\n"
   ]
  },
  {
   "cell_type": "markdown",
   "id": "f75c9ea8",
   "metadata": {},
   "source": [
    "### Cuidado con los tipos\n",
    "\n",
    "¿Qué texto aparece en pantalla?"
   ]
  },
  {
   "cell_type": "code",
   "execution_count": null,
   "id": "deac8187",
   "metadata": {},
   "outputs": [],
   "source": [
    "\n",
    "# evaluar expresión condicional con valores numéricos\n",
    "if 14 < 120 :\n",
    "    print('primer texto')\n",
    "    \n",
    "# evaluar expresión condicional con valores cadena de texto\n",
    "if '14' < '120' :\n",
    "    print('segundo texto')\n"
   ]
  },
  {
   "cell_type": "markdown",
   "id": "bccbc31b",
   "metadata": {},
   "source": [
    "### Cuidado con las posibilidades\n",
    "\n",
    "¿Qué problema presenta el siguiente código?\n",
    "<span><img src=\"../Images/selected.png\" alt=\"Selected\" width=\"32\" height=\"32\" align=\"right\"></span>"
   ]
  },
  {
   "cell_type": "code",
   "execution_count": null,
   "id": "5cc0b798",
   "metadata": {},
   "outputs": [],
   "source": [
    "# ingresar dos valures numéricos\n",
    "firstValue = int(input(\"Ingrese un número: \"))\n",
    "secondValue = int(input(\"Ingrese otro número: \"))\n",
    "\n",
    "# evaluar cuál de los dos valores es mayor\n",
    "if firstValue > secondValue :\n",
    "    maximumValue = firstValue\n",
    "if secondValue > firstValue :\n",
    "    maximumValue = secondValue\n",
    "\n",
    "# presentar en pantalla el valor máximo\n",
    "print(\"el número máximo es:\", maximumValue)\n"
   ]
  },
  {
   "cell_type": "markdown",
   "id": "2a22dd4d",
   "metadata": {},
   "source": [
    "### Mayúsculas y minúsculas\n",
    "\n",
    "Escriba el código para leer un caracter desde el teclado y determinar si es una letra mayúscula o minúscula.\n",
    "<span><img src=\"../Images/selected.png\" alt=\"Selected\" width=\"32\" height=\"32\" align=\"right\"></span>"
   ]
  },
  {
   "cell_type": "code",
   "execution_count": null,
   "id": "ee0ad711",
   "metadata": {},
   "outputs": [],
   "source": [
    "# obtener solo la primer letra de la cadena ingresada\n",
    "letter=input(\"Ingrese una letra: \")[0]\n",
    "\n",
    "# código para determinar si es una letra mayúsculoa o minúscula\n",
    "# ...\n"
   ]
  },
  {
   "cell_type": "markdown",
   "id": "7a586f27",
   "metadata": {},
   "source": [
    "### Ecuación de primer grado\n",
    "\n",
    "La ecuación de primer grado tiene la forma **a * x + b = 0**\n",
    "\n",
    "Completa el código para determinar el valor de **x** que satisface la ecuación para un par de valores **a** y **b**."
   ]
  },
  {
   "cell_type": "code",
   "execution_count": null,
   "id": "45c94f68",
   "metadata": {},
   "outputs": [],
   "source": [
    "# obtener el par de valores\n",
    "a = float(input(\"Ingrese el valor de a: \"))\n",
    "b = float(input(\"Ingrese el valor de b: \"))\n",
    "\n",
    "x = 0 # reemplaza el cero por lo que corresponda\n",
    "\n",
    "print(\"El valor que satisface la ecuación es\", x)\n"
   ]
  },
  {
   "cell_type": "markdown",
   "id": "a83a18cc",
   "metadata": {},
   "source": [
    "### Horas extras\n",
    "\n",
    "Escriba el código que calcule y muestre el salario de un empleado de manera que cobre 1.5 veces el valor de cada hora que exceda las 40 horas mensuales."
   ]
  },
  {
   "cell_type": "code",
   "execution_count": null,
   "id": "ed77c115",
   "metadata": {},
   "outputs": [],
   "source": [
    "# obtener el salario por cada hora trabajada y la cantidad de horas trabajadas\n",
    "salary = float(input(\"Ingrese el salario por hora: \"))\n",
    "hours = int(input(\"Ingresa las horas trabajadas: \"))\n",
    "\n",
    "# presentar el salario de manera que cobre 1.5 veces el valor de cada hora que exceda las 40 horas mensuales\n",
    "# ..."
   ]
  },
  {
   "cell_type": "markdown",
   "id": "8d1461be",
   "metadata": {},
   "source": [
    "### Calificaciones\n",
    "\n",
    "Escriba el código que determine y muestre la denominación de una calificación de acuerdo al siguiente detalle:\n",
    "\n",
    "\n",
    "\\>= 0.9 - Sobresaliente\n",
    "\n",
    "\\>= 0.8 - Notable\n",
    "\n",
    "\\>= 0.7 - Bien\n",
    "\n",
    "\\>= 0.6 - Suficiente\n",
    "\n",
    "\\<  0.6 - Insuficiente\n",
    "\n",
    "Los valores fuera del rango 0.0 y 1.0 no deben aceptarse"
   ]
  },
  {
   "cell_type": "code",
   "execution_count": null,
   "id": "b755c5f4",
   "metadata": {},
   "outputs": [],
   "source": [
    "# código para presentar la calificación de acuerdo al detalle indicado\n"
   ]
  },
  {
   "cell_type": "markdown",
   "id": "9e8cd138",
   "metadata": {},
   "source": [
    "### Pares e Impares\n",
    "\n",
    "Escriba el código que determine si un número ingresado por teclado es par o impar.\n",
    "<span><img src=\"../Images/selected.png\" alt=\"Selected\" width=\"32\" height=\"32\" align=\"right\"></span>"
   ]
  },
  {
   "cell_type": "code",
   "execution_count": null,
   "id": "9dbf6efd",
   "metadata": {},
   "outputs": [],
   "source": [
    "# obtener un número entero\n",
    "number = int(input(\"Ingreso un número: \"))\n",
    "\n",
    "# código para determinar si el número es par o impar\n",
    "# ...\n"
   ]
  },
  {
   "cell_type": "markdown",
   "id": "c2af0f2a",
   "metadata": {},
   "source": [
    "Escriba el código que determina si un número ingresado por teclado es el doble de un número impar."
   ]
  },
  {
   "cell_type": "code",
   "execution_count": null,
   "id": "be3e977e",
   "metadata": {},
   "outputs": [],
   "source": [
    "# obtener un número entero\n",
    "number = int(input(\"Ingreso un número: \"))\n",
    "\n",
    "# código para determinar si el número es el doble de un número impar\n",
    "# ...\n"
   ]
  },
  {
   "cell_type": "markdown",
   "id": "8251de0b",
   "metadata": {},
   "source": [
    "### Año bisiesto\n",
    "\n",
    "Escriba el código que determine si un año ingresado por teclado es bisiesto o no.\n",
    "\n",
    "Indagar con certeza la definición y modo de determinación del año bisiesto ..."
   ]
  },
  {
   "cell_type": "code",
   "execution_count": null,
   "id": "e18986e8",
   "metadata": {},
   "outputs": [],
   "source": [
    "# obtener un número que representa el valor de un año\n",
    "year = int(input(\"Ingrese un año: \"))\n",
    "\n",
    "# código para determinar si el valor del año es bisiesto o no\n",
    "# ...\n"
   ]
  },
  {
   "cell_type": "markdown",
   "id": "73843437",
   "metadata": {},
   "source": [
    "### Interés compuesto\n",
    "\n",
    "La fórmula de interés compuesto permite calcular el capital final que se obtiene a partir de un capital inicial, una tasa de interés porcentual y los períodos.\n",
    "\n",
    "Escriba el código para determinar el capital final a obtener dado un valor para el capital inicial, tasa y período; tenga en cuenta que solo es aplicable a valores mayores que cero.\n",
    "\n",
    "Indagar con certeza la definición y formas de cálculo del interes compuesto ..."
   ]
  },
  {
   "cell_type": "code",
   "execution_count": null,
   "id": "a2f1b2f5",
   "metadata": {},
   "outputs": [],
   "source": [
    "# obtener el valor del capital incial y la tasa de interés\n",
    "initialCapital = float(input(\"Ingrese el valor del capital inicial: \"))\n",
    "rateValue = float(input(\"Ingrese el valor de la tasa de interés: \"))\n",
    "\n",
    "# código para determinar el capital final dados el capital incial, la tasa de interés y el período\n",
    "# ..."
   ]
  },
  {
   "cell_type": "markdown",
   "id": "120bb930",
   "metadata": {},
   "source": [
    "### Billeteo (con condicionales ...)\n",
    "\n",
    "Escriba el código que calcule el desglose en billetes y monedas de una cantidad de dinero exacta.\n",
    "\n",
    "Existen billetes de 500, 200, 100, 50, 20, 10 y 5 y monedas de 2 y 1.\n",
    "\n",
    "Ejemplo: la cantidad 434 se desglosa en 2 billetes de 200, 1 billete de 20, 1 billete de 10 y 2 monedas de 2.\n",
    "\n",
    "Indagar con certeza la definición y forma de realizar el desglose en billetes y monedas de un importe ..."
   ]
  },
  {
   "cell_type": "code",
   "execution_count": null,
   "id": "4e0c20c2",
   "metadata": {},
   "outputs": [],
   "source": [
    "# obtener el importe a desglosar\n",
    "amount = int(input(\"Ingrese la cantidad de dinero: \"))\n",
    "\n",
    "# código para desglosar en billetes y monedas un importe\n",
    "# ...\n"
   ]
  },
  {
   "cell_type": "markdown",
   "id": "7db202dd",
   "metadata": {},
   "source": [
    "<img src=\"../Images/Level2Intermediate.png\" alt=\"Intermediate\" width=\"128\" height=\"128\" align=\"right\">"
   ]
  },
  {
   "cell_type": "markdown",
   "id": "ae8b0224",
   "metadata": {},
   "source": [
    "### Ecuación de segundo grado\n",
    "\n",
    "La ecuación de segundo grado tiene la forma **a * x ** 2 + b * x + c = 0**\n",
    "\n",
    "Determinar el valor de las raices de la ecuación (valores de x que satisfacen la ecuación) presenta el problema del **determinante negativo**.\n",
    "\n",
    "El siguiente código es incorrecto, propone los cambios necesarios para que lo sea."
   ]
  },
  {
   "cell_type": "code",
   "execution_count": null,
   "id": "f7fbf881",
   "metadata": {},
   "outputs": [],
   "source": [
    "# importar el módulo math para utilizar la función sqrt (raíz cuadradda)\n",
    "import math\n",
    "\n",
    "# obtener los valores de las constantes\n",
    "a = float(input(\"Ingrese el valor de a: \"))\n",
    "b = float(input(\"Ingrese el valor de b: \"))\n",
    "c = float(input(\"Ingrese el valor de c: \"))\n",
    "\n",
    "if a != 0 :\n",
    "    if math.sqrt(b ** 2 - 4 * a * c) >= 0 :\n",
    "        x1 = (-b + math.sqrt(b ** 2 - 4 * a * c)) / (2 * a)\n",
    "        x2 = (-b - math.sqrt(b ** 2 - 4 * a * c)) / (2 * a)\n",
    "        print(\"Las raices de la ecuación son:\", x1, \"y\", x2)\n",
    "\n",
    "# ...\n"
   ]
  }
 ],
 "metadata": {
  "kernelspec": {
   "display_name": "Python 3 (ipykernel)",
   "language": "python",
   "name": "python3"
  },
  "language_info": {
   "codemirror_mode": {
    "name": "ipython",
    "version": 3
   },
   "file_extension": ".py",
   "mimetype": "text/x-python",
   "name": "python",
   "nbconvert_exporter": "python",
   "pygments_lexer": "ipython3",
   "version": "3.9.7"
  }
 },
 "nbformat": 4,
 "nbformat_minor": 5
}
