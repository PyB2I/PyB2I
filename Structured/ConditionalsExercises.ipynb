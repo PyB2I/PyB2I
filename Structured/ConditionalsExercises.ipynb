{
 "cells": [
  {
   "cell_type": "markdown",
   "id": "2e23f6ef",
   "metadata": {},
   "source": [
    "## Ejercicios - Condicionales"
   ]
  },
  {
   "cell_type": "markdown",
   "id": "a83a18cc",
   "metadata": {},
   "source": [
    "### Horas extras\n",
    "\n",
    "Escriba el código que calcule y muestre el salario de un empleado de manera que cobre 1.5 veces el valor de cada hora que exceda las 40 mensuales."
   ]
  },
  {
   "cell_type": "markdown",
   "id": "8d1461be",
   "metadata": {},
   "source": [
    "### Calificaciones\n",
    "\n",
    "Escriba el código que determine y muestre la denominación de una calificación de acuerdo al siguiente detalle\n",
    "\n",
    "\n",
    "\\>= 0.9 - Sobresaliente\n",
    "\n",
    "\\>= 0.8 - Notable\n",
    "\n",
    "\\>= 0.7 - Bien\n",
    "\n",
    "\\>= 0.6 - Suficiente\n",
    "\n",
    "\\<  0.6 - Insuficiente\n",
    "\n",
    "Los valores fuera del rango 0.0 y 1.0 no deben aceptarse"
   ]
  }
 ],
 "metadata": {
  "kernelspec": {
   "display_name": "Python 3",
   "language": "python",
   "name": "python3"
  },
  "language_info": {
   "codemirror_mode": {
    "name": "ipython",
    "version": 3
   },
   "file_extension": ".py",
   "mimetype": "text/x-python",
   "name": "python",
   "nbconvert_exporter": "python",
   "pygments_lexer": "ipython3",
   "version": "3.8.8"
  }
 },
 "nbformat": 4,
 "nbformat_minor": 5
}
