{
 "cells": [
  {
   "cell_type": "markdown",
   "id": "2e23f6ef",
   "metadata": {},
   "source": [
    "<img src=\"../Images/Level1Beginner.png\" alt=\"Beginner\" width=\"128\" height=\"128\" align=\"right\">\n",
    "\n",
    "## Ejercicios - Condicionales\n"
   ]
  },
  {
   "cell_type": "markdown",
   "id": "f75c9ea8",
   "metadata": {},
   "source": [
    "### Cuidado con los tipos\n",
    "\n",
    "¿Qué texto aparece en pantalla?"
   ]
  },
  {
   "cell_type": "code",
   "execution_count": null,
   "id": "deac8187",
   "metadata": {},
   "outputs": [],
   "source": [
    "\n",
    "# evaluar expresión condicional con valores numéricos\n",
    "if 14 < 120 :\n",
    "    print('primer texto')\n",
    "    \n",
    "# evaluar expresión condicional con valores cadena de texto\n",
    "if '14' < '120' :\n",
    "    print('segundo texto')\n"
   ]
  },
  {
   "cell_type": "markdown",
   "id": "bccbc31b",
   "metadata": {},
   "source": [
    "### Cuidado con las posibilidades\n",
    "\n",
    "¿Es correcto el siguiente código?"
   ]
  },
  {
   "cell_type": "code",
   "execution_count": null,
   "id": "5cc0b798",
   "metadata": {},
   "outputs": [],
   "source": [
    "# ingresar dos valures numéricos\n",
    "firstValue = int(input(\"Ingrese un número: \"))\n",
    "secondValue = int(input(\"Ingrese otro número: \"))\n",
    "\n",
    "# evaluar cuál de los dos valores es mayor\n",
    "if firstValue > secondValue :\n",
    "    maximumValue = firstValue\n",
    "if secondValue > firstValue :\n",
    "    maximumValue = secondValue\n",
    "\n",
    "# presentar en pantalla el valor máximo\n",
    "print(\"el número máximo es:\", maximumValue)\n"
   ]
  },
  {
   "cell_type": "markdown",
   "id": "2a22dd4d",
   "metadata": {},
   "source": [
    "### Mayúsculas y minúsculas\n",
    "\n",
    "Escriba el código para leer un caracter desde el teclado y determinar si es una letra mayúscula o minúscula."
   ]
  },
  {
   "cell_type": "code",
   "execution_count": null,
   "id": "ee0ad711",
   "metadata": {},
   "outputs": [],
   "source": [
    "# obtener solo la primer letra de la cadena ingresada\n",
    "letter=input(\"Ingrese una letra: \")[0]\n",
    "\n",
    "# código para determinar si es una letra mayúsculoa o minúscula\n",
    "# ...\n"
   ]
  },
  {
   "cell_type": "markdown",
   "id": "a83a18cc",
   "metadata": {},
   "source": [
    "### Horas extras\n",
    "\n",
    "Escriba el código que calcule y muestre el salario de un empleado de manera que cobre 1.5 veces el valor de cada hora que exceda las 40 horas mensuales."
   ]
  },
  {
   "cell_type": "code",
   "execution_count": null,
   "id": "ed77c115",
   "metadata": {},
   "outputs": [],
   "source": [
    "# obtener el salario por cada hora trabajada y la cantidad de horas trabajadas\n",
    "salary = float(input(\"Ingrese el salario por hora: \"))\n",
    "hours = int(input(\"Ingresa las horas trabajadas: \"))\n",
    "\n",
    "# presentar el salario de manera que cobre 1.5 veces el valor de cada hora que exceda las 40 horas mensuales\n",
    "# ..."
   ]
  },
  {
   "cell_type": "markdown",
   "id": "8d1461be",
   "metadata": {},
   "source": [
    "### Calificaciones\n",
    "\n",
    "Escriba el código que determine y muestre la denominación de una calificación de acuerdo al siguiente detalle:\n",
    "\n",
    "\n",
    "\\>= 0.9 - Sobresaliente\n",
    "\n",
    "\\>= 0.8 - Notable\n",
    "\n",
    "\\>= 0.7 - Bien\n",
    "\n",
    "\\>= 0.6 - Suficiente\n",
    "\n",
    "\\<  0.6 - Insuficiente\n",
    "\n",
    "Los valores fuera del rango 0.0 y 1.0 no deben aceptarse"
   ]
  },
  {
   "cell_type": "code",
   "execution_count": null,
   "id": "b755c5f4",
   "metadata": {},
   "outputs": [],
   "source": [
    "# código para presentar la calificación de acuerdo al detalle indicado\n"
   ]
  },
  {
   "cell_type": "markdown",
   "id": "9e8cd138",
   "metadata": {},
   "source": [
    "### Pares e Impares\n",
    "\n",
    "Escriba el código que determine si un número ingresado por teclado es par o impar."
   ]
  },
  {
   "cell_type": "code",
   "execution_count": null,
   "id": "9dbf6efd",
   "metadata": {},
   "outputs": [],
   "source": [
    "# obtener un número entero\n",
    "number = int(input(\"Ingreso un número: \"))\n",
    "\n",
    "# código para determinar si el número es par o impar\n",
    "# ...\n"
   ]
  },
  {
   "cell_type": "markdown",
   "id": "c2af0f2a",
   "metadata": {},
   "source": [
    "Escriba el código que determina si un número ingresado por teclado es el doble de un número impar."
   ]
  },
  {
   "cell_type": "code",
   "execution_count": null,
   "id": "be3e977e",
   "metadata": {},
   "outputs": [],
   "source": [
    "# obtener un número entero\n",
    "number = int(input(\"Ingreso un número: \"))\n",
    "\n",
    "# código para determinar si el número es el doble de un número impar\n",
    "# ...\n"
   ]
  },
  {
   "cell_type": "markdown",
   "id": "8251de0b",
   "metadata": {},
   "source": [
    "### Año bisiesto\n",
    "\n",
    "Escriba el código que determine si un año ingresado por teclado es bisiesto o no.\n",
    "\n",
    "Indagar con certeza la definición y modo de determinación del año bisiesto ..."
   ]
  },
  {
   "cell_type": "code",
   "execution_count": null,
   "id": "e18986e8",
   "metadata": {},
   "outputs": [],
   "source": [
    "# obtener un número que representa el valor de un año\n",
    "year = int(input(\"Ingrese un año: \"))\n",
    "\n",
    "# código para determinar si el valor del año es bisiesto o no\n",
    "# ...\n"
   ]
  },
  {
   "cell_type": "markdown",
   "id": "73843437",
   "metadata": {},
   "source": [
    "### Interés compuesto\n",
    "\n",
    "La fórmula de interés compuesto permite calcular el capital final que se obtiene a partir de un capital inicial, una tasa de interés porcentual y los períodos.\n",
    "\n",
    "Escriba el código para determinar el capital final a obtener dado un valor para el capital inicial, tasa y período; tenga en cuenta que solo es aplicable a valores mayores que cero.\n",
    "\n",
    "Indagar con certeza la definición y formas de cálculo del interes compuesto ..."
   ]
  },
  {
   "cell_type": "code",
   "execution_count": null,
   "id": "a2f1b2f5",
   "metadata": {},
   "outputs": [],
   "source": [
    "# obtener el valor del capital incial y la tasa de interés\n",
    "initialCapital = float(input(\"Ingrese el valor del capital inicial: \"))\n",
    "rateValue = float(input(\"Ingrese el valor de la tasa de interés: \"))\n",
    "\n",
    "# código para determinar el capital final dados el capital incial, la tasa de interés y el período\n",
    "# ..."
   ]
  },
  {
   "cell_type": "markdown",
   "id": "120bb930",
   "metadata": {},
   "source": [
    "### Billeteo\n",
    "\n",
    "Escriba el código que calcule el desglose en billetes y monedas de una cantidad de dinero exacta.\n",
    "\n",
    "Existen billetes de 500, 200, 100, 50, 20, 10 y 5 y monedas de 2 y 1.\n",
    "\n",
    "Ejemplo: la cantidad 434 se desglosa en 2 billetes de 200, 1 billete de 20, 1 billete de 10 y 2 monedas de 2.\n",
    "\n",
    "Indagar con certeza la definición y forma de realizar el desglose en billetes y monedas de una importe ..."
   ]
  },
  {
   "cell_type": "code",
   "execution_count": null,
   "id": "4e0c20c2",
   "metadata": {},
   "outputs": [],
   "source": [
    "# obtener el importe a desglosar\n",
    "amount = int(input(\"Ingrese la cantidad de dinero: \"))\n",
    "\n",
    "# código para desglosar en billetes y monedas un importe\n",
    "# ...\n"
   ]
  }
 ],
 "metadata": {
  "kernelspec": {
   "display_name": "Python 3 (ipykernel)",
   "language": "python",
   "name": "python3"
  },
  "language_info": {
   "codemirror_mode": {
    "name": "ipython",
    "version": 3
   },
   "file_extension": ".py",
   "mimetype": "text/x-python",
   "name": "python",
   "nbconvert_exporter": "python",
   "pygments_lexer": "ipython3",
   "version": "3.9.7"
  }
 },
 "nbformat": 4,
 "nbformat_minor": 5
}
