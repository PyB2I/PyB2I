{
 "cells": [
  {
   "cell_type": "markdown",
   "id": "2e23f6ef",
   "metadata": {},
   "source": [
    "## Ejercicios - Condicionales"
   ]
  },
  {
   "cell_type": "markdown",
   "id": "f75c9ea8",
   "metadata": {},
   "source": [
    "### Cuidado con los tipos\n",
    "\n",
    "¿Qué texto aparece en pantalla?"
   ]
  },
  {
   "cell_type": "code",
   "execution_count": null,
   "id": "deac8187",
   "metadata": {},
   "outputs": [],
   "source": [
    "if 14 < 120 :\n",
    "    print('primer texto')\n",
    "if '14' < '120' :\n",
    "    print('segundo texto')"
   ]
  },
  {
   "cell_type": "markdown",
   "id": "bccbc31b",
   "metadata": {},
   "source": [
    "### Cuidado con las posibilidades\n",
    "\n",
    "¿Es correcto el siguiente código?"
   ]
  },
  {
   "cell_type": "code",
   "execution_count": null,
   "id": "5cc0b798",
   "metadata": {},
   "outputs": [],
   "source": [
    "firstValue = int(input(\"Inngrese un número: \"))\n",
    "secondValue = int(input(\"Ingrese otro número: \"))\n",
    "\n",
    "if firstValue > secondValue :\n",
    "    maximumValue = firstValue\n",
    "if secondValue > firstValue :\n",
    "    maximumValue = secondValue\n",
    "\n",
    "print(\"el número máximo es:\", maximumValue)"
   ]
  },
  {
   "cell_type": "markdown",
   "id": "a83a18cc",
   "metadata": {},
   "source": [
    "### Horas extras\n",
    "\n",
    "Escriba el código que calcule y muestre el salario de un empleado de manera que cobre 1.5 veces el valor de cada hora que exceda las 40 mensuales."
   ]
  },
  {
   "cell_type": "code",
   "execution_count": null,
   "id": "ed77c115",
   "metadata": {},
   "outputs": [],
   "source": [
    "salary = float(input(\"Ingrese el salario por hora: \"))\n",
    "hours = int(input(\"Ingresa las horas trabajadas: \"))\n",
    "# ..."
   ]
  },
  {
   "cell_type": "markdown",
   "id": "8d1461be",
   "metadata": {},
   "source": [
    "### Calificaciones\n",
    "\n",
    "Escriba el código que determine y muestre la denominación de una calificación de acuerdo al siguiente detalle\n",
    "\n",
    "\n",
    "\\>= 0.9 - Sobresaliente\n",
    "\n",
    "\\>= 0.8 - Notable\n",
    "\n",
    "\\>= 0.7 - Bien\n",
    "\n",
    "\\>= 0.6 - Suficiente\n",
    "\n",
    "\\<  0.6 - Insuficiente\n",
    "\n",
    "Los valores fuera del rango 0.0 y 1.0 no deben aceptarse"
   ]
  },
  {
   "cell_type": "code",
   "execution_count": null,
   "id": "b755c5f4",
   "metadata": {},
   "outputs": [],
   "source": []
  },
  {
   "cell_type": "markdown",
   "id": "9e8cd138",
   "metadata": {},
   "source": [
    "### Pares e Impares\n",
    "\n",
    "Escriba el código que determine si un número ingresado por teclado es par o impar"
   ]
  },
  {
   "cell_type": "code",
   "execution_count": null,
   "id": "9dbf6efd",
   "metadata": {},
   "outputs": [],
   "source": [
    "number = int(input(\"Ingreso un número: \"))\n",
    "# ..."
   ]
  },
  {
   "cell_type": "markdown",
   "id": "c2af0f2a",
   "metadata": {},
   "source": [
    "\n",
    "Escriba el código que determina si un número ingresado por teclado es el doble de un número impar"
   ]
  },
  {
   "cell_type": "code",
   "execution_count": null,
   "id": "be3e977e",
   "metadata": {},
   "outputs": [],
   "source": [
    "number = int(input(\"Ingreso un número: \"))\n",
    "# ..."
   ]
  },
  {
   "cell_type": "markdown",
   "id": "8251de0b",
   "metadata": {},
   "source": [
    "### Año bisiesto\n",
    "\n",
    "Escriba el código que determine si un año ingresado por teclado es bisiesto o no"
   ]
  },
  {
   "cell_type": "code",
   "execution_count": null,
   "id": "e18986e8",
   "metadata": {},
   "outputs": [],
   "source": [
    "year = int(input(\"Ingrese un año: \"))\n",
    "# ..."
   ]
  },
  {
   "cell_type": "markdown",
   "id": "120bb930",
   "metadata": {},
   "source": [
    "### Billeteo\n",
    "\n",
    "Escriba el código que calcule el desglose en billetes y monedas de una cantidad de dinero exacta; hay billetes de 500, 200, 100, 50, 20, 10 y 5 y monedas de 2 y 1.\n",
    "\n",
    "Ejemplo: la cantidad 434 se desglosa en 2 billetes de 200, 1 billete de 20, 1 billete de 10 y 2 monedas de 2"
   ]
  },
  {
   "cell_type": "code",
   "execution_count": null,
   "id": "4e0c20c2",
   "metadata": {},
   "outputs": [],
   "source": [
    "amount = int(input(\"Ingrese la cantidad de dinero: \"))\n",
    "# ..."
   ]
  }
 ],
 "metadata": {
  "kernelspec": {
   "display_name": "Python 3",
   "language": "python",
   "name": "python3"
  },
  "language_info": {
   "codemirror_mode": {
    "name": "ipython",
    "version": 3
   },
   "file_extension": ".py",
   "mimetype": "text/x-python",
   "name": "python",
   "nbconvert_exporter": "python",
   "pygments_lexer": "ipython3",
   "version": "3.8.8"
  }
 },
 "nbformat": 4,
 "nbformat_minor": 5
}
