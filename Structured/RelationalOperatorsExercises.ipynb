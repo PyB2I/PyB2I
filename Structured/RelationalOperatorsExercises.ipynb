{
 "cells": [
  {
   "cell_type": "markdown",
   "id": "2e23f6ef",
   "metadata": {},
   "source": [
    "<img src=\"../Images/Level1Beginner.png\" alt=\"Beginner\" width=\"128\" height=\"128\" align=\"right\">\n",
    "\n",
    "## Ejercicios - Operadores Relacionales"
   ]
  },
  {
   "cell_type": "markdown",
   "id": "dcec3ca0",
   "metadata": {},
   "source": [
    "¿Qué resultado se muestra al evaluar las siguentes expresiones?\n",
    "<span><img src=\"../Images/selected.png\" alt=\"Selected\" width=\"32\" height=\"32\" align=\"right\"></span>"
   ]
  },
  {
   "cell_type": "code",
   "execution_count": null,
   "id": "4fb9aca5",
   "metadata": {},
   "outputs": [],
   "source": [
    "'abalorio' < 'abecedario'"
   ]
  },
  {
   "cell_type": "code",
   "execution_count": null,
   "id": "bb03b9cd",
   "metadata": {},
   "outputs": [],
   "source": [
    "'abecedario' < 'abecedario'"
   ]
  },
  {
   "cell_type": "code",
   "execution_count": null,
   "id": "272db36c",
   "metadata": {},
   "outputs": [],
   "source": [
    "'abecedario' <= 'abecedario'"
   ]
  },
  {
   "cell_type": "code",
   "execution_count": null,
   "id": "7e081b54",
   "metadata": {},
   "outputs": [],
   "source": [
    "'Abecedario' < 'abecedario'"
   ]
  },
  {
   "cell_type": "code",
   "execution_count": null,
   "id": "65a3cb47",
   "metadata": {},
   "outputs": [],
   "source": [
    "'Abecedario' == 'abecedario'"
   ]
  },
  {
   "cell_type": "code",
   "execution_count": null,
   "id": "0c23b33d",
   "metadata": {},
   "outputs": [],
   "source": [
    "124 < 13"
   ]
  },
  {
   "cell_type": "code",
   "execution_count": null,
   "id": "e5610986",
   "metadata": {},
   "outputs": [],
   "source": [
    "'124' < '13'"
   ]
  },
  {
   "cell_type": "code",
   "execution_count": null,
   "id": "25a7015b",
   "metadata": {},
   "outputs": [],
   "source": [
    "' a' < 'a'"
   ]
  },
  {
   "cell_type": "markdown",
   "id": "74bdec6a",
   "metadata": {},
   "source": [
    "<img src=\"../Images/Level2Intermediate.png\" alt=\"Intermediate\" width=\"128\" height=\"128\" align=\"right\">"
   ]
  },
  {
   "cell_type": "code",
   "execution_count": null,
   "id": "3e5d9adb",
   "metadata": {},
   "outputs": [],
   "source": [
    "[1, 2, 3] == [1, 2, 3]"
   ]
  },
  {
   "cell_type": "code",
   "execution_count": null,
   "id": "08ddddd7",
   "metadata": {},
   "outputs": [],
   "source": [
    "[1, 2, 3] is [1, 2, 3]"
   ]
  }
 ],
 "metadata": {
  "kernelspec": {
   "display_name": "Python 3 (ipykernel)",
   "language": "python",
   "name": "python3"
  },
  "language_info": {
   "codemirror_mode": {
    "name": "ipython",
    "version": 3
   },
   "file_extension": ".py",
   "mimetype": "text/x-python",
   "name": "python",
   "nbconvert_exporter": "python",
   "pygments_lexer": "ipython3",
   "version": "3.9.7"
  }
 },
 "nbformat": 4,
 "nbformat_minor": 5
}
