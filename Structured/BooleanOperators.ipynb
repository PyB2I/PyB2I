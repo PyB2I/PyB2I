{
 "cells": [
  {
   "cell_type": "markdown",
   "id": "0422a1d7",
   "metadata": {},
   "source": [
    "## Operadores Lógicos o Booleanos\n",
    "\n",
    "El resultado de una operación lógica o booleana es un valor booleano o valor lógico; las posibilidades son **True** (verdadero o si) o **False** (falso o no).\n",
    "\n",
    "Las operaciones lógicas se aplican a **expresiones lógicas** y son fundamentales para controlar la ejecución o flujo de un programa.\n"
   ]
  },
  {
   "cell_type": "markdown",
   "id": "b6d34e33",
   "metadata": {},
   "source": [
    "### Suma booleana - or\n",
    "\n",
    "En Python el operador **or** realiza la suma booleana, cuyo resultado es verdadero **True** cuando al menos un operador es verdadero\n"
   ]
  },
  {
   "cell_type": "code",
   "execution_count": 3,
   "id": "a75a97ed",
   "metadata": {
    "scrolled": true
   },
   "outputs": [
    {
     "name": "stdout",
     "output_type": "stream",
     "text": [
      "True  or True   = True\n",
      "True  or False  = True\n",
      "False or True   = True\n",
      "False or False  = False\n"
     ]
    }
   ],
   "source": [
    "print(\"True  or True   =\", True or True)\n",
    "print(\"True  or False  =\", True or False)\n",
    "print(\"False or True   =\", False or True)\n",
    "print(\"False or False  =\", False or False)"
   ]
  },
  {
   "cell_type": "markdown",
   "id": "02b8d228",
   "metadata": {},
   "source": [
    "### Producto booleano - and\n",
    "\n",
    "En Python el operador **and** realiza el producto booleano, cuyo resultado es verdadero **True** solo cuando todos los operadores son verdaderos\n"
   ]
  },
  {
   "cell_type": "code",
   "execution_count": 4,
   "id": "37966150",
   "metadata": {
    "scrolled": true
   },
   "outputs": [
    {
     "name": "stdout",
     "output_type": "stream",
     "text": [
      "True  and True   = True\n",
      "True  and False  = False\n",
      "False and True   = False\n",
      "False and False  = False\n"
     ]
    }
   ],
   "source": [
    "print(\"True  and True   =\", True and True)\n",
    "print(\"True  and False  =\", True and False)\n",
    "print(\"False and True   =\", False and True)\n",
    "print(\"False and False  =\", False and False)"
   ]
  }
 ],
 "metadata": {
  "kernelspec": {
   "display_name": "Python 3",
   "language": "python",
   "name": "python3"
  },
  "language_info": {
   "codemirror_mode": {
    "name": "ipython",
    "version": 3
   },
   "file_extension": ".py",
   "mimetype": "text/x-python",
   "name": "python",
   "nbconvert_exporter": "python",
   "pygments_lexer": "ipython3",
   "version": "3.8.8"
  }
 },
 "nbformat": 4,
 "nbformat_minor": 5
}
