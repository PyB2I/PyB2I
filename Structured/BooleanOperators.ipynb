{
 "cells": [
  {
   "cell_type": "markdown",
   "id": "0422a1d7",
   "metadata": {},
   "source": [
    "<img src=\"../Images/Level1Beginner.png\" alt=\"Beginner\" width=\"128\" height=\"128\" align=\"right\">\n",
    "\n",
    "## Operadores Lógicos o Booleanos\n",
    "\n",
    "El resultado de una operación lógica o booleana es un valor booleano o valor lógico; las posibilidades son **True** (verdadero o si) o **False** (falso o no).\n",
    "\n",
    "Las operaciones lógicas se aplican a **expresiones lógicas** y son fundamentales para controlar la ejecución o flujo de un programa.\n"
   ]
  },
  {
   "cell_type": "markdown",
   "id": "b6d34e33",
   "metadata": {},
   "source": [
    "### Suma booleana - or\n",
    "\n",
    "En Python el operador **or** realiza la suma booleana, cuyo resultado es verdadero **True** cuando **al menos un operador es verdadero**.\n"
   ]
  },
  {
   "cell_type": "code",
   "execution_count": null,
   "id": "a75a97ed",
   "metadata": {
    "scrolled": true
   },
   "outputs": [],
   "source": [
    "print(\"True  or True   =\", True or True)\n",
    "print(\"True  or False  =\", True or False)\n",
    "print(\"False or True   =\", False or True)\n",
    "print(\"False or False  =\", False or False)"
   ]
  },
  {
   "cell_type": "markdown",
   "id": "02b8d228",
   "metadata": {},
   "source": [
    "### Producto booleano - and\n",
    "\n",
    "En Python el operador **and** realiza el producto booleano, cuyo resultado es verdadero **True** solo cuando **todos los operadores son verdaderos**.\n"
   ]
  },
  {
   "cell_type": "code",
   "execution_count": null,
   "id": "37966150",
   "metadata": {
    "scrolled": true
   },
   "outputs": [],
   "source": [
    "print(\"True  and True   =\", True and True)\n",
    "print(\"True  and False  =\", True and False)\n",
    "print(\"False and True   =\", False and True)\n",
    "print(\"False and False  =\", False and False)"
   ]
  }
 ],
 "metadata": {
  "kernelspec": {
   "display_name": "Python 3 (ipykernel)",
   "language": "python",
   "name": "python3"
  },
  "language_info": {
   "codemirror_mode": {
    "name": "ipython",
    "version": 3
   },
   "file_extension": ".py",
   "mimetype": "text/x-python",
   "name": "python",
   "nbconvert_exporter": "python",
   "pygments_lexer": "ipython3",
   "version": "3.9.7"
  }
 },
 "nbformat": 4,
 "nbformat_minor": 5
}
