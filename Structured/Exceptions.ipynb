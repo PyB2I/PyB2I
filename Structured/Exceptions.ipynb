{
 "cells": [
  {
   "cell_type": "markdown",
   "id": "e9fd7107",
   "metadata": {},
   "source": [
    "# Excepciones en Python\n",
    "\n",
    "El código (sentencias) se escribe para que un dispositivo progamable **haga algo** en **determinadas condiciones**, cuando esas condiciones no se cumplen ocurren situaciones inesperadas y extrañas, situaciones exepcionales que impiden que el código continúe ejecutándose, para ello Python facilita sentencias que permiten manejar las exepciones\n"
   ]
  },
  {
   "cell_type": "markdown",
   "id": "d8774250",
   "metadata": {},
   "source": [
    "El siguiente código permite **atrapar la exepción** que ocurre cuando se pretende convertir a entero una cadena de caracteres vacía o que no contiene una expresión numérica válida"
   ]
  },
  {
   "cell_type": "code",
   "execution_count": 4,
   "id": "a6356c22",
   "metadata": {},
   "outputs": [
    {
     "name": "stdout",
     "output_type": "stream",
     "text": [
      "Ingrese un número: \n",
      "Por favor ingrese un número válido ...\n"
     ]
    }
   ],
   "source": [
    "   \n",
    "try :\n",
    "    value = int(input(\"Ingrese un número: \"))\n",
    "except :\n",
    "    print(\"Por favor ingrese un número válido ...\")\n",
    "        "
   ]
  },
  {
   "cell_type": "markdown",
   "id": "daa6946b",
   "metadata": {},
   "source": [
    "Para cumplir con el objetivo de ingresar un valor numérico el código debe estar en una estructura repetitiva"
   ]
  },
  {
   "cell_type": "code",
   "execution_count": null,
   "id": "946644c5",
   "metadata": {},
   "outputs": [],
   "source": [
    "\n",
    "while True :\n",
    "       \n",
    "    try :\n",
    "        value = int(input(\"Ingrese un número: \"))\n",
    "        break\n",
    "    except :\n",
    "        print(\"Por favor ingrese un número válido ...\")\n"
   ]
  },
  {
   "cell_type": "markdown",
   "id": "832af67f",
   "metadata": {},
   "source": [
    "### Tratamiento de excepciones\n",
    "\n",
    "La cláusula **except** atrapa cualquier excepción que pueda ocurrir; sin embargo es una buena práctica organizar el tratamiento de diferentes excepciones, para ello a continucación de la cláusula **except** es posible indicar uno o más identificadores de excepciones ya definidas en el lenguaje o especialmente defindas por el desarrollador; ver [Excepciones incorporadas](https://docs.python.org/es/3/library/exceptions.html)\n",
    "\n",
    "Cuando se indican identificadores de excepciones para su tratamiento, la cláusla **except** sin indicar excepción alguna debe ser la última de manea que se pueda atrapar cualquier excepción que no esté considerada antes\n",
    "\n"
   ]
  },
  {
   "cell_type": "code",
   "execution_count": 5,
   "id": "acdff3e2",
   "metadata": {},
   "outputs": [],
   "source": [
    "# ...\n",
    "\n",
    "try :\n",
    "    # hacer algo\n",
    "    a = None\n",
    "    # ...\n",
    "    \n",
    "except ValueError :\n",
    "    print(\"Problemas con en el valor esperado ...\")\n",
    "\n",
    "except IOErrror :\n",
    "    print(\"Problemas de entrada/salida ...\")\n",
    "    \n",
    "except :\n",
    "    print(\"Problema no identificado ...\")\n",
    "\n",
    "# ...\n"
   ]
  },
  {
   "cell_type": "markdown",
   "id": "dee5fce8",
   "metadata": {},
   "source": [
    "Las acciones que deben ejecutarse para cada excepción incluso para las no identificadas dependen del contexto del proceso en el que se ejecuta el código\n",
    "\n",
    "El **código de propósito general** no puede determinar el contexto del proceso de modo que deben implementar **mecanismos robustos** para tratar las excepciones que pueden ocurrir incluso para lanzar o disparar sus propias excepciones"
   ]
  }
 ],
 "metadata": {
  "kernelspec": {
   "display_name": "Python 3",
   "language": "python",
   "name": "python3"
  },
  "language_info": {
   "codemirror_mode": {
    "name": "ipython",
    "version": 3
   },
   "file_extension": ".py",
   "mimetype": "text/x-python",
   "name": "python",
   "nbconvert_exporter": "python",
   "pygments_lexer": "ipython3",
   "version": "3.8.8"
  }
 },
 "nbformat": 4,
 "nbformat_minor": 5
}
