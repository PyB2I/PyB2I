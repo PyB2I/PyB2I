{
 "cells": [
  {
   "cell_type": "markdown",
   "id": "0531c240",
   "metadata": {},
   "source": [
    "<img src=\"../Images/Level1Beginner.png\" alt=\"Beginner\" width=\"128\" height=\"128\" align=\"right\">\n",
    "\n",
    "## Repeticiones\n",
    "\n",
    "Repetir sentencias es un concepto importante de la programación, cada lenguaje de programación facilitan instrucciones para lograr repetir un bloque de sentencias.\n",
    "\n",
    "En Python se **identifica un bloque de sentencias** porque **tienen la misma indentación**.\n",
    "\n",
    "Las instrucciones o sentencias que permiten realizar repeticiones utilizan una **expresión de control** que permite continuar ejecutando el bloque de sentencias; esta **expresión de control** a veces está explicita y otras se debe comprender.\n"
   ]
  },
  {
   "cell_type": "markdown",
   "id": "df641fa8",
   "metadata": {},
   "source": [
    "### while\n",
    "\n",
    "Ejecuta un bloque de sentencias \"mientras\" el resultado de una expresión lógica es **verdadero**."
   ]
  },
  {
   "cell_type": "code",
   "execution_count": null,
   "id": "266f39de",
   "metadata": {},
   "outputs": [],
   "source": [
    "\n",
    "value = 0\n",
    "while value < 5 :\n",
    "    # hacer algo\n",
    "    value = value + 1\n",
    "    "
   ]
  },
  {
   "cell_type": "markdown",
   "id": "4d5e1872",
   "metadata": {},
   "source": [
    "Repetición **infinita**, solo se abandona el ciclo de repetición mediante una sentencia dentro del bloque de sentencias."
   ]
  },
  {
   "cell_type": "code",
   "execution_count": null,
   "id": "7fca4b71",
   "metadata": {},
   "outputs": [],
   "source": [
    "\n",
    "while True :\n",
    "    # hacer algo\n"
   ]
  },
  {
   "cell_type": "markdown",
   "id": "dd21ab86",
   "metadata": {},
   "source": [
    "### for\n",
    "\n",
    "Ejecuta un bloque de sentencias **para cada elemento de una colección o secuencia**.\n",
    "\n",
    "En este caso la **expresión de control** es no superar los elementos de la colección o secuencia.\n"
   ]
  },
  {
   "cell_type": "code",
   "execution_count": null,
   "id": "cde9597f",
   "metadata": {},
   "outputs": [],
   "source": [
    "\n",
    "for value in [\"primer elemento\", \"segundo elemento\", \"tercer elemento\"] :\n",
    "    print(value)\n"
   ]
  },
  {
   "cell_type": "code",
   "execution_count": null,
   "id": "14fc21e0",
   "metadata": {},
   "outputs": [],
   "source": [
    "\n",
    "for number in range(3) :\n",
    "    print(number)\n"
   ]
  },
  {
   "cell_type": "code",
   "execution_count": null,
   "id": "7637535f",
   "metadata": {},
   "outputs": [],
   "source": [
    "\n",
    "for index in range(1, 6, 2) :\n",
    "    print(index)\n"
   ]
  },
  {
   "cell_type": "code",
   "execution_count": null,
   "id": "d505a36c",
   "metadata": {},
   "outputs": [],
   "source": [
    "\n",
    "for index, value in enumerate([\"primer elemento\", \"segundo elemento\", \"tercer elemento\"]) :\n",
    "    print(value, \"están en la posición\", index)\n"
   ]
  },
  {
   "cell_type": "markdown",
   "id": "8388316d",
   "metadata": {},
   "source": [
    "### break\n",
    "\n",
    "Abandona el bloque de repetición"
   ]
  },
  {
   "cell_type": "code",
   "execution_count": null,
   "id": "563a83eb",
   "metadata": {},
   "outputs": [],
   "source": [
    "\n",
    "value = 0\n",
    "while value < 5 :\n",
    "    value += 1\n",
    "    if value == 3 :\n",
    "        print(\"Abandonar el bloque de repetición\")\n",
    "        break\n",
    "    print(\"Valor\", value)\n"
   ]
  },
  {
   "cell_type": "code",
   "execution_count": null,
   "id": "e39c2dc3",
   "metadata": {},
   "outputs": [],
   "source": [
    "\n",
    "for value in [46, 30, 7, 12, 9] :\n",
    "    if value % 2 != 0 :\n",
    "        print(\"Abandonar el bloque de repetición\")\n",
    "        break\n",
    "    print(\"Valor\", value)\n"
   ]
  },
  {
   "cell_type": "markdown",
   "id": "a8b6f589",
   "metadata": {},
   "source": [
    "### continue\n",
    "\n",
    "Salta a evaluar la expresión de control ignorando el resto de sentencias del bloque"
   ]
  },
  {
   "cell_type": "code",
   "execution_count": null,
   "id": "1cc33076",
   "metadata": {},
   "outputs": [],
   "source": [
    "\n",
    "value = 0\n",
    "while value < 5 :\n",
    "    value += 1\n",
    "    if value == 3 :\n",
    "        print(\"Ignorar las sentencias\")\n",
    "        continue\n",
    "    print(\"Valor\", value)\n"
   ]
  },
  {
   "cell_type": "code",
   "execution_count": null,
   "id": "43bc393e",
   "metadata": {},
   "outputs": [],
   "source": [
    "\n",
    "for value in [46, 30, 7, 12, 9] :\n",
    "    if value % 2 != 0 :\n",
    "        print(\"Ignorar las sentencias\")\n",
    "        continue\n",
    "    print(\"Valor\", value)\n"
   ]
  },
  {
   "cell_type": "markdown",
   "id": "98cc7303",
   "metadata": {},
   "source": [
    "### pass\n",
    "\n",
    "En Python es obligatorio codificar una sentencia después de una instrucción de repetición (también se debe hacer despues de una instrucción condicional).\n",
    "\n",
    "A veces se desea contar con la porción de código pero todavía no se tienen el bloque de sentencias, en estos casos se puede utilizar la instrucción **pass** que **no hace nada**.\n",
    "\n",
    "No es una buena práctica dejar el código con este tipo de instrucciones."
   ]
  },
  {
   "cell_type": "code",
   "execution_count": null,
   "id": "5d883af7",
   "metadata": {},
   "outputs": [],
   "source": [
    "# ejecute esta celda, luego comente la linea con la sentencia pass y ejecute la celda\n",
    "for value in range(10) :\n",
    "    pass\n",
    "\n",
    "print(\"ya pasé la repetición...\")\n"
   ]
  },
  {
   "cell_type": "markdown",
   "id": "17717c73",
   "metadata": {},
   "source": [
    "<img src=\"../Images/Level2Intermediate.png\" alt=\"Intermediate\" width=\"128\" height=\"128\" align=\"right\">"
   ]
  },
  {
   "cell_type": "markdown",
   "id": "4c87bad1",
   "metadata": {},
   "source": [
    "### else en las repeticiones\n",
    "\n",
    "Se ejecuta al finalizar las repeticiones **excepto cuando se abandona mediante break**."
   ]
  },
  {
   "cell_type": "code",
   "execution_count": null,
   "id": "cd34ee93",
   "metadata": {},
   "outputs": [],
   "source": [
    "\n",
    "value = 0\n",
    "while value < 8 :\n",
    "    value += 1\n",
    "    if value == 3 :\n",
    "        print(\"Ignorar las sentencias\")\n",
    "        continue\n",
    "    if value == 4 :\n",
    "        print(\"Abandonar el bloque de repetición\")\n",
    "        break\n",
    "    print(\"Valor\", value)\n",
    "else :\n",
    "    print(\"se finalizó la repetición\")\n"
   ]
  },
  {
   "cell_type": "code",
   "execution_count": null,
   "id": "39ebcfdf",
   "metadata": {},
   "outputs": [],
   "source": [
    "\n",
    "for value in [46, 30, 7, 1, 9] :\n",
    "    if value % 2 != 0 :\n",
    "        print(\"Ignorar las sentencias\")\n",
    "        continue\n",
    "    if value % 12 == 0 :\n",
    "        print(\"Abandonar el bloque de repetición\")\n",
    "        break\n",
    "    print(\"Valor\", value)\n",
    "else :\n",
    "    print(\"se finalizó la repetición\")\n"
   ]
  }
 ],
 "metadata": {
  "kernelspec": {
   "display_name": "Python 3 (ipykernel)",
   "language": "python",
   "name": "python3"
  },
  "language_info": {
   "codemirror_mode": {
    "name": "ipython",
    "version": 3
   },
   "file_extension": ".py",
   "mimetype": "text/x-python",
   "name": "python",
   "nbconvert_exporter": "python",
   "pygments_lexer": "ipython3",
   "version": "3.9.7"
  }
 },
 "nbformat": 4,
 "nbformat_minor": 5
}
