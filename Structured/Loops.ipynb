{
 "cells": [
  {
   "cell_type": "markdown",
   "id": "0531c240",
   "metadata": {},
   "source": [
    "## Repeticiones\n",
    "\n",
    "Repetir sentencias es un concepto importante de la programación, cada lenguaje de programación facilitan instrucciones para lograr repetir un bloque de sentencias.\n",
    "\n",
    "**En Python se identifica un bloque de sentencias porque tienen la misma indentación**.\n"
   ]
  },
  {
   "cell_type": "markdown",
   "id": "df641fa8",
   "metadata": {},
   "source": [
    "### While\n",
    "\n",
    "Ejecuta un bloque de sentencias \"mientras\" el resultado de una condición es **verdadero**."
   ]
  },
  {
   "cell_type": "code",
   "execution_count": null,
   "id": "266f39de",
   "metadata": {},
   "outputs": [],
   "source": [
    "\n",
    "value = 0\n",
    "while value < 5 :\n",
    "    # hacer algo\n",
    "    value = value + 1\n",
    "    "
   ]
  },
  {
   "cell_type": "markdown",
   "id": "4d5e1872",
   "metadata": {},
   "source": [
    "Repetición **infinita**, solo se abandona el ciclo de repetición mediante una sentencia dentro del bloque de sentencias."
   ]
  },
  {
   "cell_type": "code",
   "execution_count": null,
   "id": "7fca4b71",
   "metadata": {},
   "outputs": [],
   "source": [
    "\n",
    "while True :\n",
    "    # hacer algo\n"
   ]
  },
  {
   "cell_type": "markdown",
   "id": "dd21ab86",
   "metadata": {},
   "source": [
    "### For\n",
    "\n",
    "Ejecuta un bloque de sentencias **para cada elemento de una colección**\n"
   ]
  },
  {
   "cell_type": "code",
   "execution_count": null,
   "id": "cde9597f",
   "metadata": {},
   "outputs": [],
   "source": [
    "\n",
    "for value in [\"primer elemento\", \"segundo elemento\", \"tercer elemento\"] :\n",
    "    print(value)\n"
   ]
  },
  {
   "cell_type": "code",
   "execution_count": null,
   "id": "14fc21e0",
   "metadata": {},
   "outputs": [],
   "source": [
    "\n",
    "for number in range(3) :\n",
    "    print(number)\n"
   ]
  },
  {
   "cell_type": "code",
   "execution_count": null,
   "id": "7637535f",
   "metadata": {},
   "outputs": [],
   "source": [
    "\n",
    "for index in range(1, 6, 2) :\n",
    "    print(index)\n"
   ]
  },
  {
   "cell_type": "code",
   "execution_count": null,
   "id": "d505a36c",
   "metadata": {},
   "outputs": [],
   "source": [
    "\n",
    "for index, value in enumerate([\"primer elemento\", \"segundo elemento\", \"tercer elemento\"]) :\n",
    "    print(value, \"están en la posición\", index)\n"
   ]
  },
  {
   "cell_type": "markdown",
   "id": "8388316d",
   "metadata": {},
   "source": [
    "### Break\n",
    "\n",
    "Abandona el bloque de repetición"
   ]
  },
  {
   "cell_type": "code",
   "execution_count": null,
   "id": "563a83eb",
   "metadata": {},
   "outputs": [],
   "source": [
    "\n",
    "value = 0\n",
    "while value < 5 :\n",
    "    value += 1\n",
    "    if value == 3 :\n",
    "        print(\"Abandonar el bloque de repetición\")\n",
    "        break\n",
    "    print(\"Valor\", value)\n"
   ]
  },
  {
   "cell_type": "code",
   "execution_count": null,
   "id": "e39c2dc3",
   "metadata": {},
   "outputs": [],
   "source": [
    "\n",
    "for value in [48, 32, 7, 4, 9] :\n",
    "    if value % 2 != 0 :\n",
    "        break\n",
    "    print(\"Valor\", value)\n"
   ]
  },
  {
   "cell_type": "markdown",
   "id": "a8b6f589",
   "metadata": {},
   "source": [
    "### Continue\n",
    "\n",
    "Salta a la siguiente iteración ignorando el resto de sentencias del bloque"
   ]
  },
  {
   "cell_type": "code",
   "execution_count": null,
   "id": "1cc33076",
   "metadata": {},
   "outputs": [],
   "source": [
    "\n",
    "value = 0\n",
    "while value < 5 :\n",
    "    value += 1\n",
    "    if value == 3 :\n",
    "        print(\"Ignorar las sentencias\")\n",
    "        continue\n",
    "    print(\"Valor\", value)\n"
   ]
  },
  {
   "cell_type": "code",
   "execution_count": null,
   "id": "43bc393e",
   "metadata": {},
   "outputs": [],
   "source": [
    "\n",
    "for value in [48, 32, 7, 4, 9] :\n",
    "    if value % 2 != 0 :\n",
    "        continue\n",
    "    print(\"Valor\", value)\n"
   ]
  }
 ],
 "metadata": {
  "kernelspec": {
   "display_name": "Python 3 (ipykernel)",
   "language": "python",
   "name": "python3"
  },
  "language_info": {
   "codemirror_mode": {
    "name": "ipython",
    "version": 3
   },
   "file_extension": ".py",
   "mimetype": "text/x-python",
   "name": "python",
   "nbconvert_exporter": "python",
   "pygments_lexer": "ipython3",
   "version": "3.9.7"
  }
 },
 "nbformat": 4,
 "nbformat_minor": 5
}
