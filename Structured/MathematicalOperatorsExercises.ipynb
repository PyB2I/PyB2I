{
 "cells": [
  {
   "cell_type": "markdown",
   "id": "0422a1d7",
   "metadata": {},
   "source": [
    "## Ejercicios con Operadores Matemáticos"
   ]
  },
  {
   "cell_type": "markdown",
   "id": "a8f2ff4f",
   "metadata": {},
   "source": [
    "\n",
    "Evalúa mentalmente las expresiones, luego confirma el resultado ejecutando\n"
   ]
  },
  {
   "cell_type": "code",
   "execution_count": null,
   "id": "f5a2adb7",
   "metadata": {
    "scrolled": true
   },
   "outputs": [],
   "source": [
    "2 + 3 + 1 + 2"
   ]
  },
  {
   "cell_type": "code",
   "execution_count": null,
   "id": "5ae05c05",
   "metadata": {
    "scrolled": true
   },
   "outputs": [],
   "source": [
    "2 + 3 * 1 + 2"
   ]
  },
  {
   "cell_type": "code",
   "execution_count": null,
   "id": "54fba8a3",
   "metadata": {
    "scrolled": true
   },
   "outputs": [],
   "source": [
    "(2 + 3) * 1 + 2"
   ]
  },
  {
   "cell_type": "code",
   "execution_count": null,
   "id": "9d6bbd68",
   "metadata": {},
   "outputs": [],
   "source": [
    "(2 + 3) * (1 + 2)"
   ]
  },
  {
   "cell_type": "code",
   "execution_count": null,
   "id": "dcbc35c6",
   "metadata": {},
   "outputs": [],
   "source": [
    "+---6"
   ]
  },
  {
   "cell_type": "code",
   "execution_count": null,
   "id": "d94d42e0",
   "metadata": {
    "scrolled": true
   },
   "outputs": [],
   "source": [
    "-+-+6"
   ]
  },
  {
   "cell_type": "code",
   "execution_count": null,
   "id": "2c0b9343",
   "metadata": {
    "scrolled": true
   },
   "outputs": [],
   "source": [
    "2 + 3 * 6 / 2"
   ]
  },
  {
   "cell_type": "code",
   "execution_count": null,
   "id": "85d189ee",
   "metadata": {
    "scrolled": true
   },
   "outputs": [],
   "source": [
    "(4 + 6) / (2 + 3)"
   ]
  },
  {
   "cell_type": "code",
   "execution_count": null,
   "id": "d87fa7dd",
   "metadata": {},
   "outputs": [],
   "source": [
    "(4 / 2) ** 5"
   ]
  },
  {
   "cell_type": "code",
   "execution_count": null,
   "id": "ed581935",
   "metadata": {},
   "outputs": [],
   "source": [
    "(4 / 2) ** 5 + 1"
   ]
  },
  {
   "cell_type": "code",
   "execution_count": null,
   "id": "b18f098f",
   "metadata": {
    "scrolled": true
   },
   "outputs": [],
   "source": [
    "(4 / 2) ** (5 + 1)"
   ]
  },
  {
   "cell_type": "code",
   "execution_count": null,
   "id": "0b4c87e0",
   "metadata": {},
   "outputs": [],
   "source": [
    "-3 ** 2"
   ]
  },
  {
   "cell_type": "code",
   "execution_count": null,
   "id": "9aba7765",
   "metadata": {
    "scrolled": true
   },
   "outputs": [],
   "source": [
    "(-3) ** 2"
   ]
  },
  {
   "cell_type": "code",
   "execution_count": null,
   "id": "cf3211e2",
   "metadata": {
    "scrolled": true
   },
   "outputs": [],
   "source": [
    "1 / 2 / 4.0"
   ]
  },
  {
   "cell_type": "code",
   "execution_count": null,
   "id": "b92caa69",
   "metadata": {},
   "outputs": [],
   "source": [
    "1 / 2.0 / 4.0"
   ]
  },
  {
   "cell_type": "code",
   "execution_count": null,
   "id": "be9c5980",
   "metadata": {
    "scrolled": true
   },
   "outputs": [],
   "source": [
    "1 / 2.0 / 4"
   ]
  },
  {
   "cell_type": "code",
   "execution_count": null,
   "id": "1783179a",
   "metadata": {
    "scrolled": true
   },
   "outputs": [],
   "source": [
    "1.0 / 2 / 4"
   ]
  },
  {
   "cell_type": "code",
   "execution_count": null,
   "id": "d0ca716e",
   "metadata": {
    "scrolled": true
   },
   "outputs": [],
   "source": [
    "4 ** .5"
   ]
  },
  {
   "cell_type": "code",
   "execution_count": null,
   "id": "a6898913",
   "metadata": {},
   "outputs": [],
   "source": [
    "4.0 ** (1 / 2)"
   ]
  },
  {
   "cell_type": "code",
   "execution_count": null,
   "id": "b842e349",
   "metadata": {
    "scrolled": true
   },
   "outputs": [],
   "source": [
    "4.0 ** (1 / 2) + 1 / 2"
   ]
  },
  {
   "cell_type": "code",
   "execution_count": null,
   "id": "989fe3e3",
   "metadata": {},
   "outputs": [],
   "source": [
    "4.0 ** (1.0 / 2) + 1 / 2.0"
   ]
  },
  {
   "cell_type": "code",
   "execution_count": null,
   "id": "bc79ac72",
   "metadata": {},
   "outputs": [],
   "source": [
    "3e3 / 10"
   ]
  },
  {
   "cell_type": "code",
   "execution_count": null,
   "id": "c5d10802",
   "metadata": {},
   "outputs": [],
   "source": [
    "10 / 5e-3"
   ]
  },
  {
   "cell_type": "code",
   "execution_count": null,
   "id": "9cb9102d",
   "metadata": {},
   "outputs": [],
   "source": [
    "10 / 5e-3 + 1"
   ]
  },
  {
   "cell_type": "code",
   "execution_count": null,
   "id": "af95ae6b",
   "metadata": {},
   "outputs": [],
   "source": [
    " 3 / 2 + 1"
   ]
  }
 ],
 "metadata": {
  "kernelspec": {
   "display_name": "Python 3",
   "language": "python",
   "name": "python3"
  },
  "language_info": {
   "codemirror_mode": {
    "name": "ipython",
    "version": 3
   },
   "file_extension": ".py",
   "mimetype": "text/x-python",
   "name": "python",
   "nbconvert_exporter": "python",
   "pygments_lexer": "ipython3",
   "version": "3.8.8"
  }
 },
 "nbformat": 4,
 "nbformat_minor": 5
}
