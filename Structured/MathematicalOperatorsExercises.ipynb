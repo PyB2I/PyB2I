{
 "cells": [
  {
   "cell_type": "markdown",
   "id": "0422a1d7",
   "metadata": {},
   "source": [
    "<img src=\"../Images/Level1Beginner.png\" alt=\"Beginner\" width=\"128\" height=\"128\" align=\"right\">\n",
    "\n",
    "## Ejercicios - Operadores Matemáticos"
   ]
  },
  {
   "cell_type": "markdown",
   "id": "a8f2ff4f",
   "metadata": {},
   "source": [
    "\n",
    "Evalúa mentalmente las expresiones, luego confirma el resultado ejecutando la expresión\n",
    "<span><img src=\"../Images/selected.png\" alt=\"Selected\" width=\"32\" height=\"32\" align=\"right\"></span>\n"
   ]
  },
  {
   "cell_type": "code",
   "execution_count": null,
   "id": "f5a2adb7",
   "metadata": {
    "scrolled": true
   },
   "outputs": [],
   "source": [
    "2 + 3 + 1 + 2"
   ]
  },
  {
   "cell_type": "code",
   "execution_count": null,
   "id": "5ae05c05",
   "metadata": {
    "scrolled": true
   },
   "outputs": [],
   "source": [
    "2 + 3 * 1 + 2"
   ]
  },
  {
   "cell_type": "code",
   "execution_count": null,
   "id": "54fba8a3",
   "metadata": {
    "scrolled": true
   },
   "outputs": [],
   "source": [
    "(2 + 3) * 1 + 2"
   ]
  },
  {
   "cell_type": "code",
   "execution_count": null,
   "id": "9d6bbd68",
   "metadata": {},
   "outputs": [],
   "source": [
    "(2 + 3) * (1 + 2)"
   ]
  },
  {
   "cell_type": "code",
   "execution_count": null,
   "id": "dcbc35c6",
   "metadata": {},
   "outputs": [],
   "source": [
    "+---6"
   ]
  },
  {
   "cell_type": "code",
   "execution_count": null,
   "id": "d94d42e0",
   "metadata": {
    "scrolled": true
   },
   "outputs": [],
   "source": [
    "-+-+6"
   ]
  },
  {
   "cell_type": "code",
   "execution_count": null,
   "id": "2c0b9343",
   "metadata": {
    "scrolled": true
   },
   "outputs": [],
   "source": [
    "2 + 3 * 6 / 2"
   ]
  },
  {
   "cell_type": "code",
   "execution_count": null,
   "id": "85d189ee",
   "metadata": {
    "scrolled": true
   },
   "outputs": [],
   "source": [
    "(4 + 6) / (2 + 3)"
   ]
  },
  {
   "cell_type": "code",
   "execution_count": null,
   "id": "d87fa7dd",
   "metadata": {},
   "outputs": [],
   "source": [
    "(4 / 2) ** 5"
   ]
  },
  {
   "cell_type": "code",
   "execution_count": null,
   "id": "ed581935",
   "metadata": {},
   "outputs": [],
   "source": [
    "(4 / 2) ** 5 + 1"
   ]
  },
  {
   "cell_type": "code",
   "execution_count": null,
   "id": "b18f098f",
   "metadata": {
    "scrolled": true
   },
   "outputs": [],
   "source": [
    "(4 / 2) ** (5 + 1)"
   ]
  },
  {
   "cell_type": "code",
   "execution_count": null,
   "id": "0b4c87e0",
   "metadata": {},
   "outputs": [],
   "source": [
    "-3 ** 2"
   ]
  },
  {
   "cell_type": "code",
   "execution_count": null,
   "id": "9aba7765",
   "metadata": {
    "scrolled": true
   },
   "outputs": [],
   "source": [
    "(-3) ** 2"
   ]
  },
  {
   "cell_type": "code",
   "execution_count": null,
   "id": "cf3211e2",
   "metadata": {
    "scrolled": true
   },
   "outputs": [],
   "source": [
    "1 / 2 / 4.0"
   ]
  },
  {
   "cell_type": "code",
   "execution_count": null,
   "id": "b92caa69",
   "metadata": {},
   "outputs": [],
   "source": [
    "1 / 2.0 / 4.0"
   ]
  },
  {
   "cell_type": "code",
   "execution_count": null,
   "id": "be9c5980",
   "metadata": {
    "scrolled": true
   },
   "outputs": [],
   "source": [
    "1 / 2.0 / 4"
   ]
  },
  {
   "cell_type": "code",
   "execution_count": null,
   "id": "1783179a",
   "metadata": {
    "scrolled": true
   },
   "outputs": [],
   "source": [
    "1.0 / 2 / 4"
   ]
  },
  {
   "cell_type": "code",
   "execution_count": null,
   "id": "d0ca716e",
   "metadata": {
    "scrolled": true
   },
   "outputs": [],
   "source": [
    "4 ** .5"
   ]
  },
  {
   "cell_type": "code",
   "execution_count": null,
   "id": "a6898913",
   "metadata": {},
   "outputs": [],
   "source": [
    "4.0 ** (1 / 2)"
   ]
  },
  {
   "cell_type": "code",
   "execution_count": null,
   "id": "b842e349",
   "metadata": {
    "scrolled": true
   },
   "outputs": [],
   "source": [
    "4.0 ** (1 / 2) + 1 / 2"
   ]
  },
  {
   "cell_type": "code",
   "execution_count": null,
   "id": "989fe3e3",
   "metadata": {},
   "outputs": [],
   "source": [
    "4.0 ** (1.0 / 2) + 1 / 2.0"
   ]
  },
  {
   "cell_type": "code",
   "execution_count": null,
   "id": "bc79ac72",
   "metadata": {},
   "outputs": [],
   "source": [
    "3e3 / 10"
   ]
  },
  {
   "cell_type": "code",
   "execution_count": null,
   "id": "c5d10802",
   "metadata": {},
   "outputs": [],
   "source": [
    "10 / 5e-3"
   ]
  },
  {
   "cell_type": "code",
   "execution_count": null,
   "id": "9cb9102d",
   "metadata": {},
   "outputs": [],
   "source": [
    "10 / 5e-3 + 1"
   ]
  },
  {
   "cell_type": "code",
   "execution_count": null,
   "id": "af95ae6b",
   "metadata": {},
   "outputs": [],
   "source": [
    " 3 / 2 + 1"
   ]
  },
  {
   "cell_type": "markdown",
   "id": "0a61ae1c",
   "metadata": {},
   "source": [
    "\n",
    "Toda expresión matemática elevada a la potencia cero es igual a uno; toda expresión matemática multiplicada por cero es igual a cero.\n",
    "\n",
    "Incorpore paréntesis en el o los lugares correctos para que los resultados de las siguientes expresiones respeten las propiedades indicadas anteriormente\n"
   ]
  },
  {
   "cell_type": "code",
   "execution_count": null,
   "id": "64d9b42b",
   "metadata": {},
   "outputs": [],
   "source": [
    "99 + 20 + 11 * 0"
   ]
  },
  {
   "cell_type": "code",
   "execution_count": null,
   "id": "6496e0b5",
   "metadata": {},
   "outputs": [],
   "source": [
    "23 ** 7 * 1 ** 0"
   ]
  },
  {
   "cell_type": "code",
   "execution_count": null,
   "id": "eb6d2764",
   "metadata": {},
   "outputs": [],
   "source": [
    "12 * 5 - 200 ** 0 * 0"
   ]
  },
  {
   "cell_type": "code",
   "execution_count": null,
   "id": "9c0661bf",
   "metadata": {},
   "outputs": [],
   "source": [
    "23 ** 7 * 1 ** 0"
   ]
  },
  {
   "cell_type": "markdown",
   "id": "b57f1a8b",
   "metadata": {},
   "source": [
    "<img src=\"../Images/Level2Intermediate.png\" alt=\"Intermediate\" width=\"128\" height=\"128\" align=\"right\">"
   ]
  },
  {
   "cell_type": "markdown",
   "id": "83ee6d00",
   "metadata": {},
   "source": [
    "### Billeteo (con operaciones matemáticas ...)\n",
    "\n",
    "Escriba el código que calcule el desglose en billetes y monedas de una cantidad de dinero exacta.\n",
    "\n",
    "Existen billetes de 500, 200, 100, 50, 20, 10 y 5 y monedas de 2 y 1.\n",
    "\n",
    "Ejemplo: la cantidad 434 se desglosa en 2 billetes de 200, 1 billete de 20, 1 billete de 10 y 2 monedas de 2.\n",
    "\n",
    "Indagar con certeza la definición y forma de realizar el desglose en billetes y monedas de un importe ..."
   ]
  },
  {
   "cell_type": "code",
   "execution_count": null,
   "id": "5b54aef1",
   "metadata": {},
   "outputs": [],
   "source": [
    "# obtener el importe a desglosar\n",
    "amount = int(input(\"Ingrese la cantidad de dinero: \"))\n",
    "\n",
    "# código para desglosar en billetes y monedas un importe\n",
    "# ...\n"
   ]
  }
 ],
 "metadata": {
  "kernelspec": {
   "display_name": "Python 3 (ipykernel)",
   "language": "python",
   "name": "python3"
  },
  "language_info": {
   "codemirror_mode": {
    "name": "ipython",
    "version": 3
   },
   "file_extension": ".py",
   "mimetype": "text/x-python",
   "name": "python",
   "nbconvert_exporter": "python",
   "pygments_lexer": "ipython3",
   "version": "3.9.7"
  }
 },
 "nbformat": 4,
 "nbformat_minor": 5
}
