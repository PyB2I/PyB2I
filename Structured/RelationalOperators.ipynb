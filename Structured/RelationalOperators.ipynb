{
 "cells": [
  {
   "cell_type": "markdown",
   "id": "0422a1d7",
   "metadata": {},
   "source": [
    "<img src=\"../Images/Level1Beginner.png\" alt=\"Beginner\" width=\"128\" height=\"128\" align=\"right\">\n",
    "\n",
    "\n",
    "## Operadores Relacionales\n",
    "\n",
    "Python cuenta con un conjunto de operadores que permiten determinar la relación o comparación entre los argumentos a los lados del operador; las relaciones posibles son iguales, distintos, mayores y otras variantes.\n",
    "\n",
    "El resultado de una operación de comparación es un valor booleano o valor lógico; las posibilidades son **True** (verdadero o si) o **False** (falso o no).\n",
    "\n",
    "Las operaciones de comparación forman parte de lo que se conoce como **expresiones lógicas** y son fundamentales para controlar la ejecución o flujo de un programa.\n"
   ]
  },
  {
   "cell_type": "markdown",
   "id": "b6d34e33",
   "metadata": {},
   "source": [
    "### Igualdad\n",
    "\n",
    "En Python el operador de igualdad es el doble igual “**==**”; el resultado es **True** cuando el argumento a la izquierda es igual al de la derecha.\n"
   ]
  },
  {
   "cell_type": "code",
   "execution_count": null,
   "id": "a75a97ed",
   "metadata": {},
   "outputs": [],
   "source": [
    "print(2 == 2)\n",
    "print(2 == 2.0)\n",
    "print(1 == 2)\n",
    "\n",
    "variable = 2\n",
    "print(\"variable == 2\", variable == 2)\n",
    "\n",
    "print(\"True == False\", True == False)\n",
    "\n",
    "print('\"Python\" == \"python\"', \"Python\" == \"python\")"
   ]
  },
  {
   "cell_type": "markdown",
   "id": "4f8e2c54",
   "metadata": {},
   "source": [
    "\n",
    "¿Qué ocurre en las siguientes sentencias?\n"
   ]
  },
  {
   "cell_type": "code",
   "execution_count": null,
   "id": "51e1853a",
   "metadata": {},
   "outputs": [],
   "source": [
    "print('\"Hello\" == 1', \"Hello\" == 1)\n",
    "print(\"False == 0\", False == 0)"
   ]
  },
  {
   "cell_type": "markdown",
   "id": "59b638a9",
   "metadata": {},
   "source": [
    "### Desigualdad\n",
    "\n",
    "En Python el operador de desigualdad es símbolo de admiración seguido del igual “**!=**”; el resultado es **True** cuando el argumento a la izquierda es distinto al de la derecha.\n"
   ]
  },
  {
   "cell_type": "code",
   "execution_count": null,
   "id": "4fb29375",
   "metadata": {
    "scrolled": false
   },
   "outputs": [],
   "source": [
    "print(\"2 != 2\", 2 != 2)\n",
    "print(\"2 != 2.0\", 2 != 2.0)\n",
    "print(\"1 != 2\", 1 != 2)\n",
    "\n",
    "variable = 2\n",
    "print(\"variable != 2\", variable != 2)\n",
    "\n",
    "print(\"True != False\", True != False)\n",
    "\n",
    "print('\"Python\" != \"python\"', \"Python\" != \"python\")"
   ]
  },
  {
   "cell_type": "markdown",
   "id": "a4c35dd6",
   "metadata": {},
   "source": [
    "### Mayor que\n",
    "\n",
    "En Python el operador de comparación para averiguar si un argumento es mayor que otro es el símbolo mayor “**>**”; el resultado es **True** cuando el argumento a la izquierda es mayor al de la derecha."
   ]
  },
  {
   "cell_type": "code",
   "execution_count": null,
   "id": "4a429c1c",
   "metadata": {},
   "outputs": [],
   "source": [
    "print(\"2 > 2\", 2 > 2)\n",
    "print(\"2 > 2.0\", 2 > 2.0)\n",
    "print(\"1 > 2\", 1 > 2)\n",
    "\n",
    "print(\"True > False\", True > False)\n",
    "\n",
    "print('\"Hello\" > \"Hello guys\"', \"Hello\" > \"Hello guys\")"
   ]
  },
  {
   "cell_type": "markdown",
   "id": "1db94ac6",
   "metadata": {},
   "source": [
    "### Mayor o igual que\n",
    "\n",
    "En Python el símbolo mayor seguido del igual “**>=**”, es el operador de comparación para averiguar si un argumento es mayor o igual que otro; el resultado es **True** cuando el argumento a la izquierda es mayor o igual al de la derecha."
   ]
  },
  {
   "cell_type": "code",
   "execution_count": null,
   "id": "dfe232a0",
   "metadata": {},
   "outputs": [],
   "source": [
    "print(\"2 >= 2\", 2 >= 2)\n",
    "print(\"2 >= 2.0\", 2 >= 2.0)\n",
    "print(\"1 >= 2\", 1 >= 2)"
   ]
  },
  {
   "cell_type": "markdown",
   "id": "a0a984b1",
   "metadata": {},
   "source": [
    "### Menor que\n",
    "\n",
    "En Python el símbolo menor “**<**”, es el operador de comparación para averiguar si un argumento es menor que otro; el resultado es **True** cuando el argumento a la izquierda es menor al de la derecha."
   ]
  },
  {
   "cell_type": "code",
   "execution_count": null,
   "id": "327fb828",
   "metadata": {},
   "outputs": [],
   "source": [
    "print(\"2 < 2\", 2 < 2)\n",
    "print(\"2 < 2.0\", 2 < 2.0)\n",
    "print(\"1 < 2\", 1 < 2)"
   ]
  },
  {
   "cell_type": "markdown",
   "id": "8491876b",
   "metadata": {},
   "source": [
    "### Menor o igual que\n",
    "\n",
    "En Python el símbolo menor seguido del igual “**<=**”, es el operador de comparación para averiguar si un argumento es menor o igual que otro; el resultado es **True** cuando el argumento a la izquierda es menor o igual al de la derecha."
   ]
  },
  {
   "cell_type": "code",
   "execution_count": null,
   "id": "f08c3854",
   "metadata": {},
   "outputs": [],
   "source": [
    "print(\"2 <= 2\", 2 <= 2)\n",
    "print(\"2 <= 2.0\", 2 <= 2.0)\n",
    "print(\"1 <= 2\", 1 <= 2)"
   ]
  },
  {
   "cell_type": "markdown",
   "id": "3cb03698",
   "metadata": {},
   "source": [
    "<img src=\"../Images/Level2Intermediate.png\" alt=\"Intermediate\" width=\"128\" height=\"128\" align=\"right\">"
   ]
  },
  {
   "cell_type": "markdown",
   "id": "bc3b3c68",
   "metadata": {},
   "source": [
    "### Identidad\n",
    "\n",
    "En Python el operador “**is**”, es el operador de identidad que sirve para averiguar si un argumento es *el mismo objeto que otro*; el resultado es **True** cuando el argumento a la izquierda es el mismo objeto que el de la derecha."
   ]
  },
  {
   "cell_type": "code",
   "execution_count": null,
   "id": "3724c5f2",
   "metadata": {},
   "outputs": [],
   "source": [
    "# las siguientes dos sentencias presentarán un mensaje de \"warning\"\n",
    "print(\"2 is 2\", 2 is 2)\n",
    "print(\"2 is 2.0\", 2 is 2.0)\n",
    "\n",
    "print(\"[1, 2, 3] is [1, 2, 3]\", [1, 2, 3] is [1, 2, 3])\n",
    "\n",
    "# para evitar los mensajes de \"warning\" vuelva a ejecutar esta celda; indague que pasó ...\n",
    "import warnings\n",
    "warnings.filterwarnings('ignore')\n"
   ]
  }
 ],
 "metadata": {
  "kernelspec": {
   "display_name": "Python 3 (ipykernel)",
   "language": "python",
   "name": "python3"
  },
  "language_info": {
   "codemirror_mode": {
    "name": "ipython",
    "version": 3
   },
   "file_extension": ".py",
   "mimetype": "text/x-python",
   "name": "python",
   "nbconvert_exporter": "python",
   "pygments_lexer": "ipython3",
   "version": "3.9.7"
  }
 },
 "nbformat": 4,
 "nbformat_minor": 5
}
