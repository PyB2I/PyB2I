{
 "cells": [
  {
   "cell_type": "markdown",
   "id": "2e23f6ef",
   "metadata": {},
   "source": [
    "<img src=\"../Images/Level1Beginner.png\" alt=\"Beginner\" width=\"128\" height=\"128\" align=\"right\">\n",
    "\n",
    "## Ejercicios - Excepciones"
   ]
  },
  {
   "cell_type": "markdown",
   "id": "880184d3",
   "metadata": {},
   "source": [
    "Escribe el código que permita ingresar un valor entero controlando las situaciones **extrañas** que puedan ocurrir.\n",
    "<span><img src=\"../Images/selected.png\" alt=\"Selected\" width=\"32\" height=\"32\" align=\"right\"></span>"
   ]
  },
  {
   "cell_type": "code",
   "execution_count": null,
   "id": "11f9c284",
   "metadata": {},
   "outputs": [],
   "source": [
    "\n",
    "while True :\n",
    "    try :\n",
    "        value = int(input(\"Ingrese un valor entero: \"))\n",
    "    except ValueError :\n",
    "        print(\"\\tCUIDADO Ingrese un valor válido\")\n"
   ]
  },
  {
   "cell_type": "markdown",
   "id": "e952676a",
   "metadata": {},
   "source": [
    "Escribe el código que permita ingresar un valor entero positivo controlando las situaciones **extrañas** que puedan ocurrir."
   ]
  },
  {
   "cell_type": "code",
   "execution_count": null,
   "id": "be781d14",
   "metadata": {},
   "outputs": [],
   "source": [
    "\n",
    "# ...\n"
   ]
  },
  {
   "cell_type": "markdown",
   "id": "db9f393b",
   "metadata": {},
   "source": [
    "<img src=\"../Images/Level2Intermediate.png\" alt=\"Intermediate\" width=\"128\" height=\"128\" align=\"right\">"
   ]
  }
 ],
 "metadata": {
  "kernelspec": {
   "display_name": "Python 3 (ipykernel)",
   "language": "python",
   "name": "python3"
  },
  "language_info": {
   "codemirror_mode": {
    "name": "ipython",
    "version": 3
   },
   "file_extension": ".py",
   "mimetype": "text/x-python",
   "name": "python",
   "nbconvert_exporter": "python",
   "pygments_lexer": "ipython3",
   "version": "3.9.7"
  }
 },
 "nbformat": 4,
 "nbformat_minor": 5
}
