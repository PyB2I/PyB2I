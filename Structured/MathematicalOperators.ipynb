{
 "cells": [
  {
   "cell_type": "markdown",
   "id": "0422a1d7",
   "metadata": {},
   "source": [
    "## Operadores Matemáticos\n",
    "\n",
    "Python cuenta con un conjunto de operadores matemáticos que permiten calcular la mayoría de  las operaciones conocidas.\n",
    "\n",
    "El resultado de una operación matemática es un valor numérico.\n"
   ]
  },
  {
   "cell_type": "markdown",
   "id": "b6d34e33",
   "metadata": {},
   "source": [
    "## Exponenciación\n",
    "\n",
    "En Python el doble asterisco “**\\****”, es el operador de exponenciación o potencia; el argumento a la izquierda es la base y el de la derecha el exponente.\n"
   ]
  },
  {
   "cell_type": "code",
   "execution_count": null,
   "id": "a75a97ed",
   "metadata": {},
   "outputs": [],
   "source": [
    "print(2 ** 3)\n",
    "print(2 ** 3.0)\n",
    "print(2.0 ** 3)"
   ]
  },
  {
   "cell_type": "markdown",
   "id": "59b638a9",
   "metadata": {},
   "source": [
    "## Multiplicación\n",
    "\n",
    "En Python el asterisco “**\\***”, es el operador de multiplicación; el argumento a la izquierda y el de la derecha son los multiplicandos.\n"
   ]
  },
  {
   "cell_type": "code",
   "execution_count": null,
   "id": "4fb29375",
   "metadata": {
    "scrolled": false
   },
   "outputs": [],
   "source": [
    "print(2 * 3)\n",
    "print(2 * 3.0)\n",
    "print(2.0 * 3)\n",
    "print(2.0 * 3.0)"
   ]
  },
  {
   "cell_type": "markdown",
   "id": "a4c35dd6",
   "metadata": {},
   "source": [
    "## División\n",
    "\n",
    "En Python la diagonal “**/**”, es el operador de división; el argumento a la izquierda es el dividendo y el de la derecha el divisor"
   ]
  },
  {
   "cell_type": "code",
   "execution_count": null,
   "id": "4a429c1c",
   "metadata": {},
   "outputs": [],
   "source": [
    "print(6 / 3)\n",
    "print(6 / 3.0)\n",
    "print(6.0 / 3)\n",
    "print(6.0 / 3.0)"
   ]
  },
  {
   "cell_type": "markdown",
   "id": "1db94ac6",
   "metadata": {},
   "source": [
    "## División entera\n",
    "\n",
    "En Python la doble diagonal “**//**”, es el operador de división entera; el argumento a la izquierda es el dividendo y el de la derecha el divisor.\n",
    "\n",
    "El resultado de una división entera no tiene decimales; en el caso de argumentos enteros no existe, con argumentos decimales es igual a cero redondeando el resultado al menor valor.\n"
   ]
  },
  {
   "cell_type": "code",
   "execution_count": null,
   "id": "dfe232a0",
   "metadata": {},
   "outputs": [],
   "source": [
    "print(6 / 3, 6 // 3)\n",
    "print(6 / 3.0, 6 // 3.0)\n",
    "print(6.0 / 3, 6.0 // 3)\n",
    "print(6.0 / 3.0, 6.0 // 3.0)\n",
    "\n",
    "print(6 / 4, 6 // 4)\n",
    "print(6.0 / 4.0, 6.0 // 4)\n",
    "\n",
    "print(-6 / 4, -6 // 4)\n",
    "print(6. / -4, 6. // -4)\n"
   ]
  },
  {
   "cell_type": "markdown",
   "id": "a0a984b1",
   "metadata": {},
   "source": [
    "## Residuo, Resto o Módulo\n",
    "\n",
    "En Python el porcentaje “**%**”, es el operador de residuo, resto o módulo; el argumento a la izquierda es el dividendo y el de la derecha el divisor.\n",
    "\n",
    "El resultado de la operación es lo que queda de la división entera, en términos matemáticos el resto es igual al dividendo menos la división entera multiplicada por el divisor\n",
    "\n",
    "resto = dividendo % divisor = dividendo - (dividendo // divisor) * divisor\n"
   ]
  },
  {
   "cell_type": "code",
   "execution_count": null,
   "id": "327fb828",
   "metadata": {},
   "outputs": [],
   "source": [
    "print(14 % 4)\n",
    "print(14 - (14 // 4) * 4)\n",
    "\n",
    "print(14 % 4.5)\n",
    "print(14 - (14 // 4.5) * 4.5)\n"
   ]
  },
  {
   "cell_type": "markdown",
   "id": "8491876b",
   "metadata": {},
   "source": [
    "## Suma\n",
    "\n",
    "En Python el más “**+**”, es el operador de suma; el argumento a la izquierda y el de la derecha son los sumandos.\n"
   ]
  },
  {
   "cell_type": "code",
   "execution_count": null,
   "id": "f08c3854",
   "metadata": {},
   "outputs": [],
   "source": [
    "print(6 + 3)\n",
    "print(6 + 3.0)\n",
    "print(6.0 + 3)\n",
    "print(6.0 + 3.0)\n",
    "\n",
    "print(-4 + 4)\n",
    "print(-4 + 8)\n"
   ]
  },
  {
   "cell_type": "markdown",
   "id": "e9dfe264",
   "metadata": {},
   "source": [
    "## Resta\n",
    "\n",
    "En Python el menos “**-**”, es el operador de resta; el argumento a la izquierda es el minuendo y el de la derecha el sustraendo."
   ]
  },
  {
   "cell_type": "code",
   "execution_count": null,
   "id": "b4ce2f0e",
   "metadata": {},
   "outputs": [],
   "source": [
    "print(6 - 3)\n",
    "print(6 - 3.0)\n",
    "print(6.0 - 3)\n",
    "print(6.0 - 3.0)\n",
    "\n",
    "print(-4 - 4)\n",
    "print(-4 - 8)\n"
   ]
  },
  {
   "cell_type": "markdown",
   "id": "74765a01",
   "metadata": {},
   "source": [
    "## Negativo\n",
    "\n",
    "En Python el menos “**-**” delante de un número o expresión numérica cambia el signo del número o expresión numérica."
   ]
  },
  {
   "cell_type": "code",
   "execution_count": null,
   "id": "cf3211e2",
   "metadata": {},
   "outputs": [],
   "source": [
    "print(-4 - 4)\n",
    "print(-(-4 - 4))\n"
   ]
  }
 ],
 "metadata": {
  "kernelspec": {
   "display_name": "Python 3",
   "language": "python",
   "name": "python3"
  },
  "language_info": {
   "codemirror_mode": {
    "name": "ipython",
    "version": 3
   },
   "file_extension": ".py",
   "mimetype": "text/x-python",
   "name": "python",
   "nbconvert_exporter": "python",
   "pygments_lexer": "ipython3",
   "version": "3.8.8"
  }
 },
 "nbformat": 4,
 "nbformat_minor": 5
}
