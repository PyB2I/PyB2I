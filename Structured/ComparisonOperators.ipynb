{
 "cells": [
  {
   "cell_type": "markdown",
   "id": "0422a1d7",
   "metadata": {},
   "source": [
    "## Operadores de Comparación\n",
    "\n",
    "Python cuenta con un conjunto de operadores de comparación; es posible comparar si los argumentos a los lados de un operador son iguales, distintos, mayores y otras variantes.\n",
    "\n",
    "El resultado de una operación de comparación es un valor booleano o valor lógico; las posibilidades son **True** (verdadero o si) o **False** (falso o no).\n",
    "\n",
    "Las operaciones de comparación forman parte de lo que se conoce como **expresiones lógicas** y son fundamentales para controlar la ejecución o flujo de un programa.\n"
   ]
  },
  {
   "cell_type": "markdown",
   "id": "b6d34e33",
   "metadata": {},
   "source": [
    "## Igualdad\n",
    "\n",
    "En Python el operador de igualdad es el doble igual “**==**”; el resultado es **True** cuando el argumento a la izquierda es igual al de la derecha.\n"
   ]
  },
  {
   "cell_type": "code",
   "execution_count": null,
   "id": "a75a97ed",
   "metadata": {},
   "outputs": [],
   "source": [
    "print(2 == 2)\n",
    "print(2 == 2.0)\n",
    "print(1 == 2)\n",
    "\n",
    "variable = 2\n",
    "print(variable == 2)\n",
    "\n",
    "print(True == False)\n",
    "\n",
    "print(\"Python\" == \"python\")"
   ]
  },
  {
   "cell_type": "markdown",
   "id": "4f8e2c54",
   "metadata": {},
   "source": [
    "\n",
    "¿Qué ocurre en las siguientes sentencias?\n"
   ]
  },
  {
   "cell_type": "code",
   "execution_count": null,
   "id": "51e1853a",
   "metadata": {},
   "outputs": [],
   "source": [
    "print(\"Hello\" == 1)\n",
    "print(False == 0)"
   ]
  },
  {
   "cell_type": "markdown",
   "id": "59b638a9",
   "metadata": {},
   "source": [
    "## Desigualdad\n",
    "\n",
    "En Python el operador de desigualdad es símbolo de admiración seguido del igual “**!=**”; el resultado es **True** cuando el argumento a la izquierda es distinto al de la derecha.\n"
   ]
  },
  {
   "cell_type": "code",
   "execution_count": null,
   "id": "4fb29375",
   "metadata": {
    "scrolled": false
   },
   "outputs": [],
   "source": [
    "print(2 != 2)\n",
    "print(2 != 2.0)\n",
    "print(1 != 2)\n",
    "\n",
    "variable = 2\n",
    "print(variable != 2)\n",
    "\n",
    "print(True != False)\n",
    "\n",
    "print(\"Python\" != \"python\")"
   ]
  },
  {
   "cell_type": "markdown",
   "id": "a4c35dd6",
   "metadata": {},
   "source": [
    "## Mayor que\n",
    "\n",
    "En Python el operador de comparación para averiguar si un argumento es mayor que otro es el símbolo mayor “**>**”; el resultado es **True** cuando el argumento a la izquierda es mayor al de la derecha."
   ]
  },
  {
   "cell_type": "code",
   "execution_count": null,
   "id": "4a429c1c",
   "metadata": {},
   "outputs": [],
   "source": [
    "print(2 > 2)\n",
    "print(2 > 2.0)\n",
    "print(1 > 2)\n",
    "\n",
    "print(True > False)\n",
    "\n",
    "print(\"Hello\" > \"Hello guys\")"
   ]
  },
  {
   "cell_type": "markdown",
   "id": "1db94ac6",
   "metadata": {},
   "source": [
    "## Mayor o igual que\n",
    "\n",
    "En Python el símbolo mayor seguido del igual “**>=**”, es el operador de comparación para averiguar si un argumento es mayor o igual que otro; el resultado es **True** cuando el argumento a la izquierda es mayor o igual al de la derecha."
   ]
  },
  {
   "cell_type": "code",
   "execution_count": null,
   "id": "dfe232a0",
   "metadata": {},
   "outputs": [],
   "source": [
    "print(2 >= 2)\n",
    "print(2 >= 2.0)\n",
    "print(1 >= 2)"
   ]
  },
  {
   "cell_type": "markdown",
   "id": "a0a984b1",
   "metadata": {},
   "source": [
    "## Menor que\n",
    "\n",
    "En Python el símbolo menor “**<**”, es el operador de comparación para averiguar si un argumento es menor que otro; el resultado es **True** cuando el argumento a la izquierda es menor al de la derecha."
   ]
  },
  {
   "cell_type": "code",
   "execution_count": null,
   "id": "327fb828",
   "metadata": {},
   "outputs": [],
   "source": [
    "print(2 < 2)\n",
    "print(2 < 2.0)\n",
    "print(1 < 2)"
   ]
  },
  {
   "cell_type": "markdown",
   "id": "8491876b",
   "metadata": {},
   "source": [
    "## Menor o igual que\n",
    "\n",
    "En Python el símbolo menor seguido del igual “**<=**”, es el operador de comparación para averiguar si un argumento es menor o igual que otro; el resultado es **True** cuando el argumento a la izquierda es menor o igual al de la derecha."
   ]
  },
  {
   "cell_type": "code",
   "execution_count": null,
   "id": "f08c3854",
   "metadata": {},
   "outputs": [],
   "source": [
    "print(2 <= 2)\n",
    "print(2 <= 2.0)\n",
    "print(1 <= 2)"
   ]
  }
 ],
 "metadata": {
  "kernelspec": {
   "display_name": "Python 3",
   "language": "python",
   "name": "python3"
  },
  "language_info": {
   "codemirror_mode": {
    "name": "ipython",
    "version": 3
   },
   "file_extension": ".py",
   "mimetype": "text/x-python",
   "name": "python",
   "nbconvert_exporter": "python",
   "pygments_lexer": "ipython3",
   "version": "3.8.8"
  }
 },
 "nbformat": 4,
 "nbformat_minor": 5
}
