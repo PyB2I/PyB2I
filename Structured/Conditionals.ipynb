{
 "cells": [
  {
   "cell_type": "markdown",
   "id": "1d0275ac",
   "metadata": {},
   "source": [
    "<img src=\"../Images/Level1Beginner.png\" alt=\"Beginner\" width=\"128\" height=\"128\" align=\"right\">\n",
    "\n",
    "# Condicionales\n",
    "\n",
    "Bajo esta denominación se encuentran las instrucciones o setencias que Python facilita para poder **evaluar una expresión** y según el **valor de verdad** resultante ejecutar o no ejecutar un **bloque de sentencias**.\n",
    "\n",
    "La expresión que se evalua es una **expresión lógica** por lo tano se espea que el valor o resultado al evaluar la expresión sea **True** o **False**.\n",
    "\n",
    "Mediante un mecanismo de **indentación** se puede indicar el **bloque de sentencias** que se ejcuta cuando la **expresión lógica tiene valor True**.\n",
    "\n",
    "La mayoria de los editores de código que se utilizan con Python *indentan automáticamente el código despues de un símbolo \"***:***\" (dos puntos)*.\n",
    "\n",
    "La sintáxis de Python establece que después del símbolo \"**:**\" se incia un bloque de código que -en este caso- será ejecutado si el valor de verdad de la expresión lógica es verdadero.\n",
    "\n",
    "    # primer nivel de indentación\n",
    "    \n",
    "    if expresion_logica :\n",
    "        \n",
    "        # siguiente nivel de indentación\n",
    "        \n",
    "        sentencia_1\n",
    "        sentencia_2\n",
    "        sentencia_3\n",
    "        ...\n",
    "        sentencia_4\n",
    "    \n",
    "    # vuelve al nivele anterior de indentación"
   ]
  },
  {
   "cell_type": "code",
   "execution_count": null,
   "id": "819fb8bd",
   "metadata": {},
   "outputs": [],
   "source": [
    "\n",
    "name = \"Jose\"\n",
    "age = 45\n",
    "\n",
    "if age >= 18 :\n",
    "    print(name, \"es mayor de edad\")\n",
    "    \n"
   ]
  },
  {
   "cell_type": "markdown",
   "id": "b0c5ee06",
   "metadata": {},
   "source": [
    "\n",
    "Sin la **indentación** el intérprete del lengueaje de programación no puede saber qué porción de código debe ejecutarse cuando un expresión condicional tiene el valor verdadero.\n",
    "\n",
    "En situaciones en las que se debe ejecutar un bloque de sentencias **cuando la expresión lógica es True y otro bloque de sentencias cuando es False** se utiliza la instrucción **else** seguida de \"**:**\" (dos puntos).\n"
   ]
  },
  {
   "cell_type": "code",
   "execution_count": null,
   "id": "e8e2c122",
   "metadata": {},
   "outputs": [],
   "source": [
    "\n",
    "name = \"Pedro\"\n",
    "age = 15\n",
    "\n",
    "if age >= 18 :\n",
    "    print(name, \"es mayor de edad\")\n",
    "else :\n",
    "    print(name, \"no es mayor de edad\")\n"
   ]
  },
  {
   "cell_type": "markdown",
   "id": "80bf0674",
   "metadata": {},
   "source": [
    "\n",
    "En otras situaciones en las que se debe ejecutar un bloque de sentencias **dependiendo de la expresión que resulte verdadera** se utiliza la instrucción **elif** *seguida de la expresión a evaluar* y \"**:**\" (dos puntos).\n",
    "\n",
    "Cuidado con el órden en que se escriben las expresiones, **el interprete ejecuta el bloque de sentencias de la primera expresión cuyo valor de verdad es True**.\n"
   ]
  },
  {
   "cell_type": "code",
   "execution_count": null,
   "id": "021c8fa8",
   "metadata": {},
   "outputs": [],
   "source": [
    "\n",
    "name = \"Roberto\"\n",
    "age = 16\n",
    "if age >= 18 :\n",
    "    print(name, \"es mayor de edad\")\n",
    "elif age >= 16 :\n",
    "    print(name, \"no es mayor de edad, pero puede votar...\")\n",
    "else :\n",
    "    print(name, \"no es mayor de edad\")\n"
   ]
  },
  {
   "cell_type": "code",
   "execution_count": null,
   "id": "02fb04ba",
   "metadata": {},
   "outputs": [],
   "source": [
    "\n"
   ]
  }
 ],
 "metadata": {
  "kernelspec": {
   "display_name": "Python 3 (ipykernel)",
   "language": "python",
   "name": "python3"
  },
  "language_info": {
   "codemirror_mode": {
    "name": "ipython",
    "version": 3
   },
   "file_extension": ".py",
   "mimetype": "text/x-python",
   "name": "python",
   "nbconvert_exporter": "python",
   "pygments_lexer": "ipython3",
   "version": "3.9.7"
  }
 },
 "nbformat": 4,
 "nbformat_minor": 5
}
