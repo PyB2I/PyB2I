{
 "cells": [
  {
   "cell_type": "markdown",
   "id": "2e23f6ef",
   "metadata": {},
   "source": [
    "## Ejercicios - Repeticiones"
   ]
  },
  {
   "cell_type": "markdown",
   "id": "a83a18cc",
   "metadata": {},
   "source": [
    "### Mayor y Menor\n",
    "\n",
    "Escriba el código que determine el mayor y menor valor de una lista de números."
   ]
  },
  {
   "cell_type": "code",
   "execution_count": null,
   "id": "24c9d0ec",
   "metadata": {},
   "outputs": [],
   "source": [
    "numbers = [56, 34, 89, 23]\n",
    "# ..."
   ]
  },
  {
   "cell_type": "markdown",
   "id": "8d1461be",
   "metadata": {},
   "source": [
    "### Promedios\n",
    "\n",
    "Escriba el código que determine la cantidad y el promedio de una serie de números ingresados por teclado.\n",
    "\n",
    "Defina el mecanismo para finalizar."
   ]
  },
  {
   "cell_type": "code",
   "execution_count": null,
   "id": "64b2e276",
   "metadata": {},
   "outputs": [],
   "source": [
    "# ..."
   ]
  },
  {
   "cell_type": "markdown",
   "id": "8915761b",
   "metadata": {},
   "source": [
    "### Factorial\n",
    "\n",
    "En matemáticas se define factorial como el producto de los numeros enteros positivos desde uno hasta el número inclusive, de este modo el factorial de cinco es 1 * 2 * 3 * 5\n",
    "\n",
    "Escriba el código necesario para calcular el factorial de un número entero positivo ingresado por teclado"
   ]
  },
  {
   "cell_type": "code",
   "execution_count": null,
   "id": "970013d4",
   "metadata": {},
   "outputs": [],
   "source": [
    "number = int(input(\"Ingrese un número entero positivo: \"))\n",
    "# ..."
   ]
  }
 ],
 "metadata": {
  "kernelspec": {
   "display_name": "Python 3",
   "language": "python",
   "name": "python3"
  },
  "language_info": {
   "codemirror_mode": {
    "name": "ipython",
    "version": 3
   },
   "file_extension": ".py",
   "mimetype": "text/x-python",
   "name": "python",
   "nbconvert_exporter": "python",
   "pygments_lexer": "ipython3",
   "version": "3.8.8"
  }
 },
 "nbformat": 4,
 "nbformat_minor": 5
}
