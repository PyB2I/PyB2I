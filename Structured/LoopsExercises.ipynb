{
 "cells": [
  {
   "cell_type": "markdown",
   "id": "2e23f6ef",
   "metadata": {},
   "source": [
    "<img src=\"../Images/Level1Beginner.png\" alt=\"Beginner\" width=\"128\" height=\"128\" align=\"right\">\n",
    "\n",
    "## Ejercicios - Repeticiones"
   ]
  },
  {
   "cell_type": "markdown",
   "id": "69fc4787",
   "metadata": {},
   "source": [
    "### Controlando lo que pasa  en el ciclo\n"
   ]
  },
  {
   "cell_type": "markdown",
   "id": "2d459b40",
   "metadata": {},
   "source": [
    "Antes de ejecutar el siguiente código trata de decir que hace.\n"
   ]
  },
  {
   "cell_type": "code",
   "execution_count": null,
   "id": "7af874b6",
   "metadata": {},
   "outputs": [],
   "source": [
    "\n",
    "value = int(input(\"Ingrese el valor incial: \"))\n",
    "while value < 10 :\n",
    "    print(\"Valor \", value)\n",
    "    value += 1\n",
    "\n"
   ]
  },
  {
   "cell_type": "markdown",
   "id": "301457c7",
   "metadata": {},
   "source": [
    "Codifique la misma funcionalidad con la instrucción **for ...**"
   ]
  },
  {
   "cell_type": "code",
   "execution_count": null,
   "id": "4875509f",
   "metadata": {},
   "outputs": [],
   "source": [
    "\n",
    "value = int(input(\"Ingrese el valor incial: \"))\n",
    "\n",
    "# ...\n"
   ]
  },
  {
   "cell_type": "markdown",
   "id": "ce2efcd1",
   "metadata": {},
   "source": [
    "Antes de ejecutar el siguiente código trata de decir que hace.\n"
   ]
  },
  {
   "cell_type": "code",
   "execution_count": null,
   "id": "ef390f1e",
   "metadata": {},
   "outputs": [],
   "source": [
    "\n",
    "value = int(input(\"Ingrese el valor incial: \"))\n",
    "step = int(input(\"Ingrese el paso: \"))\n",
    "while value < 10 :\n",
    "    print(\"Valor \", value)\n",
    "    value += step\n",
    "\n"
   ]
  },
  {
   "cell_type": "markdown",
   "id": "ca0a7fd4",
   "metadata": {},
   "source": [
    "Codifique la misma funcionalidad con la instrucción **for ...**"
   ]
  },
  {
   "cell_type": "code",
   "execution_count": null,
   "id": "1f3f55dc",
   "metadata": {},
   "outputs": [],
   "source": [
    "\n",
    "value = int(input(\"Ingrese el valor incial: \"))\n",
    "step = int(input(\"Ingrese el paso: \"))\n",
    "\n",
    "# ...\n"
   ]
  },
  {
   "cell_type": "markdown",
   "id": "432f9169",
   "metadata": {},
   "source": [
    "### Controlando la permanencia en el ciclo\n"
   ]
  },
  {
   "cell_type": "markdown",
   "id": "e25261de",
   "metadata": {},
   "source": [
    "\n",
    "\n",
    "Escribe el código para ingresar diez números positivos en una lista, asegurese que solamente sean números positivos"
   ]
  },
  {
   "cell_type": "code",
   "execution_count": null,
   "id": "2d0020a4",
   "metadata": {},
   "outputs": [],
   "source": [
    "# lista para guardar los números\n",
    "positive_numbers = []\n",
    "\n",
    "# código para controlar el ingrso de 10 números positivos\n",
    "# ..."
   ]
  },
  {
   "cell_type": "markdown",
   "id": "a83a18cc",
   "metadata": {},
   "source": [
    "### Mayor y Menor\n",
    "\n",
    "Escribe el código que determine el mayor y menor valor de una lista de números."
   ]
  },
  {
   "cell_type": "code",
   "execution_count": null,
   "id": "24c9d0ec",
   "metadata": {},
   "outputs": [],
   "source": [
    "# lista de números a procesar\n",
    "numbers = [56, 34, 89, 23]\n",
    "\n",
    "# código para implementar la búsqueda del mayor y menor de una colección\n",
    "# ..."
   ]
  },
  {
   "cell_type": "markdown",
   "id": "8d1461be",
   "metadata": {},
   "source": [
    "### Promedios\n",
    "\n",
    "Escribe el código que determine la cantidad y el promedio de una serie de números ingresados por teclado.\n",
    "\n",
    "Define el mecanismo para finalizar."
   ]
  },
  {
   "cell_type": "code",
   "execution_count": null,
   "id": "64b2e276",
   "metadata": {},
   "outputs": [],
   "source": [
    "# ..."
   ]
  },
  {
   "cell_type": "markdown",
   "id": "8915761b",
   "metadata": {},
   "source": [
    "### Factorial\n",
    "\n",
    "En matemáticas se define factorial como el producto de los numeros enteros positivos desde uno hasta el número inclusive, de este modo el factorial de cinco es 1 * 2 * 3 * 5\n",
    "\n",
    "Escribe el código necesario para calcular el factorial de un número entero positivo ingresado por teclado"
   ]
  },
  {
   "cell_type": "code",
   "execution_count": null,
   "id": "970013d4",
   "metadata": {},
   "outputs": [],
   "source": [
    "# obtener el valor del número a calcular el factorial\n",
    "number = int(input(\"Ingrese un número entero positivo: \"))\n",
    "\n",
    "# código para calcular el factorial\n",
    "# ..."
   ]
  },
  {
   "cell_type": "markdown",
   "id": "9f2805eb",
   "metadata": {},
   "source": [
    "<img src=\"../Images/Level2Intermediate.png\" alt=\"Intermediate\" width=\"128\" height=\"128\" align=\"right\">"
   ]
  },
  {
   "cell_type": "markdown",
   "id": "86023142",
   "metadata": {},
   "source": [
    "### Primeros números primos\n",
    "\n",
    "Escribe el código que construya una lista con los \"n\" primeros números primos; cuidado no se trata de los números primos entre 1 y \"n\", sino de los \"n\" primeros números primos.\n",
    "\n",
    "Este ejercicio merece que indagues sobre las diferentes soluciones que están publicadas y que puedes implementar; lo importante es aprender sobre cómo se ideó la solución y poder comentarla en clases.\n",
    "\n",
    "Consideranto al menos dos de las diferentes soluciones existentes, la pregunta es ¿cuándo conviene utilizar una y no la otra?"
   ]
  },
  {
   "cell_type": "code",
   "execution_count": null,
   "id": "af829240",
   "metadata": {},
   "outputs": [],
   "source": [
    "\n",
    "# obtener el límite superior del ejercicio\n",
    "upper_limit = int(imput(\"Ingrese el máximo número al que desea llegar: \"))\n",
    "\n",
    "# código a implementar\n",
    "#"
   ]
  }
 ],
 "metadata": {
  "kernelspec": {
   "display_name": "Python 3 (ipykernel)",
   "language": "python",
   "name": "python3"
  },
  "language_info": {
   "codemirror_mode": {
    "name": "ipython",
    "version": 3
   },
   "file_extension": ".py",
   "mimetype": "text/x-python",
   "name": "python",
   "nbconvert_exporter": "python",
   "pygments_lexer": "ipython3",
   "version": "3.9.7"
  }
 },
 "nbformat": 4,
 "nbformat_minor": 5
}
