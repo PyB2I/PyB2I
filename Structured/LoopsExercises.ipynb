{
 "cells": [
  {
   "cell_type": "markdown",
   "id": "2e23f6ef",
   "metadata": {},
   "source": [
    "## Ejercicios - Repeticiones"
   ]
  },
  {
   "cell_type": "markdown",
   "id": "a83a18cc",
   "metadata": {},
   "source": [
    "### Mayor y Menor\n",
    "\n",
    "Escriba el código que determine el mayor y menor valor de una lista de números."
   ]
  },
  {
   "cell_type": "markdown",
   "id": "8d1461be",
   "metadata": {},
   "source": [
    "### Promedios\n",
    "\n",
    "Escriba el código que determine la cantidad y el promedio de una serie de números ingresados por teclado.\n",
    "\n",
    "Defina el mecanismo para finalizar."
   ]
  }
 ],
 "metadata": {
  "kernelspec": {
   "display_name": "Python 3",
   "language": "python",
   "name": "python3"
  },
  "language_info": {
   "codemirror_mode": {
    "name": "ipython",
    "version": 3
   },
   "file_extension": ".py",
   "mimetype": "text/x-python",
   "name": "python",
   "nbconvert_exporter": "python",
   "pygments_lexer": "ipython3",
   "version": "3.8.8"
  }
 },
 "nbformat": 4,
 "nbformat_minor": 5
}
