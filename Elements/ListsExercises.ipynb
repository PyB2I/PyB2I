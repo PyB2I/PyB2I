{
 "cells": [
  {
   "cell_type": "markdown",
   "id": "2e23f6ef",
   "metadata": {},
   "source": [
    "<img src=\"../Images/Level1Beginner.png\" alt=\"Beginner\" width=\"128\" height=\"128\" align=\"right\">\n",
    "\n",
    "## Ejercicios de Listas"
   ]
  },
  {
   "cell_type": "markdown",
   "id": "adc7db62",
   "metadata": {},
   "source": [
    "Escribe el código que solicite un valor entero y genere una lista de valores mediante range(1, number) donde number es el valor entero ingresado.\n",
    "\n",
    "El código debe presentar la lista generada; modificar la lista de manera que cada valor sea reemplazado por el cuadrado del mismo; finalmente mostrar la lista modificada.\n"
   ]
  },
  {
   "cell_type": "code",
   "execution_count": null,
   "id": "863c2994",
   "metadata": {},
   "outputs": [],
   "source": [
    "# obtener el valor entero hasta el cual se generarán valores\n",
    "number = int(input(\"Ingrese el límite superior de valores a generar: \"))\n",
    "\n",
    "# código para generar la lista y modificar los valores con sus respectivos cuadrados\n",
    "# ..."
   ]
  },
  {
   "cell_type": "markdown",
   "id": "da6b086f",
   "metadata": {},
   "source": [
    "Modifique el código del ejercicio anterior de manera que se obtenga una lista con los couadrados de cada valor sin modificar la lista inicial."
   ]
  },
  {
   "cell_type": "code",
   "execution_count": null,
   "id": "277eee59",
   "metadata": {},
   "outputs": [],
   "source": [
    "# obtener el valor entero hasta el cual se generarán valores\n",
    "number = int(input(\"Ingrese el límite superior de valores a generar: \"))\n",
    "\n",
    "# código para generar la lista y generar otra lista con los cuadrados de los valores de la primer lista\n",
    "# ..."
   ]
  },
  {
   "cell_type": "markdown",
   "id": "1371fa31",
   "metadata": {},
   "source": [
    "## Procesar elementos de una lista\n",
    "\n",
    "Escribe el código para eliminar de una lista todos los valores pares, finalmente mostrar la lista"
   ]
  },
  {
   "cell_type": "code",
   "execution_count": null,
   "id": "6d2a61ca",
   "metadata": {},
   "outputs": [],
   "source": [
    "# lista de valores a procesar\n",
    "numbers = [1, 2, 1, 5, 0, 3]\n",
    "\n",
    "# código que elimina todos los valores pares\n",
    "# ..."
   ]
  },
  {
   "cell_type": "markdown",
   "id": "b4379fd8",
   "metadata": {},
   "source": [
    "\n",
    "Escribe el código para eliminar de una lista todos los elementos de índice par, finalmente mostrar la lista\n"
   ]
  },
  {
   "cell_type": "code",
   "execution_count": null,
   "id": "1abd2d0e",
   "metadata": {},
   "outputs": [],
   "source": [
    "# lista de valores a procesar\n",
    "numbers = [1, 2, 1, 5, 0, 3]\n",
    "\n",
    "# código que elimina todos los elementos de índice par\n",
    "# ..."
   ]
  },
  {
   "cell_type": "markdown",
   "id": "bdade928",
   "metadata": {},
   "source": [
    "## Nombres para la beba\n",
    "\n",
    "La última ecografía muestra que la pareja tendrá una nena; deciden formar una lista con posibles nombres para la beba, comenzando con \"Ángela\", \"Lucía\", \"Josefina\" y \"Clarisa\".\n",
    "\n",
    "El resto de la familia y también algunos conocidos sugieren nombres, algunos de ellos interesantes y otros para nada.\n",
    "\n",
    "Escribe el código que permita a la pareja modificar la lista de posibles nombres de la beba, de manera que tenga una opciones para:\n",
    "\n",
    "1. agregar un nombre al final de la lista, corresponde a un nombre que no es interesante\n",
    "\n",
    "2. agregar un nombre al principio de la lista, corresponde a un nombre muy interesante\n",
    "\n",
    "3. agregar un nombre en el medio de la lista, corresponde a un nombre medianamente interesante"
   ]
  },
  {
   "cell_type": "code",
   "execution_count": null,
   "id": "12965cc9",
   "metadata": {},
   "outputs": [],
   "source": [
    "# lista de nombres incial\n",
    "names_list = [\"Ángela\", \"Lucía\", \"Josefina\", \"Clarisa\"]\n",
    "\n",
    "# obtener un nombre y la opción de agregación\n",
    "\n",
    "\n",
    "# código para agregar el nombre según la opción\n",
    "\n",
    "\n",
    "# presentar la lista modificada\n"
   ]
  },
  {
   "cell_type": "markdown",
   "id": "6421c776",
   "metadata": {},
   "source": [
    "## analizar código ...\n",
    "\n",
    "¿Qué hace el siguiente código ...?\n"
   ]
  },
  {
   "cell_type": "code",
   "execution_count": null,
   "id": "8b1e8207",
   "metadata": {},
   "outputs": [],
   "source": [
    "letter = input(\"Ingrese una letra: \")\n",
    "if (len(letter) == 1 and 'a' <= letter <= 'z') or letter in ['á','é','í','ó','ú','ü','ñ'] :\n",
    "    print(letter, \"es una letra minúscula\")"
   ]
  },
  {
   "cell_type": "markdown",
   "id": "7e4223be",
   "metadata": {},
   "source": [
    "<img src=\"../Images/Level2Intermediate.png\" alt=\"Beginner\" width=\"128\" height=\"128\" align=\"right\">"
   ]
  },
  {
   "cell_type": "markdown",
   "id": "63a7074c",
   "metadata": {},
   "source": [
    "## Suprimir repeticiones\n",
    "\n",
    "Escribe el código que permita leer una frase o cadena de texto y generar una lista de las palabras de la frase o cadena de texto sin repetir y en minúsculas\n"
   ]
  },
  {
   "cell_type": "code",
   "execution_count": null,
   "id": "324da5d2",
   "metadata": {},
   "outputs": [],
   "source": [
    "# obtener la frase a procesar\n",
    "phrase = input(\"Ingrese una frase: \")\n",
    "\n",
    "# código para obtener las palabras de la frase sin repetir y en minúsculas\n",
    "# ..."
   ]
  }
 ],
 "metadata": {
  "kernelspec": {
   "display_name": "Python 3 (ipykernel)",
   "language": "python",
   "name": "python3"
  },
  "language_info": {
   "codemirror_mode": {
    "name": "ipython",
    "version": 3
   },
   "file_extension": ".py",
   "mimetype": "text/x-python",
   "name": "python",
   "nbconvert_exporter": "python",
   "pygments_lexer": "ipython3",
   "version": "3.8.8"
  }
 },
 "nbformat": 4,
 "nbformat_minor": 5
}
