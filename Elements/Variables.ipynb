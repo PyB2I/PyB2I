{
 "cells": [
  {
   "cell_type": "markdown",
   "id": "ef0638e6",
   "metadata": {},
   "source": [
    "<img src=\"../Images/Level1Beginner.png\" alt=\"Beginner\" width=\"128\" height=\"128\" style=\"float:right;\">\n",
    "\n",
    "## Variables en Python\n",
    "\n",
    "En Python las variables son abstracciones que representan \"contenedores\" o \"cajas\" en las que se guardan valores.\n",
    "\n",
    "Una variable tiene nombre o **identificador** y se crea mediante la **asignación** de un valor."
   ]
  },
  {
   "cell_type": "code",
   "execution_count": null,
   "id": "e649d402",
   "metadata": {},
   "outputs": [],
   "source": [
    "SomeVariable = 5\n",
    "SomeVariable"
   ]
  },
  {
   "cell_type": "code",
   "execution_count": null,
   "id": "05951eee",
   "metadata": {},
   "outputs": [],
   "source": [
    "AnotherVarible = \"Julio\"\n",
    "AnotherVarible"
   ]
  },
  {
   "cell_type": "markdown",
   "id": "d2367198",
   "metadata": {},
   "source": [
    "Es posible averiguar el tipo de dato del valor almacenado en la variable"
   ]
  },
  {
   "cell_type": "code",
   "execution_count": null,
   "id": "724b8e26",
   "metadata": {},
   "outputs": [],
   "source": [
    "type(SomeVariable)"
   ]
  },
  {
   "cell_type": "code",
   "execution_count": null,
   "id": "2a64ed3e",
   "metadata": {},
   "outputs": [],
   "source": [
    "type(AnotherVarible)"
   ]
  },
  {
   "cell_type": "markdown",
   "id": "ea258965",
   "metadata": {},
   "source": [
    "Mediante la función integrada **print(...)** es posible presentar en pantalla el valor almacenado en la variable."
   ]
  },
  {
   "cell_type": "code",
   "execution_count": null,
   "id": "26b05c9f",
   "metadata": {},
   "outputs": [],
   "source": [
    "SomeVariable = 5\n",
    "\n",
    "print(SomeVariable)\n",
    "print(type(SomeVariable))\n",
    "\n",
    "AnotherVarible = \"Julio\"\n",
    "\n",
    "print(AnotherVarible)\n",
    "print(type(AnotherVarible))"
   ]
  },
  {
   "cell_type": "markdown",
   "id": "da4427be",
   "metadata": {},
   "source": [
    "En algunos casos es necesario asegurarse y establecer el tipo de dato de una variable."
   ]
  },
  {
   "cell_type": "code",
   "execution_count": null,
   "id": "561d3047",
   "metadata": {},
   "outputs": [],
   "source": [
    "IntegerNumber = 5\n",
    "print(IntegerNumber, type(IntegerNumber))"
   ]
  },
  {
   "cell_type": "code",
   "execution_count": null,
   "id": "7244d082",
   "metadata": {},
   "outputs": [],
   "source": [
    "FloatNumber = float(5)\n",
    "print(FloatNumber, type(FloatNumber))"
   ]
  },
  {
   "cell_type": "code",
   "execution_count": null,
   "id": "8ac436c7",
   "metadata": {},
   "outputs": [],
   "source": [
    "AnOtherIntegerNumber = int(6.5)\n",
    "print(AnOtherIntegerNumber, type(AnOtherIntegerNumber))"
   ]
  },
  {
   "cell_type": "code",
   "execution_count": null,
   "id": "09141674",
   "metadata": {},
   "outputs": [],
   "source": [
    "AnOtherFloatNumber = float(\"56.89\")\n",
    "print(AnOtherFloatNumber, type(AnOtherFloatNumber))"
   ]
  },
  {
   "cell_type": "code",
   "execution_count": null,
   "id": "72f7342c",
   "metadata": {},
   "outputs": [],
   "source": [
    "String = str(3.0)\n",
    "print(String, type(String))"
   ]
  },
  {
   "cell_type": "code",
   "execution_count": null,
   "id": "13cc3bcb",
   "metadata": {},
   "outputs": [],
   "source": [
    "ComplexNumber = complex(35)\n",
    "print(ComplexNumber, type(ComplexNumber))"
   ]
  },
  {
   "cell_type": "markdown",
   "id": "7c4a107a",
   "metadata": {},
   "source": [
    "### Identificadores o nombres de las variables\n",
    "\n",
    "Los identificadores o nombres de las variables deben cumplir con ciertas condiciones:\n",
    "\n",
    "* Debe comenzar con una letra o el caractér guión bajo \"**_**\"\n",
    "* No puede comenzar con un número\n",
    "* Solo puede contener caracteres alfanuméricos y guiones bajos\n",
    "* Se distinguen mayúsculas de minúsculas\n"
   ]
  },
  {
   "cell_type": "markdown",
   "id": "4de178cd",
   "metadata": {},
   "source": [
    "Es una buena práctica utilizar **nombres de variables significativos**, existen ciertas \"costumbres\" para estos nombres.\n",
    "\n",
    "Se recomienda conocer y utilizar las convenciones indicadas en <a href=\"https://www.python.org/dev/peps/pep-0008/#naming-conventions\" target=\"_blank\">PEP 8 -- Style Guide for Python Code</a>.\n"
   ]
  },
  {
   "cell_type": "markdown",
   "id": "6a21785e",
   "metadata": {},
   "source": [
    "#### Pascal Case o CapWords o CapitalizedWords\n",
    "\n",
    "Entre los desarrolladores es común utilizar mayúsculas, minúsculas y guiones bajos con distintos significados; siempre se debe tratar de seguir las guías o estilos de codificación adoptados por la empresa para la que se trabaja.\n"
   ]
  },
  {
   "cell_type": "code",
   "execution_count": null,
   "id": "98a3f397",
   "metadata": {},
   "outputs": [],
   "source": [
    "MyVariableName = \"Pascal Case\"\n",
    "print(MyVariableName)"
   ]
  },
  {
   "cell_type": "markdown",
   "id": "7e47fe1b",
   "metadata": {},
   "source": [
    "#### Camel Case\n",
    "\n",
    "Se utilizan varias palabras con la primer letra en mayúscula excepto la primer palabra.\n"
   ]
  },
  {
   "cell_type": "code",
   "execution_count": null,
   "id": "fa76779b",
   "metadata": {},
   "outputs": [],
   "source": [
    "myVariableName = \"Camel Case\"\n",
    "print(myVariableName)"
   ]
  },
  {
   "cell_type": "markdown",
   "id": "41ec33f4",
   "metadata": {},
   "source": [
    "#### Snake Case\n",
    "\n",
    "Se utiliza el guión bajo para separar una palabra de otra.\n"
   ]
  },
  {
   "cell_type": "code",
   "execution_count": null,
   "id": "54c1a3aa",
   "metadata": {},
   "outputs": [],
   "source": [
    "my_variable_name = \"Snake Case\"\n",
    "print(my_variable_name)"
   ]
  },
  {
   "cell_type": "markdown",
   "id": "d37c7461",
   "metadata": {},
   "source": [
    "### Palabras reservadas\n",
    "\n",
    "En Python existen identificadores que están **reservados** para el lenguaje; **no pueden utilizarse como nombres de variable**\n"
   ]
  },
  {
   "cell_type": "markdown",
   "id": "711bdad1",
   "metadata": {},
   "source": [
    "|          |          |          |          |          |\n",
    "|:---------|:---------|:---------|:---------|:---------|\n",
    "|False|await|else|import|pass|\n",
    "|None|break|except|in|raise|\n",
    "|True|class|finally|is|return|\n",
    "|and|continue|for|lambda|try|\n",
    "|as|def|from |try|while|\n",
    "|assert|del|global|not|with|\n",
    "|async|elif|if|or|yield|\n"
   ]
  }
 ],
 "metadata": {
  "kernelspec": {
   "display_name": "Python 3",
   "language": "python",
   "name": "python3"
  },
  "language_info": {
   "codemirror_mode": {
    "name": "ipython",
    "version": 3
   },
   "file_extension": ".py",
   "mimetype": "text/x-python",
   "name": "python",
   "nbconvert_exporter": "python",
   "pygments_lexer": "ipython3",
   "version": "3.8.8"
  }
 },
 "nbformat": 4,
 "nbformat_minor": 5
}
