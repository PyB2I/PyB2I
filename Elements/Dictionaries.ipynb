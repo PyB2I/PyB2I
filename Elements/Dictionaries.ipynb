{
 "cells": [
  {
   "cell_type": "markdown",
   "id": "91e35fc8",
   "metadata": {},
   "source": [
    "<img src=\"../Images/Level1Beginner.png\" alt=\"Beginner\" width=\"128\" height=\"128\" align=\"right\">\n",
    "\n",
    "## Diccionarios en Python\n",
    "\n",
    "Colección de elementos organizados en la forma **par clave-valor** o **key-value pair**.\n",
    "\n",
    "En la colección, el componente clave o key permite acceder al componente valor o value.\n"
   ]
  },
  {
   "cell_type": "code",
   "execution_count": null,
   "id": "49e5bd7f",
   "metadata": {},
   "outputs": [],
   "source": [
    "empty_dict = {}\n",
    "\n",
    "print(\"\\nDiccionario vacío: \", empty_dict)\n",
    "print(\"Tipo de dato\", type(empty_dict))"
   ]
  },
  {
   "cell_type": "code",
   "execution_count": null,
   "id": "7b2cc364",
   "metadata": {},
   "outputs": [],
   "source": [
    "sample_dict = {\"uno\" : \"one\", \"cinco\" : \"five\", \"tres\" : \"three\"}\n",
    "\n",
    "print(\"\\nDiccionario de ejemplo: \", sample_dict)\n",
    "print(\"tres en inglés es\", sample_dict[\"tres\"])"
   ]
  },
  {
   "cell_type": "markdown",
   "id": "c3788200",
   "metadata": {},
   "source": [
    "\n",
    "El operador **in** permite averiguar si una clave está en el diccionario.\n"
   ]
  },
  {
   "cell_type": "code",
   "execution_count": null,
   "id": "3c7a18a6",
   "metadata": {},
   "outputs": [],
   "source": [
    "sample_dict = {\"uno\" : \"one\", \"cinco\" : \"five\", \"tres\" : \"three\"}\n",
    "\n",
    "print(\"\\nAveriguar si una clave está o no en el diccionario\")\n",
    "print(\"La clave 'cuatro' está en el diccionario\", \"cuatro\" in sample_dict)\n",
    "print(\"La clave 'cinco' está en el diccionario\", \"cinco\" in sample_dict)"
   ]
  },
  {
   "cell_type": "markdown",
   "id": "bfb8f0ff",
   "metadata": {},
   "source": [
    "Intentar acceder a un valor del diccionario sin verificar que la clave existe puede traer problemas.\n"
   ]
  },
  {
   "cell_type": "code",
   "execution_count": 1,
   "id": "3dd1cc61",
   "metadata": {},
   "outputs": [
    {
     "name": "stdout",
     "output_type": "stream",
     "text": [
      "\n",
      "Diccionario de ejemplo:  {'uno': 'one', 'cinco': 'five', 'tres': 'three'}\n"
     ]
    },
    {
     "ename": "KeyError",
     "evalue": "'dos'",
     "output_type": "error",
     "traceback": [
      "\u001b[1;31m---------------------------------------------------------------------------\u001b[0m",
      "\u001b[1;31mKeyError\u001b[0m                                  Traceback (most recent call last)",
      "\u001b[1;32m~\\AppData\\Local\\Temp/ipykernel_2760/2663507578.py\u001b[0m in \u001b[0;36m<module>\u001b[1;34m\u001b[0m\n\u001b[0;32m      2\u001b[0m \u001b[1;33m\u001b[0m\u001b[0m\n\u001b[0;32m      3\u001b[0m \u001b[0mprint\u001b[0m\u001b[1;33m(\u001b[0m\u001b[1;34m\"\\nDiccionario de ejemplo: \"\u001b[0m\u001b[1;33m,\u001b[0m \u001b[0msample_dict\u001b[0m\u001b[1;33m)\u001b[0m\u001b[1;33m\u001b[0m\u001b[1;33m\u001b[0m\u001b[0m\n\u001b[1;32m----> 4\u001b[1;33m \u001b[0mprint\u001b[0m\u001b[1;33m(\u001b[0m\u001b[1;34m\"dos en inglés es\"\u001b[0m\u001b[1;33m,\u001b[0m \u001b[0msample_dict\u001b[0m\u001b[1;33m[\u001b[0m\u001b[1;34m\"dos\"\u001b[0m\u001b[1;33m]\u001b[0m\u001b[1;33m)\u001b[0m\u001b[1;33m\u001b[0m\u001b[1;33m\u001b[0m\u001b[0m\n\u001b[0m",
      "\u001b[1;31mKeyError\u001b[0m: 'dos'"
     ]
    }
   ],
   "source": [
    "sample_dict = {\"uno\" : \"one\", \"cinco\" : \"five\", \"tres\" : \"three\"}\n",
    "\n",
    "print(\"\\nDiccionario de ejemplo: \", sample_dict)\n",
    "print(\"dos en inglés es\", sample_dict[\"dos\"])"
   ]
  },
  {
   "cell_type": "markdown",
   "id": "2211809e",
   "metadata": {},
   "source": [
    "El método **.get(...)** de los diccionarios permite obtener el valor de una clave; en caso que no exista devuelve None.\n"
   ]
  },
  {
   "cell_type": "code",
   "execution_count": 3,
   "id": "e8940143",
   "metadata": {},
   "outputs": [
    {
     "name": "stdout",
     "output_type": "stream",
     "text": [
      "\n",
      "Diccionario de ejemplo:  {'uno': 'one', 'cinco': 'five', 'tres': 'three'}\n",
      "dos en inglés es None\n"
     ]
    }
   ],
   "source": [
    "sample_dict = {\"uno\" : \"one\", \"cinco\" : \"five\", \"tres\" : \"three\"}\n",
    "\n",
    "print(\"\\nDiccionario de ejemplo: \", sample_dict)\n",
    "print(\"dos en inglés es\", sample_dict.get(\"dos\"))"
   ]
  },
  {
   "cell_type": "markdown",
   "id": "19282fe9",
   "metadata": {},
   "source": [
    "El método **.setdefault(..., ...)** de los diccionarios permite establecer el valor por defecto de una clave.\n"
   ]
  },
  {
   "cell_type": "code",
   "execution_count": 5,
   "id": "845500e1",
   "metadata": {},
   "outputs": [
    {
     "name": "stdout",
     "output_type": "stream",
     "text": [
      "\n",
      "Diccionario de ejemplo:  {'uno': 'one', 'cinco': 'five', 'tres': 'three'}\n",
      "dos en inglés es None\n",
      "\n",
      "Después de establecer un valor por defecto para la clave 'dos'\n",
      "dos en inglés es No se encuentra traducido ...\n"
     ]
    }
   ],
   "source": [
    "sample_dict = {\"uno\" : \"one\", \"cinco\" : \"five\", \"tres\" : \"three\"}\n",
    "\n",
    "print(\"\\nDiccionario de ejemplo: \", sample_dict)\n",
    "print(\"dos en inglés es\", sample_dict.get(\"dos\"))\n",
    "\n",
    "sample_dict.setdefault(\"dos\", \"No se encuentra traducido ...\")\n",
    "print(\"\\nDespués de establecer un valor por defecto para la clave 'dos'\")\n",
    "print(\"dos en inglés es\", sample_dict.get(\"dos\"))\n"
   ]
  },
  {
   "cell_type": "markdown",
   "id": "ceb85870",
   "metadata": {},
   "source": [
    "### Tener en cuenta\n",
    "* Cada clave debe ser única\n",
    "* La clave puede ser cualquier tipo de dato **inmutable**\n",
    "* Los pares clave-valor del diccionario no se pueden acceder mediante subíndices\n",
    "* La función len() regresa la cantidad de pares clave-valor que el diccionario tiene\n",
    "* Los pares clave-valor solo se pueden acceder mediante su clave\n",
    "* Las claves del tipo cadena de caracteres son sensibles a las mayúsculas y minúsculas\n"
   ]
  },
  {
   "cell_type": "markdown",
   "id": "15a8a425",
   "metadata": {},
   "source": [
    "---\n",
    "\n",
    "### Recorrer un Diccionario\n",
    "El método **.keys()** de los diccionarios devuelve una lista de elementos con las claves del diccionario.\n"
   ]
  },
  {
   "cell_type": "code",
   "execution_count": null,
   "id": "c01f4dc6",
   "metadata": {},
   "outputs": [],
   "source": [
    "sample_dict = {\"uno\" : \"one\", \"cinco\" : \"five\", \"tres\" : \"three\"}\n",
    "\n",
    "print(\"pares clave-valor:\")\n",
    "for key in sample_dict.keys() :\n",
    "   print(\"\\tpara\", key, \"el valor es\", sample_dict[key])"
   ]
  },
  {
   "cell_type": "markdown",
   "id": "37943246",
   "metadata": {},
   "source": [
    "\n",
    "El método **.items()** de los diccionarios devuelve una lista de tuplas con los pares clave-valor del diccionario.\n"
   ]
  },
  {
   "cell_type": "code",
   "execution_count": null,
   "id": "d96ddfc9",
   "metadata": {},
   "outputs": [],
   "source": [
    "sample_dict = {\"uno\" : \"one\", \"cinco\" : \"five\", \"tres\" : \"three\"}\n",
    "\n",
    "print(\"pares clave-valor:\")\n",
    "for kv_tuple in sample_dict.items() :\n",
    "   print(\"\\tpara\", kv_tuple[0], \"el valor es\", kv_tuple[1])\n",
    "\n",
    "print(\"\\nEs mejor desempaquetar (unpack) la tupla ...\")\n",
    "print(\"pares clave-valor:\")\n",
    "for key, value in sample_dict.items() :\n",
    "   print(\"\\tpara\", key, \"el valor es\", value)"
   ]
  },
  {
   "cell_type": "markdown",
   "id": "2448206c",
   "metadata": {},
   "source": [
    "\n",
    "El método **.values()** de los diccionarios devuelve una lista con los valores del diccionario.\n"
   ]
  },
  {
   "cell_type": "code",
   "execution_count": null,
   "id": "32822f47",
   "metadata": {},
   "outputs": [],
   "source": [
    "sample_dict = {\"uno\" : \"one\", \"cinco\" : \"five\", \"tres\" : \"three\"}\n",
    "\n",
    "print(\"Valores del diccionario:\")\n",
    "for value in sample_dict.values() :\n",
    "   print(value)"
   ]
  },
  {
   "cell_type": "markdown",
   "id": "de1729ad",
   "metadata": {},
   "source": [
    "---\n",
    "\n",
    "### Modificar un Diccionario\n",
    "\n",
    "La asignación de un **valor** a un **clave** permite crear el par clave-valor o modificarlo si ya existe."
   ]
  },
  {
   "cell_type": "code",
   "execution_count": 8,
   "id": "156b9950",
   "metadata": {},
   "outputs": [
    {
     "name": "stdout",
     "output_type": "stream",
     "text": [
      "Diccionario: {'uno': 'one', 'cinco': 'five', 'tres': 'three'}\n",
      "\n",
      "Agregar el valor 'two' para la clave 'dos'\n",
      "Diccionario: {'uno': 'one', 'cinco': 'five', 'tres': 'three', 'dos': 'two'}\n",
      "\n",
      "Modificar el valor 'FIVE' para la clave 'cinco'\n",
      "Diccionario: {'uno': 'one', 'cinco': 'FIVE', 'tres': 'three', 'dos': 'two'}\n"
     ]
    }
   ],
   "source": [
    "sample_dict = {\"uno\" : \"one\", \"cinco\" : \"five\", \"tres\" : \"three\"}\n",
    "\n",
    "print(\"Diccionario:\", sample_dict)\n",
    "\n",
    "print(\"\\nAgregar el valor 'two' para la clave 'dos'\")\n",
    "\n",
    "sample_dict[\"dos\"] = \"two\"\n",
    "print(\"Diccionario:\", sample_dict)\n",
    "\n",
    "print(\"\\nModificar el valor 'FIVE' para la clave 'cinco'\")\n",
    "\n",
    "sample_dict[\"cinco\"] = \"FIVE\"\n",
    "print(\"Diccionario:\", sample_dict)\n"
   ]
  }
 ],
 "metadata": {
  "kernelspec": {
   "display_name": "Python 3 (ipykernel)",
   "language": "python",
   "name": "python3"
  },
  "language_info": {
   "codemirror_mode": {
    "name": "ipython",
    "version": 3
   },
   "file_extension": ".py",
   "mimetype": "text/x-python",
   "name": "python",
   "nbconvert_exporter": "python",
   "pygments_lexer": "ipython3",
   "version": "3.9.7"
  }
 },
 "nbformat": 4,
 "nbformat_minor": 5
}
