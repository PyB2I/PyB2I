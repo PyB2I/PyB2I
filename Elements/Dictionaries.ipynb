<<<<<<< HEAD
{
 "cells": [
  {
   "cell_type": "markdown",
   "id": "91e35fc8",
   "metadata": {},
   "source": [
    "## Diccionarios\n",
    "\n",
    "Colección de elementos organizados en la forma **par clave-valor** o **key-value pair**. En la colección, el componente clave o key permite acceder al componente valor o value.\n"
   ]
  },
  {
   "cell_type": "code",
   "execution_count": null,
   "id": "49e5bd7f",
   "metadata": {},
   "outputs": [],
   "source": [
    "emptyDict = {}\n",
    "print(\"Diccionario vacío: \", emptyDict)\n",
    "print(\"Tipo de dato\", type(emptyDict))"
   ]
  },
  {
   "cell_type": "code",
   "execution_count": null,
   "id": "7b2cc364",
   "metadata": {},
   "outputs": [],
   "source": [
    "sampleDict = {\"uno\":\"one\", \"cinco\":\"five\", \"tres\":\"three\"}\n",
    "print(\"Diccionario de ejemplo: \", sampleDict)\n",
    "print(\"tres en inglés es\", sampleDict[\"tres\"])"
   ]
  },
  {
   "cell_type": "markdown",
   "id": "c3788200",
   "metadata": {},
   "source": [
    "\n",
    "El operador **in** permite averiguar si una clave está en el diccionario.\n"
   ]
  },
  {
   "cell_type": "code",
   "execution_count": null,
   "id": "3c7a18a6",
   "metadata": {},
   "outputs": [],
   "source": [
    "sampleDict = {\"uno\":\"one\", \"cinco\":\"five\", \"tres\":\"three\"}\n",
    "\n",
    "print(\"\\nAveriguar si una clave está o no en el diccionario\")\n",
    "print(\"La clave 'cuatro' está en el diccionario\", \"cuatro\" in sampleDict)\n",
    "print(\"La clave 'cinco' está en el diccionario\", \"cinco\" in sampleDict)"
   ]
  },
  {
   "cell_type": "markdown",
   "id": "ceb85870",
   "metadata": {},
   "source": [
    "### Tener en cuenta\n",
    "* Cada clave debe ser única\n",
    "* La clave puede ser cualquier tipo de dato\n",
    "* Los pares clave-valor del diccionario no se pueden acceder mediante subíndices\n",
    "* La función len() regresa la cantidad de pares clave-valor que el diccionario tiene\n",
    "* Los pares clave-valor solo se pueden acceder mediante su clave\n",
    "* Las claves del tipo cadena son sensibles a las mayúsculas y minúsculas\n"
   ]
  },
  {
   "cell_type": "markdown",
   "id": "15a8a425",
   "metadata": {},
   "source": [
    "### Recorrer un Diccionario\n",
    "El método **.keys()** de los diccionarios devuelve una colección de elementos con las claves del diccionario.\n"
   ]
  },
  {
   "cell_type": "code",
   "execution_count": null,
   "id": "c01f4dc6",
   "metadata": {},
   "outputs": [],
   "source": [
    "sampleDict = {\"uno\" : \"one\", \"cinco\":\"five\", \"tres\" : \"three\"}\n",
    "\n",
    "print(\"pares clave-valor:\")\n",
    "for key in sampleDict.keys() :\n",
    "   print(\"\\tpara\", key, \"el valor es\", sampleDict[key])"
   ]
  },
  {
   "cell_type": "markdown",
   "id": "37943246",
   "metadata": {},
   "source": [
    "\n",
    "El método **.items()** de los diccionarios devuelve una colección de tuplas con los pares clave-valor del diccionario.\n"
   ]
  },
  {
   "cell_type": "code",
   "execution_count": null,
   "id": "d96ddfc9",
   "metadata": {},
   "outputs": [],
   "source": [
    "sampleDict = {\"uno\" : \"one\", \"cinco\":\"five\", \"tres\" : \"three\"}\n",
    "\n",
    "print(\"pares clave-valor:\")\n",
    "for key, value in sampleDict.items() :\n",
    "   print(\"\\tpara\", key, \"el valor es\", value)"
   ]
  }
 ],
 "metadata": {
  "kernelspec": {
   "display_name": "Python 3",
   "language": "python",
   "name": "python3"
  },
  "language_info": {
   "codemirror_mode": {
    "name": "ipython",
    "version": 3
   },
   "file_extension": ".py",
   "mimetype": "text/x-python",
   "name": "python",
   "nbconvert_exporter": "python",
   "pygments_lexer": "ipython3",
   "version": "3.8.8"
  }
 },
 "nbformat": 4,
 "nbformat_minor": 5
}
=======
>>>>>>> main
