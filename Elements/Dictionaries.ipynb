{
 "cells": [
  {
   "cell_type": "markdown",
   "id": "91e35fc8",
   "metadata": {},
   "source": [
    "<img src=\"../Images/Level2Intermediate.png\" alt=\"Intermediate\" width=\"128\" height=\"128\" align=\"right\">\n",
    "\n",
    "## Diccionarios en Python\n",
    "\n",
    "Colección de elementos organizados en la forma **par clave-valor** o **key-value pair**.\n",
    "\n",
    "En la colección, el componente clave o key permite acceder al componente valor o value.\n"
   ]
  },
  {
   "cell_type": "code",
   "execution_count": null,
   "id": "49e5bd7f",
   "metadata": {},
   "outputs": [],
   "source": [
    "empty_dict = {}\n",
    "\n",
    "print(\"\\nDiccionario vacío: \", empty_dict)\n",
    "print(\"Tipo de dato\", type(empty_dict))"
   ]
  },
  {
   "cell_type": "code",
   "execution_count": null,
   "id": "7b2cc364",
   "metadata": {},
   "outputs": [],
   "source": [
    "sample_dict = {\"uno\" : \"one\", \"cinco\" : \"five\", \"tres\" : \"three\"}\n",
    "\n",
    "print(\"\\nDiccionario de ejemplo: \", sample_dict)\n",
    "print(\"tres en inglés es\", sample_dict[\"tres\"])"
   ]
  },
  {
   "cell_type": "markdown",
   "id": "c3788200",
   "metadata": {},
   "source": [
    "\n",
    "El operador **in** permite averiguar si una clave está en el diccionario.\n"
   ]
  },
  {
   "cell_type": "code",
   "execution_count": null,
   "id": "3c7a18a6",
   "metadata": {},
   "outputs": [],
   "source": [
    "sample_dict = {\"uno\" : \"one\", \"cinco\" : \"five\", \"tres\" : \"three\"}\n",
    "\n",
    "print(\"\\nAveriguar si una clave está o no en el diccionario\")\n",
    "print(\"La clave 'cuatro' está en el diccionario\", \"cuatro\" in sample_dict)\n",
    "print(\"La clave 'cinco' está en el diccionario\", \"cinco\" in sample_dict)"
   ]
  },
  {
   "cell_type": "markdown",
   "id": "bfb8f0ff",
   "metadata": {},
   "source": [
    "Intentar acceder a un valor del diccionario sin verificar que la clave existe puede traer problemas.\n"
   ]
  },
  {
   "cell_type": "code",
   "execution_count": null,
   "id": "3dd1cc61",
   "metadata": {},
   "outputs": [],
   "source": [
    "sample_dict = {\"uno\" : \"one\", \"cinco\" : \"five\", \"tres\" : \"three\"}\n",
    "\n",
    "print(\"\\nDiccionario de ejemplo: \", sample_dict)\n",
    "print(\"dos en inglés es\", sample_dict[\"dos\"])"
   ]
  },
  {
   "cell_type": "markdown",
   "id": "2211809e",
   "metadata": {},
   "source": [
    "El método **.get(...)** obtiene el valor de una clave; en caso que no exista devuelve **None**.\n"
   ]
  },
  {
   "cell_type": "code",
   "execution_count": null,
   "id": "e8940143",
   "metadata": {},
   "outputs": [],
   "source": [
    "sample_dict = {\"uno\" : \"one\", \"cinco\" : \"five\", \"tres\" : \"three\"}\n",
    "\n",
    "print(\"\\nDiccionario de ejemplo: \", sample_dict)\n",
    "print(\"dos en inglés es\", sample_dict.get(\"dos\"))"
   ]
  },
  {
   "cell_type": "markdown",
   "id": "19282fe9",
   "metadata": {},
   "source": [
    "El método **.setdefault(..., ...)** permite establecer el valor por defecto de una clave.\n"
   ]
  },
  {
   "cell_type": "code",
   "execution_count": null,
   "id": "845500e1",
   "metadata": {},
   "outputs": [],
   "source": [
    "sample_dict = {\"uno\" : \"one\", \"cinco\" : \"five\", \"tres\" : \"three\"}\n",
    "\n",
    "print(\"\\nDiccionario de ejemplo: \", sample_dict)\n",
    "print(\"dos en inglés es\", sample_dict.get(\"dos\"))\n",
    "\n",
    "sample_dict.setdefault(\"dos\", \"No se encuentra traducido ...\")\n",
    "print(\"\\nDespués de establecer un valor por defecto para la clave 'dos'\")\n",
    "print(\"dos en inglés es\", sample_dict.get(\"dos\"))\n"
   ]
  },
  {
   "cell_type": "markdown",
   "id": "ceb85870",
   "metadata": {},
   "source": [
    "---\n",
    "\n",
    "### Tener en cuenta\n",
    "* Cada clave debe ser única\n",
    "* La clave puede ser cualquier tipo de dato **inmutable**\n",
    "* Los pares clave-valor del diccionario no se pueden acceder mediante subíndices\n",
    "* La función len() regresa la cantidad de pares clave-valor que el diccionario tiene\n",
    "* Los pares clave-valor solo se pueden acceder mediante su clave\n",
    "* Las claves del tipo cadena de caracteres son sensibles a las mayúsculas y minúsculas\n"
   ]
  },
  {
   "cell_type": "markdown",
   "id": "15a8a425",
   "metadata": {},
   "source": [
    "---\n",
    "\n",
    "### Recorrer un Diccionario\n",
    "El método **.keys()** de los diccionarios devuelve una lista de elementos con las claves del diccionario.\n"
   ]
  },
  {
   "cell_type": "code",
   "execution_count": null,
   "id": "c01f4dc6",
   "metadata": {},
   "outputs": [],
   "source": [
    "sample_dict = {\"uno\" : \"one\", \"cinco\" : \"five\", \"tres\" : \"three\"}\n",
    "\n",
    "print(\"pares clave-valor:\")\n",
    "for key in sample_dict.keys() :\n",
    "   print(\"\\tpara\", key, \"el valor es\", sample_dict[key])"
   ]
  },
  {
   "cell_type": "markdown",
   "id": "37943246",
   "metadata": {},
   "source": [
    "\n",
    "El método **.items()** devuelve una lista de tuplas con los pares clave-valor del diccionario.\n"
   ]
  },
  {
   "cell_type": "code",
   "execution_count": null,
   "id": "d96ddfc9",
   "metadata": {},
   "outputs": [],
   "source": [
    "sample_dict = {\"uno\" : \"one\", \"cinco\" : \"five\", \"tres\" : \"three\"}\n",
    "\n",
    "print(\"pares clave-valor:\")\n",
    "for kv_tuple in sample_dict.items() :\n",
    "   print(\"\\tpara\", kv_tuple[0], \"el valor es\", kv_tuple[1])\n",
    "\n",
    "print(\"\\nEs mejor desempaquetar (unpack) la tupla ...\")\n",
    "print(\"pares clave-valor:\")\n",
    "for key, value in sample_dict.items() :\n",
    "   print(\"\\tpara\", key, \"el valor es\", value)"
   ]
  },
  {
   "cell_type": "markdown",
   "id": "2448206c",
   "metadata": {},
   "source": [
    "\n",
    "El método **.values()** devuelve una lista con los valores del diccionario.\n"
   ]
  },
  {
   "cell_type": "code",
   "execution_count": null,
   "id": "32822f47",
   "metadata": {},
   "outputs": [],
   "source": [
    "sample_dict = {\"uno\" : \"one\", \"cinco\" : \"five\", \"tres\" : \"three\"}\n",
    "\n",
    "print(\"Valores del diccionario:\")\n",
    "for value in sample_dict.values() :\n",
    "   print(value)"
   ]
  },
  {
   "cell_type": "markdown",
   "id": "de1729ad",
   "metadata": {},
   "source": [
    "---\n",
    "\n",
    "### Modificar un Diccionario\n",
    "\n",
    "La asignación de un **valor** a un **clave** permite crear el par clave-valor o modificarlo si ya existe."
   ]
  },
  {
   "cell_type": "code",
   "execution_count": null,
   "id": "156b9950",
   "metadata": {},
   "outputs": [],
   "source": [
    "sample_dict = {\"uno\" : \"one\", \"cinco\" : \"five\", \"tres\" : \"three\"}\n",
    "\n",
    "print(\"Diccionario:\", sample_dict)\n",
    "\n",
    "print(\"\\nAgregar el valor 'two' para la clave 'dos'\")\n",
    "\n",
    "sample_dict[\"dos\"] = \"two\"\n",
    "print(\"Diccionario:\", sample_dict)\n",
    "\n",
    "print(\"\\nModificar el valor 'FIVE' para la clave 'cinco'\")\n",
    "\n",
    "sample_dict[\"cinco\"] = \"FIVE\"\n",
    "print(\"Diccionario:\", sample_dict)\n"
   ]
  },
  {
   "cell_type": "markdown",
   "id": "125ceb02",
   "metadata": {},
   "source": [
    "\n",
    "El método **.pop(...)** extrae o retira el par clave valor indicado por la clave en el argumento.\n"
   ]
  },
  {
   "cell_type": "code",
   "execution_count": null,
   "id": "3ca28d53",
   "metadata": {},
   "outputs": [],
   "source": [
    "sample_dict = {\"uno\" : \"one\", \"cinco\" : \"five\", \"tres\" : \"three\"}\n",
    "\n",
    "print(\"Diccionario:\", sample_dict)\n",
    "\n",
    "print(\"\\nRetira el valor de la clave 'cinco'\")\n",
    "\n",
    "sample_dict.pop(\"cinco\")\n",
    "print(\"Diccionario:\", sample_dict)\n"
   ]
  },
  {
   "cell_type": "markdown",
   "id": "0dd6a981",
   "metadata": {},
   "source": [
    "\n",
    "El método **.update(...)** actualiza el diccionario con el diccionario indicado en el argumento.\n"
   ]
  },
  {
   "cell_type": "code",
   "execution_count": null,
   "id": "6d0f581d",
   "metadata": {},
   "outputs": [],
   "source": [
    "sample_dict = {\"uno\" : \"one\", \"cinco\" : \"five\", \"tres\" : \"three\"}\n",
    "\n",
    "print(\"Diccionario:\", sample_dict)\n",
    "\n",
    "other_dict = {\"siete\" : \"seven\", \"nueve\" : \"nine\", \"uno\" : \"ONE\"}\n",
    "print(\"\\nActualiza el diccionario con:\", other_dict)\n",
    "\n",
    "sample_dict.update(other_dict)\n",
    "print(\"Diccionario:\", sample_dict)\n"
   ]
  }
 ],
 "metadata": {
  "kernelspec": {
   "display_name": "Python 3 (ipykernel)",
   "language": "python",
   "name": "python3"
  },
  "language_info": {
   "codemirror_mode": {
    "name": "ipython",
    "version": 3
   },
   "file_extension": ".py",
   "mimetype": "text/x-python",
   "name": "python",
   "nbconvert_exporter": "python",
   "pygments_lexer": "ipython3",
   "version": "3.9.7"
  }
 },
 "nbformat": 4,
 "nbformat_minor": 5
}
