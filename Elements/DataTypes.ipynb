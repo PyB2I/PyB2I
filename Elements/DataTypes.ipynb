{
 "cells": [
  {
   "cell_type": "markdown",
   "id": "2b75df77",
   "metadata": {},
   "source": [
    "## Tipos de Datos en Python\n",
    "\n",
    "Los tipos de datos (data types) permiten procesar los diferentes valores de datos que se encuentran en la realidad.\n",
    "\n",
    "La función integrada **type(...)** permite determinar el tipo de dato del argumento.\n"
   ]
  },
  {
   "cell_type": "markdown",
   "id": "f9ceca44",
   "metadata": {},
   "source": [
    "### Tipos Numéricos\n",
    "\n",
    "Permite procesar valores númericos, que pueden ser enteros, reales o complejos."
   ]
  },
  {
   "cell_type": "markdown",
   "id": "ae6d093d",
   "metadata": {},
   "source": [
    "#### Tipo Entero\n",
    "\n",
    "Corresponde a los enteros de la matemática, se utilizan fundamentalmente en operaciones relacionadas con \"contar\"."
   ]
  },
  {
   "cell_type": "code",
   "execution_count": null,
   "id": "1de9fe4b",
   "metadata": {},
   "outputs": [],
   "source": [
    "# tipo int\n",
    "\n",
    "10"
   ]
  },
  {
   "cell_type": "code",
   "execution_count": null,
   "id": "779d5149",
   "metadata": {},
   "outputs": [],
   "source": [
    "type(10)"
   ]
  },
  {
   "cell_type": "markdown",
   "id": "8456a536",
   "metadata": {},
   "source": [
    "#### Tipo Punto flotante\n",
    "\n",
    "Corresponde a los reales de la matemática y se utilizan para representar valores con decimales.\n",
    "\n",
    "Tiene problemas con la precisión por lo que no es útil con valores que representan dinero; existe un tipo de dato **decimal** que representa y procesa mejor una cantidad fija de decimales."
   ]
  },
  {
   "cell_type": "code",
   "execution_count": null,
   "id": "16a53ff9",
   "metadata": {},
   "outputs": [],
   "source": [
    "# tipo float\n",
    "\n",
    "10.5"
   ]
  },
  {
   "cell_type": "code",
   "execution_count": null,
   "id": "b48e113f",
   "metadata": {},
   "outputs": [],
   "source": [
    "type(10.5)"
   ]
  },
  {
   "cell_type": "markdown",
   "id": "bee8dd90",
   "metadata": {},
   "source": [
    "#### Tipo  Complejo\n",
    "\n",
    "Corresponde a los complejos de la matemática, utilizados ampliamente en electrónica y telecomunicaciones para representar ondas electromagnéticas"
   ]
  },
  {
   "cell_type": "code",
   "execution_count": null,
   "id": "c0c8f59b",
   "metadata": {},
   "outputs": [],
   "source": [
    "# tipo complex\n",
    "\n",
    "4 + 9j"
   ]
  },
  {
   "cell_type": "code",
   "execution_count": null,
   "id": "3b9dc2b9",
   "metadata": {},
   "outputs": [],
   "source": [
    "type(4 + 9j)"
   ]
  },
  {
   "cell_type": "markdown",
   "id": "79b1fec1",
   "metadata": {},
   "source": [
    "### Tipos Booleanos\n",
    "\n",
    "Permite procesaro valores del [Álgebra de Boole](https://bookdown.org/alberto_brunete/intro_automatica/algebraboole.html); en álgebra booleana los valores son **0** y **1**, en programación suelen reemplazarse por **False** y **True** respectivamente."
   ]
  },
  {
   "cell_type": "code",
   "execution_count": null,
   "id": "6c619e74",
   "metadata": {},
   "outputs": [],
   "source": [
    "# tipo bool\n",
    "\n",
    "True"
   ]
  },
  {
   "cell_type": "code",
   "execution_count": null,
   "id": "22f397ee",
   "metadata": {},
   "outputs": [],
   "source": [
    "type(True)"
   ]
  },
  {
   "cell_type": "markdown",
   "id": "4b6229a6",
   "metadata": {},
   "source": [
    "### Tipos Secuencia\n",
    "\n",
    "Permite procesar colecciones de valores cuya característica es que están en secuencia, un valor después de otro.\n",
    "\n",
    "La función integrada **len(...)** permite determinar la cantidad de valores del argumento.\n"
   ]
  },
  {
   "cell_type": "markdown",
   "id": "cf0e08b3",
   "metadata": {},
   "source": [
    "#### Tipo Lista\n",
    "\n",
    "Se trata de una colección de valores de cualquier tipo a los que se accede individualmente mediante un índice, es posible  modificar los valores de la colección."
   ]
  },
  {
   "cell_type": "code",
   "execution_count": null,
   "id": "fca7e85b",
   "metadata": {},
   "outputs": [],
   "source": [
    "# tipo list\n",
    "\n",
    "[\"blanco\", 107, \"amarillo\", False, \"rojo\", 8+3j, \"verde\", \"verde\"]"
   ]
  },
  {
   "cell_type": "code",
   "execution_count": null,
   "id": "330455f0",
   "metadata": {},
   "outputs": [],
   "source": [
    "type([\"blanco\", 107, \"amarillo\", False, \"rojo\", 8+3j, \"verde\", \"verde\"])"
   ]
  },
  {
   "cell_type": "code",
   "execution_count": null,
   "id": "b1d0cc7a",
   "metadata": {},
   "outputs": [],
   "source": [
    "len([\"blanco\", 107, \"amarillo\", False, \"rojo\", 8+3j, \"verde\", \"verde\"])"
   ]
  },
  {
   "cell_type": "markdown",
   "id": "8bc176ac",
   "metadata": {},
   "source": [
    "#### Tipo Tupla\n",
    "\n",
    "se trata de una colección de valores de cualquier tipo a los que se accede individualmente mediante un índice, **no es posible modificar** los valores de la colección."
   ]
  },
  {
   "cell_type": "code",
   "execution_count": null,
   "id": "0bb45d05",
   "metadata": {},
   "outputs": [],
   "source": [
    "# tipo tuple\n",
    "\n",
    "(\"blanco\", 107, \"amarillo\", False, \"rojo\", 8+3j, \"verde\", \"verde\")"
   ]
  },
  {
   "cell_type": "code",
   "execution_count": null,
   "id": "3fd1ade2",
   "metadata": {},
   "outputs": [],
   "source": [
    "type((\"blanco\", 107, \"amarillo\", False, \"rojo\", 8+3j, \"verde\", \"verde\"))"
   ]
  },
  {
   "cell_type": "code",
   "execution_count": null,
   "id": "7b5166fe",
   "metadata": {},
   "outputs": [],
   "source": [
    "len((\"blanco\", 107, \"amarillo\", False, \"rojo\", 8+3j, \"verde\", \"verde\"))"
   ]
  },
  {
   "cell_type": "markdown",
   "id": "7f6ba00c",
   "metadata": {},
   "source": [
    "#### Tipo Rango"
   ]
  },
  {
   "cell_type": "code",
   "execution_count": null,
   "id": "88c39f35",
   "metadata": {},
   "outputs": [],
   "source": [
    "# tipo range\n",
    "\n",
    "range(7)"
   ]
  },
  {
   "cell_type": "code",
   "execution_count": null,
   "id": "48beb8af",
   "metadata": {},
   "outputs": [],
   "source": [
    "type(range(7))"
   ]
  },
  {
   "cell_type": "markdown",
   "id": "262d8cca",
   "metadata": {},
   "source": [
    "### Tipo Cadena de Caracteres\n",
    "\n",
    "Se trata de una secuencia no modificable de caracteres unicode."
   ]
  },
  {
   "cell_type": "code",
   "execution_count": null,
   "id": "b57646ce",
   "metadata": {},
   "outputs": [],
   "source": [
    "# tipo str\n",
    "\n",
    "\"Texto\""
   ]
  },
  {
   "cell_type": "code",
   "execution_count": null,
   "id": "62dc4137",
   "metadata": {},
   "outputs": [],
   "source": [
    "type(\"Texto\")"
   ]
  },
  {
   "cell_type": "code",
   "execution_count": null,
   "id": "982c0422",
   "metadata": {},
   "outputs": [],
   "source": [
    "len(\"Texto\")"
   ]
  },
  {
   "cell_type": "markdown",
   "id": "af33823d",
   "metadata": {},
   "source": [
    "### Tipo Conjunto\n",
    "\n",
    "Permite procesar colecciones de valores cuya característica es que son únicos."
   ]
  },
  {
   "cell_type": "code",
   "execution_count": null,
   "id": "bd39db70",
   "metadata": {},
   "outputs": [],
   "source": [
    "# tipo set\n",
    "\n",
    "{\"blanco\", 107, \"amarillo\", False, \"rojo\", 8+3j, \"verde\", \"verde\"}"
   ]
  },
  {
   "cell_type": "code",
   "execution_count": null,
   "id": "f5e0d4f5",
   "metadata": {},
   "outputs": [],
   "source": [
    "type({\"blanco\", 107, \"amarillo\", False, \"rojo\", 8+3j, \"verde\", \"verde\"})"
   ]
  },
  {
   "cell_type": "code",
   "execution_count": null,
   "id": "05879aec",
   "metadata": {},
   "outputs": [],
   "source": [
    "len({\"blanco\", 107, \"amarillo\", False, \"rojo\", 8+3j, \"verde\", \"verde\"})"
   ]
  },
  {
   "cell_type": "markdown",
   "id": "cc5b8c52",
   "metadata": {},
   "source": [
    "### Tipo Mapa\n",
    "\n",
    "Permite procesar relaciones conocidas como **par clave-valor** o **key-value pair**, el componente **clave** debe ser un valor no modificable y el componente **valor** puede ser de cualquier tipo."
   ]
  },
  {
   "cell_type": "code",
   "execution_count": null,
   "id": "14068b20",
   "metadata": {
    "scrolled": true
   },
   "outputs": [],
   "source": [
    "# tipo dict\n",
    "\n",
    "{\"nombre\" : \"Julio\", \"apellido\" : \"Tentor\", \"Edad\" : 59}"
   ]
  },
  {
   "cell_type": "code",
   "execution_count": null,
   "id": "3e299c5d",
   "metadata": {},
   "outputs": [],
   "source": [
    "type({\"nombre\" : \"Julio\", \"apellido\" : \"Tentor\", \"Edad\" : 59})"
   ]
  },
  {
   "cell_type": "code",
   "execution_count": null,
   "id": "4af0750b",
   "metadata": {},
   "outputs": [],
   "source": [
    "len({\"nombre\" : \"Julio\", \"apellido\" : \"Tentor\", \"Edad\" : 59})"
   ]
  }
 ],
 "metadata": {
  "kernelspec": {
   "display_name": "Python 3",
   "language": "python",
   "name": "python3"
  },
  "language_info": {
   "codemirror_mode": {
    "name": "ipython",
    "version": 3
   },
   "file_extension": ".py",
   "mimetype": "text/x-python",
   "name": "python",
   "nbconvert_exporter": "python",
   "pygments_lexer": "ipython3",
   "version": "3.8.8"
  }
 },
 "nbformat": 4,
 "nbformat_minor": 5
}
