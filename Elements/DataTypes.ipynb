{
 "cells": [
  {
   "cell_type": "markdown",
   "id": "2b75df77",
   "metadata": {},
   "source": [
    "## Tipos\n",
    "\n",
    "En Python los tipos de datos (data types) son lo que permite procesar los datos, los datos pueden ser de diferentes tipos lo que permite \"hacer\" diferentes cosas con ellos\n",
    "\n",
    "La función integrada **type(...)** permite determinar el tipo de dato del argumento\n"
   ]
  },
  {
   "cell_type": "markdown",
   "id": "f9ceca44",
   "metadata": {},
   "source": [
    "### Tipos Numéricos\n",
    "\n",
    "Permite procesar valores númericos, que pueden ser enteros, reales o complejos"
   ]
  },
  {
   "cell_type": "code",
   "execution_count": null,
   "id": "1de9fe4b",
   "metadata": {
    "collapsed": true
   },
   "outputs": [],
   "source": [
    "# tipo int\n",
    "\n",
    "10"
   ]
  },
  {
   "cell_type": "code",
   "execution_count": null,
   "id": "779d5149",
   "metadata": {
    "collapsed": true
   },
   "outputs": [],
   "source": [
    "type(10)"
   ]
  },
  {
   "cell_type": "code",
   "execution_count": null,
   "id": "16a53ff9",
   "metadata": {
    "collapsed": true
   },
   "outputs": [],
   "source": [
    "# tipo float\n",
    "\n",
    "10.5"
   ]
  },
  {
   "cell_type": "code",
   "execution_count": null,
   "id": "b48e113f",
   "metadata": {
    "collapsed": true
   },
   "outputs": [],
   "source": [
    "type(10.5)"
   ]
  },
  {
   "cell_type": "code",
   "execution_count": null,
   "id": "c0c8f59b",
   "metadata": {
    "collapsed": true
   },
   "outputs": [],
   "source": [
    "# tipo complex\n",
    "\n",
    "4 + 9j"
   ]
  },
  {
   "cell_type": "code",
   "execution_count": null,
   "id": "3b9dc2b9",
   "metadata": {
    "collapsed": true
   },
   "outputs": [],
   "source": [
    "type(4 + 9j)"
   ]
  },
  {
   "cell_type": "markdown",
   "id": "4b6229a6",
   "metadata": {},
   "source": [
    "### Tipos Secuencia\n",
    "\n",
    "Permite procesar varios valores que presentan una secuencia"
   ]
  },
  {
   "cell_type": "code",
   "execution_count": null,
   "id": "fca7e85b",
   "metadata": {
    "collapsed": true
   },
   "outputs": [],
   "source": [
    "# tipo list\n",
    "\n",
    "[\"blanco\", \"amarillo\", \"rojo\", \"verde\", \"verde\"]"
   ]
  },
  {
   "cell_type": "code",
   "execution_count": null,
   "id": "330455f0",
   "metadata": {
    "collapsed": true
   },
   "outputs": [],
   "source": [
    "type([\"blanco\", \"amarillo\", \"rojo\", \"verde\", \"verde\"])"
   ]
  },
  {
   "cell_type": "code",
   "execution_count": null,
   "id": "0bb45d05",
   "metadata": {
    "collapsed": true
   },
   "outputs": [],
   "source": [
    "# tipo tuple\n",
    "\n",
    "(\"blanco\", \"amarillo\", \"rojo\", \"verde\", \"verde\")"
   ]
  },
  {
   "cell_type": "code",
   "execution_count": null,
   "id": "3fd1ade2",
   "metadata": {
    "collapsed": true
   },
   "outputs": [],
   "source": [
    "type((\"blanco\", \"amarillo\", \"rojo\", \"verde\", \"verde\"))"
   ]
  },
  {
   "cell_type": "code",
   "execution_count": null,
   "id": "88c39f35",
   "metadata": {
    "collapsed": true
   },
   "outputs": [],
   "source": [
    "# tipo range\n",
    "\n",
    "range(7)"
   ]
  },
  {
   "cell_type": "code",
   "execution_count": null,
   "id": "48beb8af",
   "metadata": {
    "collapsed": true
   },
   "outputs": [],
   "source": [
    "type(range(7))"
   ]
  },
  {
   "cell_type": "markdown",
   "id": "262d8cca",
   "metadata": {},
   "source": [
    "### Tipo Cadena de Caracteres\n",
    "\n",
    "Se trata de una secuencia inmutable de caracteres unicode"
   ]
  },
  {
   "cell_type": "code",
   "execution_count": null,
   "id": "b57646ce",
   "metadata": {
    "collapsed": true
   },
   "outputs": [],
   "source": [
    "# tipo str\n",
    "\n",
    "\"Texto\""
   ]
  },
  {
   "cell_type": "code",
   "execution_count": null,
   "id": "62dc4137",
   "metadata": {
    "collapsed": true
   },
   "outputs": [],
   "source": [
    "type(\"Texto\")"
   ]
  },
  {
   "cell_type": "markdown",
   "id": "af33823d",
   "metadata": {},
   "source": [
    "### Tipo Conjunto\n",
    "\n",
    "..."
   ]
  },
  {
   "cell_type": "code",
   "execution_count": null,
   "id": "bd39db70",
   "metadata": {
    "collapsed": true
   },
   "outputs": [],
   "source": [
    "# tipo set\n",
    "\n",
    "{\"blanco\", \"amarillo\", \"rojo\", \"verde\", \"verde\"}"
   ]
  },
  {
   "cell_type": "code",
   "execution_count": null,
   "id": "f5e0d4f5",
   "metadata": {
    "collapsed": true
   },
   "outputs": [],
   "source": [
    "type({\"blanco\", \"amarillo\", \"rojo\", \"verde\", \"verde\"})"
   ]
  },
  {
   "cell_type": "markdown",
   "id": "cc5b8c52",
   "metadata": {},
   "source": [
    "### Tipo Mapa\n",
    "\n",
    "..."
   ]
  },
  {
   "cell_type": "code",
   "execution_count": null,
   "id": "14068b20",
   "metadata": {
    "collapsed": true
   },
   "outputs": [],
   "source": [
    "# tipo dict\n",
    "\n",
    "{\"nombre\" : \"Julio\", \"apellido\" : \"Tentor\", \"Edad\" : 59}"
   ]
  },
  {
   "cell_type": "code",
   "execution_count": null,
   "id": "3e299c5d",
   "metadata": {
    "collapsed": true
   },
   "outputs": [],
   "source": [
    "type({\"nombre\" : \"Julio\", \"apellido\" : \"Tentor\", \"Edad\" : 59})"
   ]
  },
  {
   "cell_type": "code",
   "execution_count": null,
   "id": "6c619e74",
   "metadata": {
    "collapsed": true
   },
   "outputs": [],
   "source": [
    "# tipo bool\n",
    "\n",
    "True"
   ]
  },
  {
   "cell_type": "code",
   "execution_count": null,
   "id": "22f397ee",
   "metadata": {
    "collapsed": true
   },
   "outputs": [],
   "source": [
    "type(True)"
   ]
  }
 ],
 "metadata": {
  "celltoolbar": "Slideshow",
  "kernelspec": {
   "display_name": "Python 3",
   "language": "python",
   "name": "python3"
  },
  "language_info": {
   "codemirror_mode": {
    "name": "ipython",
    "version": 3
   },
   "file_extension": ".py",
   "mimetype": "text/x-python",
   "name": "python",
   "nbconvert_exporter": "python",
   "pygments_lexer": "ipython3",
   "version": "3.8.8"
  }
 },
 "nbformat": 4,
 "nbformat_minor": 5
}
