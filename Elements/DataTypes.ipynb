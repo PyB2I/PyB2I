{
 "cells": [
  {
   "cell_type": "markdown",
   "id": "2b75df77",
   "metadata": {},
   "source": [
    "## Tipos\n",
    "\n",
    "En Python los tipos de datos (data types) son lo que permite procesar los datos, los datos pueden ser de diferentes tipos lo que permite \"hacer\" diferentes cosas con ellos\n",
    "\n",
    "La función integrada **type(...)** permite determinar el tipo de dato del argumento\n"
   ]
  },
  {
   "cell_type": "markdown",
   "id": "f9ceca44",
   "metadata": {},
   "source": [
    "### Tipos Numéricos\n",
    "\n",
    "Permite procesar valores númericos, que pueden ser enteros, reales o complejos"
   ]
  },
  {
   "cell_type": "markdown",
   "id": "ae6d093d",
   "metadata": {},
   "source": [
    "#### Tipo Entero"
   ]
  },
  {
   "cell_type": "code",
   "execution_count": null,
   "id": "1de9fe4b",
   "metadata": {},
   "outputs": [],
   "source": [
    "# tipo int\n",
    "\n",
    "10"
   ]
  },
  {
   "cell_type": "code",
   "execution_count": null,
   "id": "779d5149",
   "metadata": {},
   "outputs": [],
   "source": [
    "type(10)"
   ]
  },
  {
   "cell_type": "markdown",
   "id": "8456a536",
   "metadata": {},
   "source": [
    "#### Tipo Punto flotante"
   ]
  },
  {
   "cell_type": "code",
   "execution_count": null,
   "id": "16a53ff9",
   "metadata": {},
   "outputs": [],
   "source": [
    "# tipo float\n",
    "\n",
    "10.5"
   ]
  },
  {
   "cell_type": "code",
   "execution_count": null,
   "id": "b48e113f",
   "metadata": {},
   "outputs": [],
   "source": [
    "type(10.5)"
   ]
  },
  {
   "cell_type": "markdown",
   "id": "bee8dd90",
   "metadata": {},
   "source": [
    "#### Tipo  Complejo"
   ]
  },
  {
   "cell_type": "code",
   "execution_count": null,
   "id": "c0c8f59b",
   "metadata": {},
   "outputs": [],
   "source": [
    "# tipo complex\n",
    "\n",
    "4 + 9j"
   ]
  },
  {
   "cell_type": "code",
   "execution_count": null,
   "id": "3b9dc2b9",
   "metadata": {},
   "outputs": [],
   "source": [
    "type(4 + 9j)"
   ]
  },
  {
   "cell_type": "markdown",
   "id": "79b1fec1",
   "metadata": {},
   "source": [
    "### Tipos Booleanos\n",
    "\n",
    "Permite procesaro valores del Álgebra de Bool"
   ]
  },
  {
   "cell_type": "code",
   "execution_count": null,
   "id": "6c619e74",
   "metadata": {},
   "outputs": [],
   "source": [
    "# tipo bool\n",
    "\n",
    "True"
   ]
  },
  {
   "cell_type": "code",
   "execution_count": null,
   "id": "22f397ee",
   "metadata": {},
   "outputs": [],
   "source": [
    "type(True)"
   ]
  },
  {
   "cell_type": "markdown",
   "id": "4b6229a6",
   "metadata": {},
   "source": [
    "### Tipos Secuencia\n",
    "\n",
    "Permite procesar varios valores que están en secuencia, uno después de otro"
   ]
  },
  {
   "cell_type": "markdown",
   "id": "cf0e08b3",
   "metadata": {},
   "source": [
    "#### Tipo Lista"
   ]
  },
  {
   "cell_type": "code",
   "execution_count": null,
   "id": "fca7e85b",
   "metadata": {},
   "outputs": [],
   "source": [
    "# tipo list\n",
    "\n",
    "[\"blanco\", 107, \"amarillo\", False, \"rojo\", 8+3j, \"verde\", \"verde\"]"
   ]
  },
  {
   "cell_type": "code",
   "execution_count": null,
   "id": "330455f0",
   "metadata": {},
   "outputs": [],
   "source": [
    "type([\"blanco\", 107, \"amarillo\", False, \"rojo\", 8+3j, \"verde\", \"verde\"])"
   ]
  },
  {
   "cell_type": "code",
   "execution_count": null,
   "id": "b1d0cc7a",
   "metadata": {},
   "outputs": [],
   "source": [
    "len([\"blanco\", 107, \"amarillo\", False, \"rojo\", 8+3j, \"verde\", \"verde\"])"
   ]
  },
  {
   "cell_type": "markdown",
   "id": "8bc176ac",
   "metadata": {},
   "source": [
    "#### Tipo Tupla"
   ]
  },
  {
   "cell_type": "code",
   "execution_count": null,
   "id": "0bb45d05",
   "metadata": {},
   "outputs": [],
   "source": [
    "# tipo tuple\n",
    "\n",
    "(\"blanco\", 107, \"amarillo\", False, \"rojo\", 8+3j, \"verde\", \"verde\")"
   ]
  },
  {
   "cell_type": "code",
   "execution_count": null,
   "id": "3fd1ade2",
   "metadata": {},
   "outputs": [],
   "source": [
    "type((\"blanco\", 107, \"amarillo\", False, \"rojo\", 8+3j, \"verde\", \"verde\"))"
   ]
  },
  {
   "cell_type": "code",
   "execution_count": null,
   "id": "7b5166fe",
   "metadata": {},
   "outputs": [],
   "source": [
    "len((\"blanco\", 107, \"amarillo\", False, \"rojo\", 8+3j, \"verde\", \"verde\"))"
   ]
  },
  {
   "cell_type": "markdown",
   "id": "7f6ba00c",
   "metadata": {},
   "source": [
    "#### Tipo Rango"
   ]
  },
  {
   "cell_type": "code",
   "execution_count": null,
   "id": "88c39f35",
   "metadata": {},
   "outputs": [],
   "source": [
    "# tipo range\n",
    "\n",
    "range(7)"
   ]
  },
  {
   "cell_type": "code",
   "execution_count": null,
   "id": "48beb8af",
   "metadata": {},
   "outputs": [],
   "source": [
    "type(range(7))"
   ]
  },
  {
   "cell_type": "markdown",
   "id": "262d8cca",
   "metadata": {},
   "source": [
    "### Tipo Cadena de Caracteres\n",
    "\n",
    "Se trata de una secuencia inmutable de caracteres unicode"
   ]
  },
  {
   "cell_type": "code",
   "execution_count": null,
   "id": "b57646ce",
   "metadata": {},
   "outputs": [],
   "source": [
    "# tipo str\n",
    "\n",
    "\"Texto\""
   ]
  },
  {
   "cell_type": "code",
   "execution_count": null,
   "id": "62dc4137",
   "metadata": {},
   "outputs": [],
   "source": [
    "type(\"Texto\")"
   ]
  },
  {
   "cell_type": "code",
   "execution_count": null,
   "id": "982c0422",
   "metadata": {},
   "outputs": [],
   "source": [
    "len(\"Texto\")"
   ]
  },
  {
   "cell_type": "markdown",
   "id": "af33823d",
   "metadata": {},
   "source": [
    "### Tipo Conjunto\n",
    "\n",
    "..."
   ]
  },
  {
   "cell_type": "code",
   "execution_count": null,
   "id": "bd39db70",
   "metadata": {},
   "outputs": [],
   "source": [
    "# tipo set\n",
    "\n",
    "{\"blanco\", 107, \"amarillo\", False, \"rojo\", 8+3j, \"verde\", \"verde\"}"
   ]
  },
  {
   "cell_type": "code",
   "execution_count": null,
   "id": "f5e0d4f5",
   "metadata": {},
   "outputs": [],
   "source": [
    "type({\"blanco\", 107, \"amarillo\", False, \"rojo\", 8+3j, \"verde\", \"verde\"})"
   ]
  },
  {
   "cell_type": "code",
   "execution_count": null,
   "id": "05879aec",
   "metadata": {},
   "outputs": [],
   "source": [
    "len({\"blanco\", 107, \"amarillo\", False, \"rojo\", 8+3j, \"verde\", \"verde\"})"
   ]
  },
  {
   "cell_type": "markdown",
   "id": "cc5b8c52",
   "metadata": {},
   "source": [
    "### Tipo Mapa\n",
    "\n",
    "..."
   ]
  },
  {
   "cell_type": "code",
   "execution_count": null,
   "id": "14068b20",
   "metadata": {
    "scrolled": true
   },
   "outputs": [],
   "source": [
    "# tipo dict\n",
    "\n",
    "{\"nombre\" : \"Julio\", \"apellido\" : \"Tentor\", \"Edad\" : 59}"
   ]
  },
  {
   "cell_type": "code",
   "execution_count": null,
   "id": "3e299c5d",
   "metadata": {},
   "outputs": [],
   "source": [
    "type({\"nombre\" : \"Julio\", \"apellido\" : \"Tentor\", \"Edad\" : 59})"
   ]
  },
  {
   "cell_type": "code",
   "execution_count": null,
   "id": "4af0750b",
   "metadata": {},
   "outputs": [],
   "source": [
    "len({\"nombre\" : \"Julio\", \"apellido\" : \"Tentor\", \"Edad\" : 59})"
   ]
  }
 ],
 "metadata": {
  "kernelspec": {
   "display_name": "Python 3",
   "language": "python",
   "name": "python3"
  },
  "language_info": {
   "codemirror_mode": {
    "name": "ipython",
    "version": 3
   },
   "file_extension": ".py",
   "mimetype": "text/x-python",
   "name": "python",
   "nbconvert_exporter": "python",
   "pygments_lexer": "ipython3",
   "version": "3.8.8"
  }
 },
 "nbformat": 4,
 "nbformat_minor": 5
}
