{
 "cells": [
  {
   "cell_type": "markdown",
   "id": "2e23f6ef",
   "metadata": {},
   "source": [
    "<img src=\"../Images/Level1Beginner.png\" alt=\"Beginner\" width=\"128\" height=\"128\" align=\"right\">\n",
    "\n",
    "## Ejercicios de Conjuntos"
   ]
  },
  {
   "cell_type": "markdown",
   "id": "736d1022",
   "metadata": {},
   "source": [
    "## Suprimir repeticiones\n",
    "\n",
    "Escribe el código que permita leer una frase o cadena de texto y generar una lista de las palabras de la frase o cadena de texto sin repetir y en minúsculas.\n",
    "<span><img src=\"../Images/selected.png\" alt=\"Selected\" width=\"32\" height=\"32\" align=\"right\"></span>\n"
   ]
  },
  {
   "cell_type": "code",
   "execution_count": null,
   "id": "8487534e",
   "metadata": {},
   "outputs": [],
   "source": [
    "# obtener la frase a procesar\n",
    "phrase = input(\"Ingrese una frase: \")\n",
    "\n",
    "# código para obtener las palabras de la frase sin repetir y en minúsculas\n",
    "# ...\n"
   ]
  }
 ],
 "metadata": {
  "kernelspec": {
   "display_name": "Python 3 (ipykernel)",
   "language": "python",
   "name": "python3"
  },
  "language_info": {
   "codemirror_mode": {
    "name": "ipython",
    "version": 3
   },
   "file_extension": ".py",
   "mimetype": "text/x-python",
   "name": "python",
   "nbconvert_exporter": "python",
   "pygments_lexer": "ipython3",
   "version": "3.9.7"
  }
 },
 "nbformat": 4,
 "nbformat_minor": 5
}
