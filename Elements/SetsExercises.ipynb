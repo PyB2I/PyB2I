{
 "cells": [
  {
   "cell_type": "markdown",
   "id": "2e23f6ef",
   "metadata": {},
   "source": [
    "<img src=\"../Images/Level1Beginner.png\" alt=\"Beginner\" width=\"128\" height=\"128\" align=\"right\">\n",
    "\n",
    "## Ejercicios de Conjuntos"
   ]
  },
  {
   "cell_type": "markdown",
   "id": "736d1022",
   "metadata": {},
   "source": [
    "## Suprimir repeticiones\n",
    "\n",
    "Escribe el código que permita leer una frase o cadena de texto y generar una lista de las palabras de la frase o cadena de texto sin repetir y en minúsculas.\n",
    "<span><img src=\"../Images/selected.png\" alt=\"Selected\" width=\"32\" height=\"32\" align=\"right\"></span>\n"
   ]
  },
  {
   "cell_type": "code",
   "execution_count": null,
   "id": "8487534e",
   "metadata": {},
   "outputs": [],
   "source": [
    "# obtener la frase a procesar\n",
    "phrase = input(\"Ingrese una frase: \")\n",
    "\n",
    "# código para obtener las palabras de la frase sin repetir y en minúsculas\n",
    "# ...\n"
   ]
  },
  {
   "cell_type": "markdown",
   "id": "8a87692f",
   "metadata": {},
   "source": [
    "\n",
    "Determine cuáles son las palabras de más de cuatro letras comunes a los siguientes poemas de Pablo Neruda.\n"
   ]
  },
  {
   "cell_type": "code",
   "execution_count": null,
   "id": "491dcbcd",
   "metadata": {},
   "outputs": [],
   "source": [
    "\n",
    "neruda_15 = 'Me gustas cuando callas porque estás como ausente, y me oyes desde lejos, \\\n",
    "y mi voz no te toca.\\nParece que los ojos se te hubieran volado y parece que un beso te \\\n",
    "cerrara la boca.\\nComo todas las cosas están llenas de mi alma emerges de las cosas, llena \\\n",
    "del alma mía.\\nMariposa de sueño, te pareces a mi alma, y te pareces a la palabra melancolía.\\n\\\n",
    "Me gustas cuando callas y estás como distante.\\nY estás como quejándote, mariposa en arrullo.\\n\\\n",
    "Y me oyes desde lejos, y mi voz no te alcanza:\\nDéjame que me calle con el silencio tuyo.\\n\\\n",
    "Déjame que te hable también con tu silencio claro como una lámpara, simple como un anillo.\\n\\\n",
    "Eres como la noche, callada y constelada.\\nTu silencio es de estrella, tan lejano y sencillo.\\n\\\n",
    "Me gustas cuando callas porque estás como ausente.\\nDistante y dolorosa como si hubieras muerto.\\n\\\n",
    "Una palabra entonces, una sonrisa bastan.\\nY estoy alegre, alegre de que no sea cierto.\\n'\n",
    "\n",
    "neruda_20 = 'Puedo escribir los versos más tristes esta noche.\\nEscribir, por ejemplo: \\\n",
    "\"La noche está estrellada, y tiritan, azules, los astros, a lo lejos.\"\\n\\\n",
    "El viento de la noche gira en el cielo y canta.\\nPuedo escribir los versos más tristes esta noche.\\n\\\n",
    "Yo la quise, y a veces ella también me quiso.\\nEn las noches como ésta la tuve entre mis brazos.\\n\\\n",
    "La besé tantas veces bajo el cielo infinito.\\nElla me quiso, a veces yo también la quería.\\n\\\n",
    "Cómo no haber amado sus grandes ojos fijos.\\nPuedo escribir los versos más tristes esta noche.\\n\\\n",
    "Pensar que no la tengo.\\nSentir que la he perdido.\\nOir la noche inmensa, más inmensa sin ella.\\n\\\n",
    "Y el verso cae al alma como al pasto el rocío.\\nQué importa que mi amor no pudiera guardarla.\\n\\\n",
    "La noche está estrellada y ella no está conmigo.\\nEso es todo. A lo lejos alguien canta.\\n\\\n",
    "A lo lejos.\\nMi alma no se contenta con haberla perdido.\\nComo para acercarla mi mirada la busca.\\n\\\n",
    "Mi corazón la busca, y ella no está conmigo.\\nLa misma noche que hace blanquear los mismos árboles.\\n\\\n",
    "Nosotros, los de entonces, ya no somos los mismos.\\nYa no la quiero, es cierto, pero cuánto la quise.\\n\\\n",
    "Mi voz buscaba el viento para tocar su oído.\\nDe otro.\\nSerá de otro.\\nComo antes de mis besos.\\n\\\n",
    "Su voz, su cuerpo claro.\\nSus ojos infinitos.\\nYa no la quiero, es cierto, pero tal vez la quiero.\\n\\\n",
    "Es tan corto el amor, y es tan largo el olvido.\\nPorque en noches como ésta la tuve entre mis brazos, \\\n",
    "mi alma no se contenta con haberla perdido.\\nAunque éste sea el ultimo dolor que ella me causa, y \\\n",
    "estos sean los últimos versos que yo le escribo.\\n'\n",
    "\n",
    "print(\"\\nPablo Neruda, poema Nro 15\\n\", neruda_15, sep = '')\n",
    "print(\"\\nPablo Neruda, poema Nro 20\\n\", neruda_20, sep = '')\n",
    "\n",
    "# ..."
   ]
  }
 ],
 "metadata": {
  "kernelspec": {
   "display_name": "Python 3 (ipykernel)",
   "language": "python",
   "name": "python3"
  },
  "language_info": {
   "codemirror_mode": {
    "name": "ipython",
    "version": 3
   },
   "file_extension": ".py",
   "mimetype": "text/x-python",
   "name": "python",
   "nbconvert_exporter": "python",
   "pygments_lexer": "ipython3",
   "version": "3.9.7"
  }
 },
 "nbformat": 4,
 "nbformat_minor": 5
}
