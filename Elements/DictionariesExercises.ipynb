{
 "cells": [
  {
   "cell_type": "markdown",
   "id": "2e23f6ef",
   "metadata": {},
   "source": [
    "<img src=\"../Images/Level2Intermediate.png\" alt=\"Intermediate\" width=\"128\" height=\"128\" align=\"right\">\n",
    "\n",
    "## Ejercicios de Diccionarios"
   ]
  },
  {
   "cell_type": "markdown",
   "id": "1fd32ea9",
   "metadata": {},
   "source": [
    "\n",
    "Determine la cantidad de apariciones en cada poema de las palabras de más de cuatro letras comunes a los siguientes poemas de Pablo Neruda.\n"
   ]
  },
  {
   "cell_type": "code",
   "execution_count": 15,
   "id": "1e9be06b",
   "metadata": {},
   "outputs": [
    {
     "name": "stdout",
     "output_type": "stream",
     "text": [
      "\n",
      "Pablo Neruda, poema Nro 15\n",
      "\n",
      "porque 2\n",
      "entonces, 1\n",
      "también 1\n",
      "\n",
      "Pablo Neruda, poema Nro 20\n",
      "\n",
      "porque 1\n",
      "entonces, 1\n",
      "también 2\n"
     ]
    }
   ],
   "source": [
    "\n",
    "neruda_15 = 'Me gustas cuando callas porque estás como ausente, y me oyes desde lejos, \\\n",
    "y mi voz no te toca.\\nParece que los ojos se te hubieran volado y parece que un beso te \\\n",
    "cerrara la boca.\\nComo todas las cosas están llenas de mi alma emerges de las cosas, llena \\\n",
    "del alma mía.\\nMariposa de sueño, te pareces a mi alma, y te pareces a la palabra melancolía.\\n\\\n",
    "Me gustas cuando callas y estás como distante.\\nY estás como quejándote, mariposa en arrullo.\\n\\\n",
    "Y me oyes desde lejos, y mi voz no te alcanza:\\nDéjame que me calle con el silencio tuyo.\\n\\\n",
    "Déjame que te hable también con tu silencio claro como una lámpara, simple como un anillo.\\n\\\n",
    "Eres como la noche, callada y constelada.\\nTu silencio es de estrella, tan lejano y sencillo.\\n\\\n",
    "Me gustas cuando callas porque estás como ausente.\\nDistante y dolorosa como si hubieras muerto.\\n\\\n",
    "Una palabra entonces, una sonrisa bastan.\\nY estoy alegre, alegre de que no sea cierto.\\n'\n",
    "\n",
    "neruda_20 = 'Puedo escribir los versos más tristes esta noche.\\nEscribir, por ejemplo: \\\n",
    "\"La noche está estrellada, y tiritan, azules, los astros, a lo lejos.\"\\n\\\n",
    "El viento de la noche gira en el cielo y canta.\\nPuedo escribir los versos más tristes esta noche.\\n\\\n",
    "Yo la quise, y a veces ella también me quiso.\\nEn las noches como ésta la tuve entre mis brazos.\\n\\\n",
    "La besé tantas veces bajo el cielo infinito.\\nElla me quiso, a veces yo también la quería.\\n\\\n",
    "Cómo no haber amado sus grandes ojos fijos.\\nPuedo escribir los versos más tristes esta noche.\\n\\\n",
    "Pensar que no la tengo.\\nSentir que la he perdido.\\nOir la noche inmensa, más inmensa sin ella.\\n\\\n",
    "Y el verso cae al alma como al pasto el rocío.\\nQué importa que mi amor no pudiera guardarla.\\n\\\n",
    "La noche está estrellada y ella no está conmigo.\\nEso es todo. A lo lejos alguien canta.\\n\\\n",
    "A lo lejos.\\nMi alma no se contenta con haberla perdido.\\nComo para acercarla mi mirada la busca.\\n\\\n",
    "Mi corazón la busca, y ella no está conmigo.\\nLa misma noche que hace blanquear los mismos árboles.\\n\\\n",
    "Nosotros, los de entonces, ya no somos los mismos.\\nYa no la quiero, es cierto, pero cuánto la quise.\\n\\\n",
    "Mi voz buscaba el viento para tocar su oído.\\nDe otro.\\nSerá de otro.\\nComo antes de mis besos.\\n\\\n",
    "Su voz, su cuerpo claro.\\nSus ojos infinitos.\\nYa no la quiero, es cierto, pero tal vez la quiero.\\n\\\n",
    "Es tan corto el amor, y es tan largo el olvido.\\nPorque en noches como ésta la tuve entre mis brazos, \\\n",
    "mi alma no se contenta con haberla perdido.\\nAunque éste sea el ultimo dolor que ella me causa, y \\\n",
    "estos sean los últimos versos que yo le escribo.\\n'\n",
    "\n",
    "# print(\"\\nPablo Neruda, poema Nro 15\\n\", neruda_15, sep = '')\n",
    "# print(\"\\nPablo Neruda, poema Nro 20\\n\", neruda_20, sep = '')\n",
    "\n",
    "# ...\n",
    "\n",
    "words4 = set()\n",
    "for word in set(neruda_15.lower().split()) & set(neruda_20.lower().split()):\n",
    "    if len(word) > 4 :\n",
    "        words4.add(word)\n",
    "\n",
    "# print(words4)\n",
    "\n",
    "my_dict_15 = dict()\n",
    "for word in neruda_15.lower().split() :\n",
    "    my_dict_15[word] = my_dict_15.get(word, 0) + 1\n",
    "\n",
    "# print(my_dict_15)\n",
    "\n",
    "print(\"\\nPablo Neruda, poema Nro 15\\n\")\n",
    "for word in words4 :\n",
    "    print(word, my_dict_15.get(word, 0))\n",
    "    \n",
    "my_dict_20 = dict()\n",
    "for word in neruda_20.lower().split() :\n",
    "    my_dict_20[word] = my_dict_20.get(word, 0) + 1\n",
    "\n",
    "# print(my_dict_20)\n",
    "\n",
    "print(\"\\nPablo Neruda, poema Nro 20\\n\")\n",
    "for word in words4 :\n",
    "    print(word, my_dict_20.get(word, 0))"
   ]
  },
  {
   "cell_type": "code",
   "execution_count": null,
   "id": "db469b1c",
   "metadata": {},
   "outputs": [],
   "source": []
  }
 ],
 "metadata": {
  "kernelspec": {
   "display_name": "Python 3 (ipykernel)",
   "language": "python",
   "name": "python3"
  },
  "language_info": {
   "codemirror_mode": {
    "name": "ipython",
    "version": 3
   },
   "file_extension": ".py",
   "mimetype": "text/x-python",
   "name": "python",
   "nbconvert_exporter": "python",
   "pygments_lexer": "ipython3",
   "version": "3.9.7"
  }
 },
 "nbformat": 4,
 "nbformat_minor": 5
}
