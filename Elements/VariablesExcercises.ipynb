{
 "cells": [
  {
   "cell_type": "markdown",
   "id": "ef0638e6",
   "metadata": {},
   "source": [
    "<img src=\"../Images/Level1Beginner.png\" alt=\"Beginner\" width=\"128\" height=\"128\" align=\"right\">\n",
    "\n",
    "## Ejercicios de Variables"
   ]
  },
  {
   "cell_type": "markdown",
   "id": "d37c7461",
   "metadata": {},
   "source": [
    "### Identificadores válidos\n",
    "\n",
    "Determina que identificador o nombre de variables es correcto y cuál no\n",
    "\n",
    "Antes de ejecutar la celda trata de enunciar si es correcto o no.\n",
    "<span><img src=\"../Images/selected.png\" alt=\"Selected\" width=\"32\" height=\"32\" align=\"right\"></span>"
   ]
  },
  {
   "cell_type": "code",
   "execution_count": null,
   "id": "aa159139",
   "metadata": {},
   "outputs": [],
   "source": [
    "Identificador = 1"
   ]
  },
  {
   "cell_type": "code",
   "execution_count": null,
   "id": "a566508b",
   "metadata": {},
   "outputs": [],
   "source": [
    "Indice\\dos = 1"
   ]
  },
  {
   "cell_type": "code",
   "execution_count": null,
   "id": "5a1fd18f",
   "metadata": {
    "scrolled": true
   },
   "outputs": [],
   "source": [
    "dos palabras = 1"
   ]
  },
  {
   "cell_type": "code",
   "execution_count": null,
   "id": "a66e1353",
   "metadata": {},
   "outputs": [],
   "source": [
    "__ = 1"
   ]
  },
  {
   "cell_type": "code",
   "execution_count": null,
   "id": "d96958c4",
   "metadata": {
    "scrolled": true
   },
   "outputs": [],
   "source": [
    "12hours = 1"
   ]
  },
  {
   "cell_type": "code",
   "execution_count": null,
   "id": "039034af",
   "metadata": {},
   "outputs": [],
   "source": [
    "hours12 = 1"
   ]
  },
  {
   "cell_type": "code",
   "execution_count": null,
   "id": "8707a764",
   "metadata": {},
   "outputs": [],
   "source": [
    "Desviación = 1"
   ]
  },
  {
   "cell_type": "code",
   "execution_count": null,
   "id": "36e44eeb",
   "metadata": {},
   "outputs": [],
   "source": [
    "año = 1"
   ]
  },
  {
   "cell_type": "code",
   "execution_count": null,
   "id": "de5d6945",
   "metadata": {},
   "outputs": [],
   "source": [
    "from = 1"
   ]
  },
  {
   "cell_type": "code",
   "execution_count": null,
   "id": "c43c649d",
   "metadata": {
    "scrolled": true
   },
   "outputs": [],
   "source": [
    "var! = 1"
   ]
  },
  {
   "cell_type": "code",
   "execution_count": null,
   "id": "c7ad2235",
   "metadata": {
    "scrolled": false
   },
   "outputs": [],
   "source": [
    "'var' = 1"
   ]
  },
  {
   "cell_type": "code",
   "execution_count": null,
   "id": "67e9e73d",
   "metadata": {},
   "outputs": [],
   "source": [
    "_x_ = 1"
   ]
  },
  {
   "cell_type": "markdown",
   "id": "084c2c2b",
   "metadata": {},
   "source": [
    "\n",
    "¿Qué resulta de ejecutar el siguiente código?"
   ]
  },
  {
   "cell_type": "code",
   "execution_count": null,
   "id": "b714999b",
   "metadata": {},
   "outputs": [],
   "source": [
    "\n",
    "x = 10\n",
    "x = x * 10\n",
    "x\n"
   ]
  },
  {
   "cell_type": "markdown",
   "id": "d54bb881",
   "metadata": {},
   "source": [
    "### Expresión polinomial\n",
    "\n",
    "Evalúe el polinomio: \"equis a la cuarta más equis al cubo más dos veces equis al cuadrado menos equis\" para equis = 1.1, el resultado debe ser 4.1151.\n",
    "\n",
    "Se trata de escribir la expresión matemática del polinomi que incluya la variable \"x\", luego se puede ejecutar la celda para verificar el resultado.\n",
    "<span><img src=\"../Images/selected.png\" alt=\"Selected\" width=\"32\" height=\"32\" align=\"right\"></span>"
   ]
  },
  {
   "cell_type": "code",
   "execution_count": null,
   "id": "cc77b27f",
   "metadata": {},
   "outputs": [],
   "source": [
    "\n",
    "x = 1.1\n",
    "# ...\n"
   ]
  },
  {
   "cell_type": "markdown",
   "id": "a8d55df3",
   "metadata": {},
   "source": [
    "### Expresiones interesantes\n",
    "\n",
    "¿Qué resultado se obtiene ...?\n"
   ]
  },
  {
   "cell_type": "code",
   "execution_count": null,
   "id": "43932df8",
   "metadata": {},
   "outputs": [],
   "source": [
    "\n",
    "palindrome = \"reconocer\"\n",
    "(4 * '<' + palindrome + '>' * 4) * 2\n"
   ]
  },
  {
   "cell_type": "code",
   "execution_count": null,
   "id": "b9899652",
   "metadata": {},
   "outputs": [],
   "source": [
    "\n",
    "2 * '12' + '.' + '3' * 3 + 'e-' + 4 * '76'\n"
   ]
  },
  {
   "cell_type": "markdown",
   "id": "73256952",
   "metadata": {},
   "source": [
    "\n",
    "Escribe las expresiones, se puede declarar e incluir variables, para producir las siguientes cadenas.\n",
    "\n",
    "\n",
    "’%%%%%./././<-><->’\n",
    "\n",
    "’(@)(@)(@)======(@)(@)(@)======’\n",
    "\n",
    "’........\\*\\*\\*\\**---\\*\\*\\*\\**---........\\*\\*\\*\\**---\\*\\*\\*\\**---’\n",
    "\n"
   ]
  },
  {
   "cell_type": "code",
   "execution_count": null,
   "id": "2ed52ca3",
   "metadata": {},
   "outputs": [],
   "source": [
    "# expresiones\n"
   ]
  },
  {
   "cell_type": "markdown",
   "id": "d0343aa9",
   "metadata": {},
   "source": [
    "### Geometría\n",
    "\n",
    "Escriba el código que a partir del valor del lado de un cuadrado, muestre el valor del perímetro en metros y del área en metros cuadrados; para un lado igual a 3 metros, el perímetro es 12 metros y el área es 9 metros cuadrados.\n"
   ]
  },
  {
   "cell_type": "code",
   "execution_count": null,
   "id": "690e7db4",
   "metadata": {},
   "outputs": [],
   "source": [
    "\n",
    "lado = 3\n",
    "# ...\n"
   ]
  },
  {
   "cell_type": "markdown",
   "id": "09eeadeb",
   "metadata": {},
   "source": [
    "\n",
    "Escriba el código que partir del valor de la base y altura de un triángulo muestre el valor de su área; para una base igual a 3 metros y una altura de 5 metros el área del triángulo es 7.5 metros cuadrados.\n"
   ]
  },
  {
   "cell_type": "code",
   "execution_count": null,
   "id": "2c7d6cb6",
   "metadata": {},
   "outputs": [],
   "source": [
    "\n",
    "lado = 3\n",
    "altura = 5\n",
    "# ...\n"
   ]
  },
  {
   "cell_type": "markdown",
   "id": "e48f5c64",
   "metadata": {},
   "source": [
    "### Estadística\n",
    "\n",
    "Escriba el código que calcule la media de **cinco números**.\n",
    "<span><img src=\"../Images/selected.png\" alt=\"Selected\" width=\"32\" height=\"32\" align=\"right\"></span>"
   ]
  },
  {
   "cell_type": "code",
   "execution_count": null,
   "id": "a87cc9a4",
   "metadata": {},
   "outputs": [],
   "source": [
    "\n",
    "number1 = 1\n",
    "number2 = 2\n",
    "number3 = 3\n",
    "# ...\n"
   ]
  },
  {
   "cell_type": "markdown",
   "id": "973d50e1",
   "metadata": {},
   "source": [
    "\n",
    "Escriba el código que calcule la varianza de **cinco números**."
   ]
  },
  {
   "cell_type": "code",
   "execution_count": null,
   "id": "99fec129",
   "metadata": {},
   "outputs": [],
   "source": [
    "\n",
    "number1 = 10\n",
    "number2 = 20\n",
    "number3 = 30\n",
    "# ...\n"
   ]
  }
 ],
 "metadata": {
  "kernelspec": {
   "display_name": "Python 3 (ipykernel)",
   "language": "python",
   "name": "python3"
  },
  "language_info": {
   "codemirror_mode": {
    "name": "ipython",
    "version": 3
   },
   "file_extension": ".py",
   "mimetype": "text/x-python",
   "name": "python",
   "nbconvert_exporter": "python",
   "pygments_lexer": "ipython3",
   "version": "3.9.7"
  }
 },
 "nbformat": 4,
 "nbformat_minor": 5
}
