{
 "cells": [
  {
   "cell_type": "markdown",
   "id": "8b403b6a",
   "metadata": {},
   "source": [
    "## Tuplas\n",
    "\n",
    "<div align=\"right\">Octubre 2021</div>\n",
    "\n",
    "Una tupla es una secuencia inmutable de elementos.\n",
    "\n",
    "Se comporta como una lista pero no se puede modificar.\n",
    "\n",
    "La discusión sobre listas y tuplas tiene que ver con los mecanismos de gestión de memoria en un entorno de ejecución.\n"
   ]
  },
  {
   "cell_type": "markdown",
   "id": "c6c53182",
   "metadata": {},
   "source": [
    "Una tupla se crea mediante paréntesis encerrando los elementos separados por comas.\n",
    "\n",
    "Es posible indicar los elementos sin paréntesis asegurándose de incluir una coma al final.\n",
    "\n",
    "La función **len()** aplicada a una tupla devuelve la cantidad de elementos en ella.\n"
   ]
  },
  {
   "cell_type": "code",
   "execution_count": 1,
   "id": "83d70694",
   "metadata": {
    "scrolled": true
   },
   "outputs": [
    {
     "name": "stdout",
     "output_type": "stream",
     "text": [
      "Ejemplo de tupla: (1, 2, 3, 7, 8, 5)\n",
      "Tipo de dato: <class 'tuple'> \n",
      "\n",
      "Tupla vacía: () tiene 0 elementos\n",
      "Tipo de dato: <class 'tuple'> \n",
      "\n",
      "Tupla con único elemento: ('único elemento',)\n",
      "Tipo de dato: <class 'tuple'> \n",
      "\n",
      "Otra tupla con único elemento: (1,)\n",
      "Tipo de dato: <class 'tuple'> \n",
      "\n"
     ]
    }
   ],
   "source": [
    "sampleTuple = (1, 2, 3, 7, 8,5)\n",
    "\n",
    "print(\"Ejemplo de tupla:\", sampleTuple)\n",
    "print(\"Tipo de dato:\", type(sampleTuple), \"\\n\")\n",
    "\n",
    "emptyTuple = ()\n",
    "\n",
    "print(\"Tupla vacía:\", emptyTuple, \"tiene\", len(emptyTuple), \"elementos\")\n",
    "print(\"Tipo de dato:\", type(emptyTuple), \"\\n\")\n",
    "\n",
    "oneElementTuple = (\"único elemento\", )\n",
    "\n",
    "print(\"Tupla con único elemento:\", oneElementTuple)\n",
    "print(\"Tipo de dato:\", type(oneElementTuple), \"\\n\")\n",
    "\n",
    "anotherElementTuple = 1,\n",
    "\n",
    "print(\"Otra tupla con único elemento:\", anotherElementTuple)\n",
    "print(\"Tipo de dato:\", type(anotherElementTuple), \"\\n\")"
   ]
  },
  {
   "cell_type": "markdown",
   "id": "a73f60fe",
   "metadata": {},
   "source": [
    "### Concatenar y Multiplicar\n",
    "\n",
    "Los operadores “**+**” para concatenar y “**\\***”  para multiplicar se pueden utilizar con tuplas.\n"
   ]
  },
  {
   "cell_type": "code",
   "execution_count": null,
   "id": "d8851d3b",
   "metadata": {},
   "outputs": [],
   "source": [
    "oneElementTuple = (\"único elemento\", )\n",
    "anotherElementTuple = 1,\n",
    "\n",
    "concatenatedTuple = oneElementTuple + sampleTuple\n",
    "\n",
    "print(\"Tupla concatenada:\", concatenatedTuple,\n",
    "     \"tiene\", len(concatenatedTuple), \"elementos\")\n",
    "print(\"Tipo de dato:\", type(concatenatedTuple), \"\\n\")\n",
    "\n",
    "multipliedTuple = oneElementTuple * 3\n",
    "\n",
    "print(\"Tupla multiplicada:\", multipliedTuple,\n",
    "     \"tiene\", len(multipliedTuple), \"elementos\")\n",
    "print(\"Tipo de dato:\", type(multipliedTuple), \"\\n\")"
   ]
  }
 ],
 "metadata": {
  "kernelspec": {
   "display_name": "Python 3",
   "language": "python",
   "name": "python3"
  },
  "language_info": {
   "codemirror_mode": {
    "name": "ipython",
    "version": 3
   },
   "file_extension": ".py",
   "mimetype": "text/x-python",
   "name": "python",
   "nbconvert_exporter": "python",
   "pygments_lexer": "ipython3",
   "version": "3.8.8"
  }
 },
 "nbformat": 4,
 "nbformat_minor": 5
}
