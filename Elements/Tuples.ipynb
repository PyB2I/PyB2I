{
 "cells": [
  {
   "cell_type": "markdown",
   "id": "8b403b6a",
   "metadata": {},
   "source": [
    "<img src=\"../Images/Level1Beginner.png\" alt=\"Beginner\" width=\"128\" height=\"128\" align=\"right\">\n",
    "\n",
    "## Tuplas en Python\n",
    "\n",
    "Una tupla es una secuencia **inmutable** de elementos de cualquier tipo.\n",
    "\n",
    "Se comporta como una lista en la que no se puede modificar los elementos individuales.\n",
    "\n",
    "La discusión sobre listas y tuplas tiene que ver con los mecanismos de gestión de memoria en un entorno de ejecución y sobre la necesidad de contar con valores inmutables para controlar la identidad de claves en conjuntos y mapas.\n"
   ]
  },
  {
   "cell_type": "markdown",
   "id": "c6c53182",
   "metadata": {},
   "source": [
    "Una tupla se crea mediante paréntesis encerrando los elementos separados por comas.\n",
    "\n",
    "Es posible indicar los elementos sin paréntesis asegurándose de incluir una coma al final.\n",
    "\n",
    "La función **len()** aplicada a una tupla devuelve la cantidad de elementos en ella.\n"
   ]
  },
  {
   "cell_type": "code",
   "execution_count": null,
   "id": "83d70694",
   "metadata": {
    "scrolled": true
   },
   "outputs": [],
   "source": [
    "\n",
    "sample_tuple = (1, 2, 3, 7, 8,5)\n",
    "\n",
    "print(\"Ejemplo de tupla:\", sample_tuple)\n",
    "print(\"Tipo:\", type(sample_tuple), \"\\n\")\n",
    "\n",
    "empty_tuple = ()\n",
    "\n",
    "print(\"Tupla vacía:\", empty_tuple, \"tiene\", len(empty_tuple), \"elementos\")\n",
    "print(\"Tipo:\", type(empty_tuple), \"\\n\")\n",
    "\n",
    "one_element_tuple = (\"único elemento\", )\n",
    "\n",
    "print(\"Tupla con único elemento:\", one_element_tuple)\n",
    "print(\"Tipo:\", type(one_element_tuple), \"\\n\")\n",
    "\n",
    "another_element_tuple = 1,\n",
    "\n",
    "print(\"Otra tupla con único elemento:\", another_element_tuple)\n",
    "print(\"Tipo:\", type(another_element_tuple), \"\\n\")\n"
   ]
  },
  {
   "cell_type": "markdown",
   "id": "a73f60fe",
   "metadata": {},
   "source": [
    "### Concatenar y Multiplicar\n",
    "\n",
    "Los operadores “**+**” para concatenar y “**\\***”  para multiplicar se pueden utilizar con tuplas.\n"
   ]
  },
  {
   "cell_type": "code",
   "execution_count": null,
   "id": "d8851d3b",
   "metadata": {},
   "outputs": [],
   "source": [
    "\n",
    "one_element_tuple = (\"único elemento\", )\n",
    "another_element_tuple = 1,\n",
    "\n",
    "concatenated_tuple = one_element_tuple + sample_tuple\n",
    "\n",
    "print(\"Tupla concatenada:\", concatenated_tuple,\n",
    "     \"tiene\", len(concatenated_tuple), \"elementos\")\n",
    "print(\"Tipo:\", type(concatenated_tuple), \"\\n\")\n",
    "\n",
    "multiplied_tuple = one_element_tuple * 3\n",
    "\n",
    "print(\"Tupla multiplicada:\", multiplied_tuple,\n",
    "     \"tiene\", len(multiplied_tuple), \"elementos\")\n",
    "print(\"Tipo:\", type(multiplied_tuple), \"\\n\")\n"
   ]
  },
  {
   "cell_type": "markdown",
   "id": "aa802e6c",
   "metadata": {},
   "source": [
    "### Convertir tuplas a y desde listas\n",
    "\n",
    "Los **constructores** **list(...)** y **tuple(...)** permiten crear una lista o tupla a partir de una secuencia como argumento. \n"
   ]
  },
  {
   "cell_type": "code",
   "execution_count": null,
   "id": "243e52a0",
   "metadata": {},
   "outputs": [],
   "source": [
    "sample_tuple = (1, 2, 3, 7, 8,5)\n",
    "\n",
    "print(\"Ejemplo de tupla:\", sample_tuple)\n",
    "print(\"Tipo:\", type(sample_tuple), \"\\n\")\n",
    "\n",
    "sample_list = list(sample_tuple)\n",
    "\n",
    "print(\"Ejemplo de lista:\", sample_list)\n",
    "print(\"Tipo:\", type(sample_list), \"\\n\")\n",
    "\n",
    "another_tuple = tuple(sample_list)\n",
    "print(\"Otra tupla:\", another_tuple)\n",
    "print(\"Tipo:\", type(another_tuple), \"\\n\")\n"
   ]
  },
  {
   "cell_type": "markdown",
   "id": "b11bcc75",
   "metadata": {},
   "source": [
    "<img src=\"../Images/Level2Intermediate.png\" alt=\"Intermediate\" width=\"128\" height=\"128\" align=\"right\">"
   ]
  },
  {
   "cell_type": "markdown",
   "id": "77118ef6",
   "metadata": {},
   "source": [
    "### Empaquetar y desempaquetar\n",
    "\n",
    "Las asignaciones conocidadas como **packing** y **unpacking** permiten asignar multiples valores a una tupla y asignar una tupla a multiples variables.\n"
   ]
  },
  {
   "cell_type": "code",
   "execution_count": null,
   "id": "e9c2c2de",
   "metadata": {},
   "outputs": [],
   "source": [
    "print(\"packing ...\")\n",
    "one_tuple = True, 145, \"Python\"\n",
    "print(\"one_tuple\", one_tuple, \"tipo\", type(one_tuple), \"tiene\", len(one_tuple), \"elementos\")\n",
    "\n",
    "print(\"\\nunpacking ...\")\n",
    "boolean_var, integer_var, string_var = one_tuple\n",
    "print(\"boolean_var\", boolean_var, \"\\ninteger_var\", integer_var, \"\\nstring_var\", string_var)"
   ]
  }
 ],
 "metadata": {
  "kernelspec": {
   "display_name": "Python 3 (ipykernel)",
   "language": "python",
   "name": "python3"
  },
  "language_info": {
   "codemirror_mode": {
    "name": "ipython",
    "version": 3
   },
   "file_extension": ".py",
   "mimetype": "text/x-python",
   "name": "python",
   "nbconvert_exporter": "python",
   "pygments_lexer": "ipython3",
   "version": "3.9.7"
  }
 },
 "nbformat": 4,
 "nbformat_minor": 5
}
