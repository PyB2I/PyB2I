{
 "cells": [
  {
   "cell_type": "markdown",
   "id": "4137e3c6",
   "metadata": {},
   "source": [
    "<img src=\"../Images/Level1Beginner.png\" alt=\"Beginner\" width=\"128\" height=\"128\" align=\"right\">\n",
    "\n",
    "## Listas en Python\n",
    "\n",
    "En Python una lista es una **secuencia** de elementos de cualquier tipo a los que se puede acceder mediante el identificador de la lista y un índice.\n",
    "\n",
    "El primer elemento de una lista tiene el índice cero (0).\n"
   ]
  },
  {
   "cell_type": "code",
   "execution_count": null,
   "id": "b704d489",
   "metadata": {},
   "outputs": [],
   "source": [
    "numbers = [56, 78, 2, -34, 71]\n",
    "\n",
    "print(numbers)\n",
    "\n",
    "print(\"tercer elemento de la lista\", numbers[2])\n",
    "\n",
    "elements = [\"uno\", 78, True, 'dos', False]\n",
    "\n",
    "print(elements)\n",
    "\n",
    "print(\"tercer elemento de la lista\", elements[2])"
   ]
  },
  {
   "cell_type": "markdown",
   "id": "59e9c0b2",
   "metadata": {},
   "source": [
    "### Secuencia modificable (mutable)\n",
    "\n",
    "En Python los elementos de una lista se pueden modificar."
   ]
  },
  {
   "cell_type": "code",
   "execution_count": null,
   "id": "4bfd12cd",
   "metadata": {},
   "outputs": [],
   "source": [
    "elements = [\"uno\", 78, True, 'dos', False]\n",
    "\n",
    "print(elements)\n",
    "\n",
    "print(\"tercer elemento de la lista\", elements[2])\n",
    "\n",
    "elements[2] = \"Otro valor\"\n",
    "\n",
    "print(elements)\n",
    "\n",
    "print(\"tercer elemento de la lista\", elements[2])"
   ]
  },
  {
   "cell_type": "markdown",
   "id": "cfa85f55",
   "metadata": {},
   "source": [
    "### Índices negativos\n",
    "\n",
    "En Python es posible acceder a los elementos de una lista mediante índices con valores negativos, de este modo el índice -1 permite acceder al último elemento, el índice -2 al penúltimo elemento y así sucesivamente.\n"
   ]
  },
  {
   "cell_type": "code",
   "execution_count": null,
   "id": "04c67771",
   "metadata": {},
   "outputs": [],
   "source": [
    "numbers = [56, 78, 2, -34, 71]\n",
    "\n",
    "print(numbers)\n",
    "\n",
    "print(\"último elemento de la lista\", numbers[-1])\n",
    "\n",
    "print(\"penúltimo elemento de la lista\", numbers[-2])"
   ]
  },
  {
   "cell_type": "markdown",
   "id": "a70c845e",
   "metadata": {},
   "source": [
    "### La función len()\n",
    "\n",
    "En Python la función **len(...)** cuando el argumento es una lista devuelve la cantidad de elementos de la lista.\n"
   ]
  },
  {
   "cell_type": "code",
   "execution_count": null,
   "id": "3b319c69",
   "metadata": {},
   "outputs": [],
   "source": [
    "numbers = [56, 78, 2, -34, 71]\n",
    "\n",
    "print(numbers, \"tiene\", len(numbers), \"elementos\")\n"
   ]
  },
  {
   "cell_type": "markdown",
   "id": "6a2b94ac",
   "metadata": {},
   "source": [
    "### Eliminando elementos de la lista\n",
    "\n",
    "En Python la instrucción **del identificador\\[indice]** permite eliminar un elemento de la lista.\n"
   ]
  },
  {
   "cell_type": "code",
   "execution_count": null,
   "id": "35967116",
   "metadata": {},
   "outputs": [],
   "source": [
    "numbers = [56, 78, 2, -34, 71]\n",
    "\n",
    "print(numbers, \"tiene\", len(numbers), \"elementos\")\n",
    "\n",
    "del numbers[2]\n",
    "\n",
    "print(numbers, \"tiene\", len(numbers), \"elementos\")"
   ]
  },
  {
   "cell_type": "markdown",
   "id": "8d085084",
   "metadata": {},
   "source": [
    "### Concatenación de listas\n",
    "\n",
    "En Python el operador \"**+**\" permite concatenar listas."
   ]
  },
  {
   "cell_type": "code",
   "execution_count": null,
   "id": "3d8bc482",
   "metadata": {},
   "outputs": [],
   "source": [
    "firstList = [1, 2, 3]\n",
    "\n",
    "secondList = [4, 5, 6]\n",
    "\n",
    "thirdList = firstList + secondList\n",
    "\n",
    "print(\"Lista uno:\", firstList)\n",
    "\n",
    "print(\"Lista dos:\", secondList)\n",
    "\n",
    "print(\"Lista tres:\", thirdList)"
   ]
  },
  {
   "cell_type": "markdown",
   "id": "ca9f1af9",
   "metadata": {},
   "source": [
    "### Producto de listas\n",
    "\n",
    "En Python el operador \"**\\***\" permite repetir (multiplicar) una lista tantas veces como se quiera."
   ]
  },
  {
   "cell_type": "code",
   "execution_count": null,
   "id": "ce3a8aad",
   "metadata": {},
   "outputs": [],
   "source": [
    "firstList = [1, 2, 3]\n",
    "\n",
    "secondList = firstList * 4\n",
    "\n",
    "print(\"Lista uno:\", firstList)\n",
    "\n",
    "print(\"Lista dos:\", secondList)\n",
    "\n",
    "print(\"Otra lista:\", 2 * [4, 5, 6])"
   ]
  },
  {
   "cell_type": "markdown",
   "id": "39a6b2d5",
   "metadata": {},
   "source": [
    "### Slices o Rebanado de listas\n",
    "\n",
    "En Python es posible acceder a una parte de la lista, una \"rebanada\".\n",
    "\n",
    "En Python el símbolo \"**:**\" se conoce como operador de rebanado o slice operator; los valores de indices antes y despues del operador indican qué parte o rebanada de la lista se obtendrá.\n",
    "\n",
    "La rebanada o slice comienca en el elemento indicado por el **primer índice incluido** hasta el **segundo índice excluido**.\n",
    "\n",
    "Si se omite el  primer índice, se considera el principio de la lista.\n",
    "\n",
    "Si se omite el segundo índice, se considera el final de la lista."
   ]
  },
  {
   "cell_type": "code",
   "execution_count": null,
   "id": "b1605c3f",
   "metadata": {},
   "outputs": [],
   "source": [
    "fruits = [\"aguacate\", \"ananá\", \"arándano\", \"banana\", \"cereza\", \n",
    "          \"ciruela\", \"coco\", \"damasco\", \"durazcno\", \"frambuesa\", \n",
    "          \"fresa\", \"frutilla\", \"guinda\", \"granada\", \"higo\", \n",
    "          \"kiwi\", \"lima\", \"limon\", \"mandarina\", \"mango\", \"maracuya\", \n",
    "          \"melocoton\", \"melon\", \"membrillo\", \"mora\", \"naranja\", \n",
    "          \"papaya\", \"palta\", \"pera\", \"pomelo\", \"sandia\", \"uva\", \n",
    "          \"zarzamora\"]\n",
    "\n",
    "print(\"Todas las frutas:\", fruits)\n",
    "\n",
    "print(\"\\nLas frutas que están entre los índices 5 y 9:\", fruits[5:10])\n",
    "\n",
    "print(\"\\nLas frutas que están hasta el índice 11:\", fruits[:12])\n",
    "\n",
    "print(\"\\nLas frutas que están a partir del índice 15: \", fruits[15:])"
   ]
  },
  {
   "cell_type": "markdown",
   "id": "10b073fc",
   "metadata": {},
   "source": [
    "<img src=\"../Images/Level2Intermediate.png\" alt=\"Beginner\" width=\"128\" height=\"128\" align=\"right\">\n",
    "\n",
    "## Alias\n",
    "\n",
    "En Python es importante diferenciar un **valor** de una **referencia**.\n",
    "\n",
    "El valor es lo que se almacena en una dirección de memoria y en programación se asume que es lo que está \"dentro de una variable\", una referencia es la dirección de memoria de un objeto y se puede poner \"dentro en una variable\".\n"
   ]
  },
  {
   "cell_type": "markdown",
   "id": "92006218",
   "metadata": {},
   "source": [
    "Cuando una variable almacena una **referencia** el lenguaje de programación accede al valor que está en la dirección de memoria almacenda.\n",
    "\n",
    "En el caso de tipos de datos básicos como enteros o booleanos, la variable almacena el valor del tipo de dato; en el caso de secuencias como listas o cadenas la variable almacena la referencia o dirección de memoria donde se encuentra el primer elemento de la secuencia.\n",
    "\n",
    "De este modo es que surje el concepto de \"alias\", que es una variable cuyo contenido es el mismo que otra variable siempre que se trate de una referencia."
   ]
  },
  {
   "cell_type": "code",
   "execution_count": null,
   "id": "87fcfcc2",
   "metadata": {},
   "outputs": [],
   "source": [
    "oneValue = 76\n",
    "\n",
    "anOtherValue = oneValue\n",
    "\n",
    "oneList = [\"uno\", \"dos\", \"tres\"]\n",
    "\n",
    "anOtherList = oneList\n",
    "\n",
    "print(\"Antes de modificar\")\n",
    "print(\"un valor:\", oneValue)\n",
    "print(\"otro valor:\", anOtherValue)\n",
    "print(\"una lista:\", oneList)\n",
    "print(\"otra lista:\", anOtherList)\n",
    "\n",
    "oneValue = 13\n",
    "oneList[1] = \"DOS\"\n",
    "\n",
    "print(\"\\nDespués de modificar\")\n",
    "print(\"un valor:\", oneValue)\n",
    "print(\"otro valor:\", anOtherValue)\n",
    "print(\"una lista:\", oneList)\n",
    "print(\"otra lista:\", anOtherList)\n"
   ]
  },
  {
   "cell_type": "markdown",
   "id": "72666643",
   "metadata": {},
   "source": [
    "\n",
    "Para lograr que la segunda variable \"**apunte**\" a otra secuencia se debe asignar una **copia** de la misma\n"
   ]
  },
  {
   "cell_type": "code",
   "execution_count": null,
   "id": "a176e2f5",
   "metadata": {
    "scrolled": false
   },
   "outputs": [],
   "source": [
    "oneValue = 76\n",
    "\n",
    "anOtherValue = oneValue\n",
    "\n",
    "oneList = [\"uno\", \"dos\", \"tres\"]\n",
    "\n",
    "anOtherList = oneList[:] # asignación de una copia de la lista\n",
    "\n",
    "print(\"Antes de modificar\")\n",
    "print(\"un valor:\", oneValue)\n",
    "print(\"otro valor:\", anOtherValue)\n",
    "print(\"una lista:\", oneList)\n",
    "print(\"otra lista:\", anOtherList)\n",
    "\n",
    "oneValue = 13\n",
    "oneList[1] = \"DOS\"\n",
    "\n",
    "print(\"\\nDespués de modificar\")\n",
    "print(\"un valor:\", oneValue)\n",
    "print(\"otro valor:\", anOtherValue)\n",
    "print(\"una lista:\", oneList)\n",
    "print(\"otra lista:\", anOtherList)\n"
   ]
  }
 ],
 "metadata": {
  "kernelspec": {
   "display_name": "Python 3 (ipykernel)",
   "language": "python",
   "name": "python3"
  },
  "language_info": {
   "codemirror_mode": {
    "name": "ipython",
    "version": 3
   },
   "file_extension": ".py",
   "mimetype": "text/x-python",
   "name": "python",
   "nbconvert_exporter": "python",
   "pygments_lexer": "ipython3",
   "version": "3.8.8"
  }
 },
 "nbformat": 4,
 "nbformat_minor": 5
}
