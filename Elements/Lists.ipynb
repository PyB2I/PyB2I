{
 "cells": [
  {
   "cell_type": "markdown",
   "id": "4137e3c6",
   "metadata": {},
   "source": [
    "<img src=\"../Images/Level1Beginner.png\" alt=\"Beginner\" width=\"128\" height=\"128\" align=\"right\">\n",
    "\n",
    "## Listas en Python\n",
    "\n",
    "En Python una lista es una **secuencia** de elementos de cualquier tipo a los que se puede acceder mediante el identificador de la lista y un índice.\n",
    "\n",
    "El primer elemento de una lista tiene el índice cero (0), por lo tanto el último elemento de la lista tiene el índice **n - 1** (donde **n** representa la cantidad de elementos de la lista).\n",
    "\n",
    "Es importante **pensar** el valor del índice antes de utilizarlo.\n",
    "\n",
    "Las personas suelen *enumerar* a partir del uno (1); cuando dicen \"... el tercer elemento es ...\" están pensando en un subíndice cuyo valor es tres (3), sin embargo en Python el valor del índice es *uno menos que el que las personas cómunmente indican*.\n"
   ]
  },
  {
   "cell_type": "code",
   "execution_count": null,
   "id": "b704d489",
   "metadata": {},
   "outputs": [],
   "source": [
    "\n",
    "numbers = [56, 78, 2, -34, 71]\n",
    "\n",
    "print(numbers)\n",
    "\n",
    "print(\"tercer elemento de la lista\", numbers[2])\n",
    "\n",
    "elements = [\"uno\", 78, True, 'dos', False]\n",
    "\n",
    "print(elements)\n",
    "\n",
    "print(\"tercer elemento de la lista\", elements[2])\n"
   ]
  },
  {
   "cell_type": "markdown",
   "id": "59e9c0b2",
   "metadata": {},
   "source": [
    "### Secuencia modificable (mutable)\n",
    "\n",
    "En Python los elementos individuales de una lista se pueden modificar."
   ]
  },
  {
   "cell_type": "code",
   "execution_count": null,
   "id": "4bfd12cd",
   "metadata": {},
   "outputs": [],
   "source": [
    "\n",
    "elements = [\"uno\", 78, True, 'dos', False]\n",
    "\n",
    "print(elements)\n",
    "\n",
    "print(\"tercer elemento de la lista\", elements[2])\n",
    "\n",
    "elements[2] = \"Otro valor\"\n",
    "\n",
    "print(elements)\n",
    "\n",
    "print(\"tercer elemento de la lista\", elements[2])\n"
   ]
  },
  {
   "cell_type": "markdown",
   "id": "a70c845e",
   "metadata": {},
   "source": [
    "### La función len()\n",
    "\n",
    "En Python la función **len(...)** cuando el argumento es una lista devuelve la cantidad de elementos de la lista.\n"
   ]
  },
  {
   "cell_type": "code",
   "execution_count": null,
   "id": "3b319c69",
   "metadata": {},
   "outputs": [],
   "source": [
    "\n",
    "numbers = [56, 78, 2, -34, 71]\n",
    "\n",
    "print(numbers, \"tiene\", len(numbers), \"elementos\")\n"
   ]
  },
  {
   "cell_type": "markdown",
   "id": "cfa85f55",
   "metadata": {},
   "source": [
    "### Índices negativos\n",
    "\n",
    "En Python es posible acceder a los elementos de una lista mediante índices con valores negativos.\n",
    "\n",
    "De este modo el índice -1 permite acceder al último elemento, el índice -2 al penúltimo elemento y así sucesivamente.\n",
    "\n",
    "Internamente se obtiene el índice sumando el valor negativo a la cantidad de elementos de la lista.\n"
   ]
  },
  {
   "cell_type": "code",
   "execution_count": null,
   "id": "04c67771",
   "metadata": {},
   "outputs": [],
   "source": [
    "\n",
    "numbers = [56, 78, 2, -34, 71]\n",
    "\n",
    "print(numbers)\n",
    "\n",
    "print(\"último elemento de la lista\", numbers[-1])\n",
    "\n",
    "print(\"penúltimo elemento de la lista\", numbers[-2])\n",
    "\n",
    "print(\"penúltimo elemento de la lista\", numbers[-2 + len(numbers)])\n"
   ]
  },
  {
   "cell_type": "markdown",
   "id": "0963df90",
   "metadata": {},
   "source": [
    "---\n",
    "\n",
    "### Agregando elementos a la lista\n",
    "\n",
    "En Python el *método* **append((...)** permite agregar un elemento al final de la lista.\n"
   ]
  },
  {
   "cell_type": "code",
   "execution_count": null,
   "id": "bd6c11c2",
   "metadata": {},
   "outputs": [],
   "source": [
    "\n",
    "numbers = [56, 78, 2, -34, 71]\n",
    "\n",
    "print(numbers, \"tiene\", len(numbers), \"elementos\")\n",
    "\n",
    "numbers.append(85)\n",
    "\n",
    "print(numbers, \"tiene\", len(numbers), \"elementos\")\n"
   ]
  },
  {
   "cell_type": "markdown",
   "id": "b2219c94",
   "metadata": {},
   "source": [
    "### Insertando elementos en la lista\n",
    "\n",
    "En Python el *método* **insert(..., ...)** permite insertar un elemento indicando el índice y el valor a insertar.\n"
   ]
  },
  {
   "cell_type": "code",
   "execution_count": null,
   "id": "17a284b4",
   "metadata": {},
   "outputs": [],
   "source": [
    "\n",
    "numbers = [56, 78, 2, -34, 71]\n",
    "\n",
    "print(numbers, \"tiene\", len(numbers), \"elementos\")\n",
    "\n",
    "numbers.insert(2, 54)\n",
    "\n",
    "print(numbers, \"tiene\", len(numbers), \"elementos\")\n"
   ]
  },
  {
   "cell_type": "markdown",
   "id": "3f9700c3",
   "metadata": {},
   "source": [
    "---\n",
    "\n",
    "### Eliminando elementos de la lista\n",
    "\n",
    "En Python la instrucción **del identificador\\[indice]** permite eliminar un elemento de la lista.\n"
   ]
  },
  {
   "cell_type": "code",
   "execution_count": null,
   "id": "35967116",
   "metadata": {},
   "outputs": [],
   "source": [
    "\n",
    "numbers = [56, 78, 2, -34, 71]\n",
    "\n",
    "print(numbers, \"tiene\", len(numbers), \"elementos\")\n",
    "\n",
    "del numbers[2]\n",
    "\n",
    "print(numbers, \"tiene\", len(numbers), \"elementos\")\n"
   ]
  },
  {
   "cell_type": "markdown",
   "id": "d3820ee1",
   "metadata": {},
   "source": [
    "### Eliminando el último elementos de la lista\n",
    "\n",
    "En Python el *método* **pop()** permite eliminar el último elemento de la lista.\n"
   ]
  },
  {
   "cell_type": "code",
   "execution_count": null,
   "id": "2e5a8e17",
   "metadata": {},
   "outputs": [],
   "source": [
    "\n",
    "numbers = [56, 78, 2, -34, 71]\n",
    "\n",
    "print(numbers, \"tiene\", len(numbers), \"elementos\")\n",
    "\n",
    "numbers.pop()\n",
    "\n",
    "print(numbers, \"tiene\", len(numbers), \"elementos\")\n"
   ]
  },
  {
   "cell_type": "markdown",
   "id": "117492ea",
   "metadata": {},
   "source": [
    "\n",
    "Con el *método* **pop()** es posible indicar el índice del elemento a eliminar\n"
   ]
  },
  {
   "cell_type": "code",
   "execution_count": null,
   "id": "1b6ba1fd",
   "metadata": {},
   "outputs": [],
   "source": [
    "\n",
    "numbers = [56, 78, 2, -34, 71]\n",
    "\n",
    "print(numbers, \"tiene\", len(numbers), \"elementos\")\n",
    "\n",
    "numbers.pop(1)\n",
    "\n",
    "print(numbers, \"tiene\", len(numbers), \"elementos\")\n"
   ]
  },
  {
   "cell_type": "markdown",
   "id": "9cf881dd",
   "metadata": {},
   "source": [
    "### Eliminando un elemento de la lista por su valor\n",
    "\n",
    "En Python el *método* **remove(...)** permite buscar y eliminar el **primer** elemento de la lista que coincide con el valor indicado.\n"
   ]
  },
  {
   "cell_type": "code",
   "execution_count": null,
   "id": "4aa89460",
   "metadata": {},
   "outputs": [],
   "source": [
    "\n",
    "numbers = [56, 78, 2, -34, 71]\n",
    "\n",
    "print(numbers, \"tiene\", len(numbers), \"elementos\")\n",
    "\n",
    "numbers.remove(2)\n",
    "\n",
    "print(numbers, \"tiene\", len(numbers), \"elementos\")\n"
   ]
  },
  {
   "cell_type": "markdown",
   "id": "cb549df6",
   "metadata": {},
   "source": [
    "---\n",
    "\n",
    "### Concatenación de listas\n",
    "\n",
    "En Python el operador \"**+**\" permite concatenar listas."
   ]
  },
  {
   "cell_type": "code",
   "execution_count": null,
   "id": "3d8bc482",
   "metadata": {},
   "outputs": [],
   "source": [
    "\n",
    "firstList = [1, 2, 3]\n",
    "\n",
    "secondList = [4, 5, 6]\n",
    "\n",
    "thirdList = firstList + secondList\n",
    "\n",
    "print(\"Lista uno:\", firstList)\n",
    "\n",
    "print(\"Lista dos:\", secondList)\n",
    "\n",
    "print(\"Lista tres:\", thirdList)\n"
   ]
  },
  {
   "cell_type": "markdown",
   "id": "ca9f1af9",
   "metadata": {},
   "source": [
    "---\n",
    "\n",
    "### Producto de listas\n",
    "\n",
    "En Python el operador \"**\\***\" permite repetir (multiplicar) una lista tantas veces como se quiera."
   ]
  },
  {
   "cell_type": "code",
   "execution_count": null,
   "id": "ce3a8aad",
   "metadata": {},
   "outputs": [],
   "source": [
    "\n",
    "firstList = [1, 2, 3]\n",
    "\n",
    "secondList = firstList * 4\n",
    "\n",
    "print(\"Lista uno:\", firstList)\n",
    "\n",
    "print(\"Lista dos:\", secondList)\n",
    "\n",
    "print(\"Otra lista:\", 2 * [4, 5, 6])\n"
   ]
  },
  {
   "cell_type": "markdown",
   "id": "169bb360",
   "metadata": {},
   "source": [
    "---\n",
    "\n",
    "### Slices o Rebanado de listas\n",
    "\n",
    "En Python es posible acceder a una parte de la lista, una \"rebanada\".\n",
    "\n",
    "En Python el símbolo \"**:**\" se conoce como operador de rebanado o slice operator; los valores de indices antes y despues del operador indican qué parte o rebanada de la lista se obtendrá.\n",
    "\n",
    "La rebanada o slice comienca en el elemento indicado por el **primer índice incluido** hasta el **segundo índice excluido**.\n",
    "\n",
    "Si se omite el  primer índice, se considera el principio de la lista.\n",
    "\n",
    "Si se omite el segundo índice, se considera el final de la lista."
   ]
  },
  {
   "cell_type": "code",
   "execution_count": null,
   "id": "b1605c3f",
   "metadata": {},
   "outputs": [],
   "source": [
    "\n",
    "fruits = [\"aguacate\", \"ananá\", \"arándano\", \"banana\", \"cereza\", \n",
    "          \"ciruela\", \"coco\", \"damasco\", \"durazcno\", \"frambuesa\", \n",
    "          \"fresa\", \"frutilla\", \"guinda\", \"granada\", \"higo\", \n",
    "          \"kiwi\", \"lima\", \"limon\", \"mandarina\", \"mango\", \"maracuya\", \n",
    "          \"melocoton\", \"melon\", \"membrillo\", \"mora\", \"naranja\", \n",
    "          \"papaya\", \"palta\", \"pera\", \"pomelo\", \"sandia\", \"uva\", \n",
    "          \"zarzamora\"]\n",
    "\n",
    "print(\"Todas las frutas:\", fruits)\n",
    "\n",
    "print(\"\\nLas frutas que están entre los índices 5 y 9:\", fruits[5:10])\n",
    "\n",
    "print(\"\\nLas frutas que están hasta el índice 11:\", fruits[:12])\n",
    "\n",
    "print(\"\\nLas frutas que están a partir del índice 15: \", fruits[15:])\n"
   ]
  },
  {
   "cell_type": "markdown",
   "id": "6731b8bb",
   "metadata": {},
   "source": [
    "\n",
    "La operación de **slice** permite un tercer argumento que indica el **step** (paso o salto) que se realiza entre cada elemento; su valor por defecto es 1.\n"
   ]
  },
  {
   "cell_type": "code",
   "execution_count": null,
   "id": "be3f5fa7",
   "metadata": {},
   "outputs": [],
   "source": [
    "\n",
    "fruits = [\"aguacate\", \"ananá\", \"arándano\", \"banana\", \"cereza\", \n",
    "          \"ciruela\", \"coco\", \"damasco\", \"durazcno\", \"frambuesa\", \n",
    "          \"fresa\", \"frutilla\", \"guinda\", \"granada\", \"higo\", \n",
    "          \"kiwi\", \"lima\", \"limon\", \"mandarina\", \"mango\", \"maracuya\", \n",
    "          \"melocoton\", \"melon\", \"membrillo\", \"mora\", \"naranja\", \n",
    "          \"papaya\", \"palta\", \"pera\", \"pomelo\", \"sandia\", \"uva\", \n",
    "          \"zarzamora\"]\n",
    "\n",
    "print(\"Todas las frutas:\", fruits)\n",
    "\n",
    "print(\"\\nTodas las frutas salteando tres entre ellas:\", fruits[::4])\n",
    "\n",
    "print(\"\\nLas frutas que están hasta el índice 11 salteando dos entre ellas:\", fruits[:12:3])\n",
    "\n",
    "print(\"\\nLas frutas que están a partir del índice 15 saltenado una entre ellas: \", fruits[15::2])\n"
   ]
  },
  {
   "cell_type": "markdown",
   "id": "7aa099dd",
   "metadata": {},
   "source": [
    "---\n",
    "\n",
    "### Iterando una lista\n",
    "\n",
    "En Python es posible acceder a cada elemento de la lista sin necesidad de utilizar índices.\n",
    "\n"
   ]
  },
  {
   "cell_type": "code",
   "execution_count": null,
   "id": "362c4c48",
   "metadata": {},
   "outputs": [],
   "source": [
    "\n",
    "country_list = [\"Argentina\", \"Chile\", \"Uruguay\", \"Bolivia\", \"Brasil\"]\n",
    "\n",
    "for country in country_list :\n",
    "    print(\"País:\", country)\n"
   ]
  },
  {
   "cell_type": "markdown",
   "id": "f20d448d",
   "metadata": {},
   "source": [
    "\n",
    "La iteración también se puede hacer mediante índices\n"
   ]
  },
  {
   "cell_type": "code",
   "execution_count": null,
   "id": "717a2061",
   "metadata": {},
   "outputs": [],
   "source": [
    "\n",
    "country_list = [\"Argentina\", \"Chile\", \"Uruguay\", \"Bolivia\", \"Brasil\"]\n",
    "\n",
    "for index in range(len(country_list)) :\n",
    "    print(\"País:\", country_list[index])\n"
   ]
  },
  {
   "cell_type": "markdown",
   "id": "18eecfbf",
   "metadata": {},
   "source": [
    "En Python mediante la función **enumerate(...)** se puede obtener el par de valores **index**, **element** al iterar o recorrer una lista."
   ]
  },
  {
   "cell_type": "code",
   "execution_count": null,
   "id": "dd21648c",
   "metadata": {},
   "outputs": [],
   "source": [
    "\n",
    "country_list = [\"Argentina\", \"Chile\", \"Uruguay\", \"Bolivia\", \"Brasil\"]\n",
    "\n",
    "for index, element in enumerate(country_list) :\n",
    "    print(\"País:\", element, \"en la posición\", index)\n"
   ]
  },
  {
   "cell_type": "markdown",
   "id": "10b073fc",
   "metadata": {},
   "source": [
    "<img src=\"../Images/Level2Intermediate.png\" alt=\"Intermediate\" width=\"128\" height=\"128\" align=\"right\">\n",
    "\n",
    "### Copiar una lista\n",
    "\n",
    "En Python el *método* **.copy()** permite obtener una copia de la lista.\n",
    "\n",
    "El operador de asignación \"**=**\" permite obtener una referencia a la misma lista (alias).\n"
   ]
  },
  {
   "cell_type": "code",
   "execution_count": null,
   "id": "4081cc6d",
   "metadata": {},
   "outputs": [],
   "source": [
    "\n",
    "one_list = [\"Argentina\", \"Chile\", \"Uruguay\", \"Bolivia\", \"Brasil\"]\n",
    "\n",
    "another_list = one_list.copy()\n",
    "\n",
    "same_list = one_list\n",
    "\n",
    "print(\"Antes de modificar\")\n",
    "print(\"Una lista     :\", one_list)\n",
    "print(\"Otra lista    :\", another_list)\n",
    "print(\"La misma lista:\", same_list)\n",
    "\n",
    "one_list.append(\"Peru\")\n",
    "\n",
    "print(\"Después de modificar\")\n",
    "print(\"Una lista     :\", one_list)\n",
    "print(\"Otra lista    :\", another_list)\n",
    "print(\"La misma lista:\", same_list)\n"
   ]
  },
  {
   "cell_type": "markdown",
   "id": "ca0d942e",
   "metadata": {},
   "source": [
    "Prestar atención al tipo de los elementos individuales; **cuando se copia una lista cada elemento es referenciado multiples veces !!!**"
   ]
  },
  {
   "cell_type": "code",
   "execution_count": null,
   "id": "20d9bb1e",
   "metadata": {},
   "outputs": [],
   "source": [
    "\n",
    "one_list = [[1, 2, 3], [\"a\", \"b\", \"c\"]]\n",
    "\n",
    "another_list = one_list.copy()\n",
    "\n",
    "same_list = one_list\n",
    "\n",
    "print(\"Antes de modificar\")\n",
    "print(\"Una lista     :\", one_list)\n",
    "print(\"Otra lista    :\", another_list)\n",
    "print(\"La misma lista:\", same_list)\n",
    "\n",
    "one_list.append([True, False])\n",
    "\n",
    "print(\"Después de modificar\")\n",
    "print(\"Una lista     :\", one_list)\n",
    "print(\"Otra lista    :\", another_list)\n",
    "print(\"La misma lista:\", same_list)\n",
    "\n",
    "one_list[0].append(4)\n",
    "\n",
    "print(\"Después de modificar un elemento\")\n",
    "print(\"Una lista     :\", one_list)\n",
    "print(\"Otra lista    :\", another_list)\n",
    "print(\"La misma lista:\", same_list)\n"
   ]
  },
  {
   "cell_type": "markdown",
   "id": "8b787192",
   "metadata": {},
   "source": [
    "---\n",
    "\n",
    "### Revertir y ordenar\n",
    "\n",
    "En Python el *método* **reverse()** modifica la lista cambiando el órden de sus elementos."
   ]
  },
  {
   "cell_type": "code",
   "execution_count": null,
   "id": "e693cf38",
   "metadata": {
    "scrolled": true
   },
   "outputs": [],
   "source": [
    "\n",
    "one_list = [\"Argentina\", \"Chile\", \"Uruguay\", \"Bolivia\", \"Brasil\"]\n",
    "\n",
    "print(\"Antes de revertir la lista\")\n",
    "print(\"Una lista:\", one_list)\n",
    "\n",
    "one_list.reverse()\n",
    "\n",
    "print(\"Después de revertir la lista\")\n",
    "print(\"Una lista:\", one_list)\n"
   ]
  },
  {
   "cell_type": "markdown",
   "id": "7b84dd2a",
   "metadata": {},
   "source": [
    "Cuando se requiere acceder a los elementos de la lista en orden inverso pero **sin modificar la lista ...** se recomienda utilizar el *operador de slice*."
   ]
  },
  {
   "cell_type": "code",
   "execution_count": null,
   "id": "2f1c30d6",
   "metadata": {
    "scrolled": true
   },
   "outputs": [],
   "source": [
    "\n",
    "one_list = [\"Argentina\", \"Chile\", \"Uruguay\", \"Bolivia\", \"Brasil\"]\n",
    "\n",
    "print(\"Lista original\")\n",
    "print(\"Una lista:\", one_list)\n",
    "\n",
    "print(\"Lista en orden inverso\")\n",
    "print(\"Una lista:\", one_list[::-1])c\n",
    "\n",
    "print(\"Lista sin modificar\")\n",
    "print(\"Una lista:\", one_list)\n"
   ]
  },
  {
   "cell_type": "markdown",
   "id": "81610162",
   "metadata": {},
   "source": [
    "En Python el *método* **sort(...)** ordena la lista."
   ]
  },
  {
   "cell_type": "code",
   "execution_count": null,
   "id": "f4fb1f72",
   "metadata": {
    "scrolled": true
   },
   "outputs": [],
   "source": [
    "\n",
    "one_list = [\"Argentina\", \"Chile\", \"Uruguay\", \"Bolivia\", \"Brasil\"]\n",
    "\n",
    "print(\"Antes de ordernar la lista\")\n",
    "print(\"Una lista:\", one_list)\n",
    "\n",
    "one_list.sort()\n",
    "\n",
    "print(\"Después de ordenar la lista\")\n",
    "print(\"Una lista:\", one_list)\n"
   ]
  },
  {
   "cell_type": "markdown",
   "id": "7f814d46",
   "metadata": {},
   "source": [
    "En Python el *método* **sort(...)** permite indicar el ordena inverso.\n",
    "\n",
    "Entre los *argumentos* del *método* **sort(...)** se encuentran otras alternativas que se verán en el tema Funciones.\n"
   ]
  },
  {
   "cell_type": "code",
   "execution_count": null,
   "id": "91167ddd",
   "metadata": {
    "scrolled": true
   },
   "outputs": [],
   "source": [
    "\n",
    "one_list = [\"Argentina\", \"Chile\", \"Uruguay\", \"Bolivia\", \"Brasil\"]\n",
    "\n",
    "print(\"Antes de ordernar la lista\")\n",
    "print(\"Una lista:\", one_list)\n",
    "\n",
    "one_list.sort(reverse=True)\n",
    "\n",
    "print(\"Después de ordenar la lista\")\n",
    "print(\"Una lista:\", one_list)\n"
   ]
  },
  {
   "cell_type": "markdown",
   "id": "85803380",
   "metadata": {},
   "source": [
    "---\n",
    "\n",
    "### Modificar rebanadas\n",
    "\n",
    "El acceso a los elementos de una lista mediante el operador \"**:**\" también permite modificar la rebanada ..."
   ]
  },
  {
   "cell_type": "code",
   "execution_count": null,
   "id": "930993ec",
   "metadata": {},
   "outputs": [],
   "source": [
    "\n",
    "one_list = list(range(1,11))\n",
    "\n",
    "print(\"Una lista:\", one_list)\n",
    "\n",
    "one_list[3:8] = range(101, 90, -1)\n",
    "\n",
    "print(\"Una lista:\", one_list)\n"
   ]
  },
  {
   "cell_type": "markdown",
   "id": "bb9e328e",
   "metadata": {},
   "source": [
    "Es posible eliminar la rebanada"
   ]
  },
  {
   "cell_type": "code",
   "execution_count": null,
   "id": "8633cdf8",
   "metadata": {},
   "outputs": [],
   "source": [
    "\n",
    "one_list = list(range(1,11))\n",
    "\n",
    "print(\"Una lista:\", one_list)\n",
    "\n",
    "one_list[3:8] = []\n",
    "\n",
    "print(\"Una lista:\", one_list)\n"
   ]
  },
  {
   "cell_type": "markdown",
   "id": "a231bef3",
   "metadata": {},
   "source": [
    "La asignacion con **step** o paso requiere de la misma cantidad de elementos."
   ]
  },
  {
   "cell_type": "code",
   "execution_count": null,
   "id": "5aeb3809",
   "metadata": {},
   "outputs": [],
   "source": [
    "\n",
    "one_list = list(range(1,11))\n",
    "\n",
    "print(\"Una lista:\", one_list)\n",
    "\n",
    "one_list[3:8:2] = [1111, 2222, 3333]\n",
    "\n",
    "print(\"Una lista:\", one_list)\n"
   ]
  },
  {
   "cell_type": "markdown",
   "id": "2ee9957c",
   "metadata": {},
   "source": [
    "La eliminación de una rebanada con **step** o paso se puede realizar con la sentencia **del**."
   ]
  },
  {
   "cell_type": "code",
   "execution_count": null,
   "id": "7f9e62a2",
   "metadata": {},
   "outputs": [],
   "source": [
    "\n",
    "one_list = list(range(1,11))\n",
    "\n",
    "print(\"Una lista:\", one_list)\n",
    "\n",
    "del one_list[3:8:2]\n",
    "\n",
    "print(\"Una lista:\", one_list)\n"
   ]
  },
  {
   "cell_type": "code",
   "execution_count": null,
   "id": "d7b90e4c",
   "metadata": {
    "scrolled": true
   },
   "outputs": [],
   "source": [
    "\n",
    "one_list = [\"Argentina\", \"Chile\", \"Uruguay\", \"Bolivia\", \"Brasil\"]\n",
    "\n",
    "one_iterator = iter(one_list)\n",
    "\n",
    "print(\"Elemento:\", next(one_iterator))\n",
    "print(\"Elemento:\", next(one_iterator))\n",
    "print(\"Elemento:\", next(one_iterator))\n",
    "print(\"Elemento:\", next(one_iterator))\n",
    "print(\"Elemento:\", next(one_iterator))\n",
    "\n",
    "print(\"Elemento:\", next(one_iterator))\n"
   ]
  }
 ],
 "metadata": {
  "kernelspec": {
   "display_name": "Python 3 (ipykernel)",
   "language": "python",
   "name": "python3"
  },
  "language_info": {
   "codemirror_mode": {
    "name": "ipython",
    "version": 3
   },
   "file_extension": ".py",
   "mimetype": "text/x-python",
   "name": "python",
   "nbconvert_exporter": "python",
   "pygments_lexer": "ipython3",
   "version": "3.9.7"
  }
 },
 "nbformat": 4,
 "nbformat_minor": 5
}
