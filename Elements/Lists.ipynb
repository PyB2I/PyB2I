{
 "cells": [
  {
   "cell_type": "markdown",
   "id": "4137e3c6",
   "metadata": {},
   "source": [
    "## Listas\n",
    "\n",
    "<div align=\"right\">Octubre 2021</div>\n",
    "\n",
    "En Python una lista es una colección de elementos a los que se puede acceder mediante el identificador de la lista y un índice o subíndice.\n",
    "\n",
    "Para acceder al primer elemento de una lista el índice debe ser cero (0).\n",
    "\n",
    "Los elementos de una lista pueden ser de diferente tipo.\n"
   ]
  },
  {
   "cell_type": "code",
   "execution_count": null,
   "id": "b704d489",
   "metadata": {},
   "outputs": [],
   "source": [
    "numbers = [56, 78, 2, -34, 71]\n",
    "\n",
    "print(numbers)\n",
    "print(\"tercer elemento de la lista\", numbers[2])\n",
    "\n",
    "elementos = [\"uno\", 78, True, 'dos', False]\n",
    "\n",
    "print(elementos)\n",
    "print(\"tercer elemento de la lista\", elementos[2])"
   ]
  },
  {
   "cell_type": "markdown",
   "id": "cfa85f55",
   "metadata": {},
   "source": [
    "### Índices negativos\n",
    "\n",
    "En Python es posible acceder a los elementos de una lista mediante índices con valores negativos, de este modo el índice -1 permite acceder al último elemento, el índice -2 al penúltimo elemento y así sucesivamente.\n"
   ]
  },
  {
   "cell_type": "code",
   "execution_count": null,
   "id": "04c67771",
   "metadata": {},
   "outputs": [],
   "source": [
    "numbers = [56, 78, 2, -34, 71]\n",
    "\n",
    "print(numbers)\n",
    "print(\"último elemento de la lista\", numbers[-1])\n",
    "print(\"penúltimo elemento de la lista\", numbers[-2])"
   ]
  },
  {
   "cell_type": "markdown",
   "id": "a70c845e",
   "metadata": {},
   "source": [
    "### La función len()\n",
    "\n",
    "En Python la función **len(argumento)** cuando el argumento es una lista devuelve la cantidad de elementos de la lista.\n"
   ]
  },
  {
   "cell_type": "code",
   "execution_count": null,
   "id": "3b319c69",
   "metadata": {},
   "outputs": [],
   "source": [
    "numbers = [56, 78, 2, -34, 71]\n",
    "\n",
    "print(numbers, \"tiene\", len(numbers), \"elementos\")\n"
   ]
  },
  {
   "cell_type": "markdown",
   "id": "6a2b94ac",
   "metadata": {},
   "source": [
    "### Eliminando elementos de la lista\n",
    "\n",
    "En Python la instrucción **del identificador\\[indice]** permite eliminar un elemento de la lista\n"
   ]
  },
  {
   "cell_type": "code",
   "execution_count": null,
   "id": "35967116",
   "metadata": {},
   "outputs": [],
   "source": [
    "numbers = [56, 78, 2, -34, 71]\n",
    "\n",
    "print(numbers, \"tiene\", len(numbers), \"elementos\")\n",
    "\n",
    "del numbers[2]\n",
    "\n",
    "print(numbers, \"tiene\", len(numbers), \"elementos\")"
   ]
  }
 ],
 "metadata": {
  "kernelspec": {
   "display_name": "Python 3",
   "language": "python",
   "name": "python3"
  },
  "language_info": {
   "codemirror_mode": {
    "name": "ipython",
    "version": 3
   },
   "file_extension": ".py",
   "mimetype": "text/x-python",
   "name": "python",
   "nbconvert_exporter": "python",
   "pygments_lexer": "ipython3",
   "version": "3.8.8"
  }
 },
 "nbformat": 4,
 "nbformat_minor": 5
}
