{
 "cells": [
  {
   "cell_type": "markdown",
   "id": "8b403b6a",
   "metadata": {},
   "source": [
    "<img src=\"../Images/Level1Beginner.png\" alt=\"Beginner\" width=\"128\" height=\"128\" align=\"right\">\n",
    "\n",
    "## Ejercicios de Tuplas\n"
   ]
  },
  {
   "cell_type": "markdown",
   "id": "c6c53182",
   "metadata": {},
   "source": [
    "Un vector de un espacio tridimensional se representa mediante una tripleta de valores reales (x, y, z)\n",
    "\n",
    "Escriba el código que permita operar con estos vectores\n"
   ]
  },
  {
   "cell_type": "markdown",
   "id": "4a2a1835",
   "metadata": {},
   "source": [
    "### Asiganr los componentes de un vector\n",
    "\n",
    "Ingresar por teclado los valores de los componenetes de un vector y asignarlo a una variable"
   ]
  },
  {
   "cell_type": "code",
   "execution_count": null,
   "id": "73c9d861",
   "metadata": {},
   "outputs": [],
   "source": [
    "\n",
    "x = float(input(\"Ingrese el valor de x: \"))\n",
    "y = float(input(\"Ingrese el valor de y: \"))\n",
    "z = float(input(\"Ingrese el valor de z: \"))\n",
    "\n",
    "# ..."
   ]
  },
  {
   "cell_type": "markdown",
   "id": "cc0aebee",
   "metadata": {},
   "source": [
    "### Suma de vectores\n",
    "\n",
    "La suma de vectores se define:\n",
    "\n",
    " (a, b, c) + (x, y, z) = (a + x, b + y, c + z)\n",
    "\n",
    "escribe el código necesario para realizar esta operación"
   ]
  },
  {
   "cell_type": "code",
   "execution_count": null,
   "id": "9b2c5376",
   "metadata": {},
   "outputs": [],
   "source": [
    "# ..."
   ]
  },
  {
   "cell_type": "markdown",
   "id": "62e01576",
   "metadata": {},
   "source": [
    "### Diferencia de vectores\n",
    "\n",
    "La diferencia de vectores se define:\n",
    "\n",
    " (a, b, c) - (x, y, z) = (a - x, b - y, c - z)\n",
    "\n",
    "escribe el código necesario para realizar esta operación"
   ]
  },
  {
   "cell_type": "code",
   "execution_count": null,
   "id": "3e474249",
   "metadata": {},
   "outputs": [],
   "source": [
    "# ..."
   ]
  },
  {
   "cell_type": "markdown",
   "id": "e9e70410",
   "metadata": {},
   "source": [
    "### Producto escalar de vectores\n",
    "\n",
    "El producto escalar de vectores se define:\n",
    "\n",
    " (a, b, c) . (x, y, z) = a * x + b * y + c * z\n",
    "\n",
    "escribe el código necesario para realizar esta operación"
   ]
  },
  {
   "cell_type": "code",
   "execution_count": null,
   "id": "1decaa03",
   "metadata": {},
   "outputs": [],
   "source": [
    "# ..."
   ]
  },
  {
   "cell_type": "markdown",
   "id": "1ea3b74f",
   "metadata": {},
   "source": [
    "### Producto vectorial de vectores\n",
    "\n",
    "El producto vectorial de vectores se define:\n",
    "\n",
    " (a, b, c) X (x, y, z) = (b * z - c * y, c * x - a * z, a * y - b * x)\n",
    "\n",
    "escribe el código necesario para realizar esta operación"
   ]
  },
  {
   "cell_type": "code",
   "execution_count": null,
   "id": "cb4c7749",
   "metadata": {},
   "outputs": [],
   "source": [
    "# ..."
   ]
  },
  {
   "cell_type": "markdown",
   "id": "bac97861",
   "metadata": {},
   "source": [
    "<img src=\"../Images/Level2Intermediate.png\" alt=\"Intermediate\" width=\"128\" height=\"128\" align=\"right\">"
   ]
  },
  {
   "cell_type": "markdown",
   "id": "4fbed76d",
   "metadata": {},
   "source": [
    "### Billeteo (con valores constantes ...)\n",
    "\n",
    "Escriba el código que calcule el desglose en billetes y monedas de una cantidad de dinero exacta.\n",
    "\n",
    "Existen billetes de 500, 200, 100, 50, 20, 10 y 5 y monedas de 2 y 1.\n",
    "\n",
    "Ejemplo: la cantidad 434 se desglosa en 2 billetes de 200, 1 billete de 20, 1 billete de 10 y 2 monedas de 2.\n",
    "\n",
    "Indagar con certeza la definición y forma de realizar el desglose en billetes y monedas de un importe ..."
   ]
  },
  {
   "cell_type": "code",
   "execution_count": null,
   "id": "fde7a79a",
   "metadata": {},
   "outputs": [],
   "source": [
    "# obtener el importe a desglosar\n",
    "amount = int(input(\"Ingrese la cantidad de dinero: \"))\n",
    "\n",
    "bills = (500, 200, 100, 50, 20, 10,5, 2, 1)\n",
    "\n",
    "# código para desglosar en billetes y monedas un importe\n",
    "# ...\n"
   ]
  }
 ],
 "metadata": {
  "kernelspec": {
   "display_name": "Python 3 (ipykernel)",
   "language": "python",
   "name": "python3"
  },
  "language_info": {
   "codemirror_mode": {
    "name": "ipython",
    "version": 3
   },
   "file_extension": ".py",
   "mimetype": "text/x-python",
   "name": "python",
   "nbconvert_exporter": "python",
   "pygments_lexer": "ipython3",
   "version": "3.9.7"
  }
 },
 "nbformat": 4,
 "nbformat_minor": 5
}
