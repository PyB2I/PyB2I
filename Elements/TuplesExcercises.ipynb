{
 "cells": [
  {
   "cell_type": "markdown",
   "id": "8b403b6a",
   "metadata": {},
   "source": [
    "<img src=\"../Images/Level1Beginner.png\" alt=\"Beginner\" width=\"128\" height=\"128\" align=\"right\">\n",
    "\n",
    "## Ejercicios de Tuplas\n"
   ]
  },
  {
   "cell_type": "markdown",
   "id": "c6c53182",
   "metadata": {},
   "source": [
    "Un vector de un espacio tridimensional se representa mediante una tripleta de valores reales (x, y, z)\n",
    "\n",
    "Escriba el código que permita operar con estos vectores\n"
   ]
  },
  {
   "cell_type": "markdown",
   "id": "4a2a1835",
   "metadata": {},
   "source": [
    "### Ingresar por teclado los componentes de un vector"
   ]
  },
  {
   "cell_type": "code",
   "execution_count": null,
   "id": "73c9d861",
   "metadata": {},
   "outputs": [],
   "source": [
    "x = float(input(\"Ingrese el valor de x: \"))\n",
    "y = float(input(\"Ingrese el valor de y: \"))\n",
    "z = float(input(\"Ingrese el valor de z: \"))\n",
    "# ..."
   ]
  },
  {
   "cell_type": "markdown",
   "id": "cc0aebee",
   "metadata": {},
   "source": [
    "### Suma de vectores\n",
    "\n",
    "La suma de vectores se define:\n",
    "\n",
    " (a, b, c) + (x, y, z) = (a + x, b + y, c + z)"
   ]
  },
  {
   "cell_type": "code",
   "execution_count": null,
   "id": "9b2c5376",
   "metadata": {},
   "outputs": [],
   "source": [
    "# ..."
   ]
  },
  {
   "cell_type": "markdown",
   "id": "62e01576",
   "metadata": {},
   "source": [
    "### Diferencia de vectores\n",
    "\n",
    "La diferencia de vectores se define:\n",
    "\n",
    " (a, b, c) - (x, y, z) = (a - x, b - y, c - z)"
   ]
  },
  {
   "cell_type": "code",
   "execution_count": null,
   "id": "3e474249",
   "metadata": {},
   "outputs": [],
   "source": [
    "# ..."
   ]
  },
  {
   "cell_type": "markdown",
   "id": "e9e70410",
   "metadata": {},
   "source": [
    "### Producto escalar de vectores\n",
    "\n",
    "El producto escalar de vectores se define:\n",
    "\n",
    " (a, b, c) . (x, y, z) = a * x + b * y + c * z"
   ]
  },
  {
   "cell_type": "code",
   "execution_count": null,
   "id": "1decaa03",
   "metadata": {},
   "outputs": [],
   "source": [
    "# ..."
   ]
  },
  {
   "cell_type": "markdown",
   "id": "1ea3b74f",
   "metadata": {},
   "source": [
    "### Producto vectorial de vectores\n",
    "\n",
    "El producto vectorial de vectores se define:\n",
    "\n",
    " (a, b, c) X (x, y, z) = (b * z - c * y, c * x - a * z, a * y - b * x)"
   ]
  },
  {
   "cell_type": "code",
   "execution_count": null,
   "id": "cb4c7749",
   "metadata": {},
   "outputs": [],
   "source": [
    "# ..."
   ]
  }
 ],
 "metadata": {
  "kernelspec": {
   "display_name": "Python 3",
   "language": "python",
   "name": "python3"
  },
  "language_info": {
   "codemirror_mode": {
    "name": "ipython",
    "version": 3
   },
   "file_extension": ".py",
   "mimetype": "text/x-python",
   "name": "python",
   "nbconvert_exporter": "python",
   "pygments_lexer": "ipython3",
   "version": "3.8.8"
  }
 },
 "nbformat": 4,
 "nbformat_minor": 5
}
