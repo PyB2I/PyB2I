{
 "cells": [
  {
   "cell_type": "markdown",
   "id": "06e5d9e2",
   "metadata": {},
   "source": [
    "<img src=\"../Images/Level1Beginner.png\" alt=\"Beginner\" width=\"128\" height=\"128\" align=\"right\">\n",
    "\n",
    "## Conjuntos en Python\n",
    "\n",
    "Un conjunto es una colección de elementos **sin repetición**.\n",
    "\n",
    "Representa el concepto de conjuntos de la matemática, permite realizar las operaciones de pertenencia, unión, intersección, diferencia y diferencia simétrica.\n"
   ]
  },
  {
   "cell_type": "markdown",
   "id": "55100376",
   "metadata": {},
   "source": [
    "Un conjunto no vacío se crea indicando los elementos entre llaves “**{**“ y “**}**”.\n",
    "\n",
    "El conjunto vacío se debe crear con el constructor **set()**.\n",
    "\n",
    "La función len() aplicada a un conjunto devuelve la cantidad de elementos en él.\n"
   ]
  },
  {
   "cell_type": "code",
   "execution_count": null,
   "id": "bdd7288a",
   "metadata": {
    "scrolled": true
   },
   "outputs": [],
   "source": [
    "sample_set = {'manzana', 'naranja', 'manzana', 'pera', 'naranja', 'banana'}\n",
    "\n",
    "print(\"Conjunto no vacío:\", sample_set, \"tiene\", len(sample_set), \"elementos\")\n",
    "print(\"Tipo:\", type(sample_set), \"\\n\")\n",
    "\n",
    "empty_set = set()\n",
    "\n",
    "print(\"Conjunto vacío:\", empty_set, \"tiene\", len(empty_set), \"elementos\")\n",
    "print(\"Tipo:\", type(empty_set), \"\\n\")"
   ]
  },
  {
   "cell_type": "markdown",
   "id": "028a4454",
   "metadata": {},
   "source": [
    "---\n",
    "\n",
    "### Modificando un conjunto\n",
    "\n",
    "Es posible agrear **.add(...)** un elemento a un conjunto."
   ]
  },
  {
   "cell_type": "code",
   "execution_count": null,
   "id": "303bc3ba",
   "metadata": {
    "scrolled": true
   },
   "outputs": [],
   "source": [
    "fruits = {'manzana', 'naranja', 'manzana', 'pera', 'naranja', 'banana'}\n",
    "\n",
    "print(\"Conjunto de frutas:\", fruits, \"tiene\", len(fruits), \"elementos\")\n",
    "\n",
    "fruits.add('sandia')\n",
    "print(\"Conjunto de frutas:\", fruits, \"tiene\", len(fruits), \"elementos\")\n"
   ]
  },
  {
   "cell_type": "markdown",
   "id": "274b47c9",
   "metadata": {},
   "source": [
    "\n",
    "Es posible remover **.clear()** todos los elementos de un conjunto."
   ]
  },
  {
   "cell_type": "code",
   "execution_count": null,
   "id": "d9c0d91b",
   "metadata": {
    "scrolled": true
   },
   "outputs": [],
   "source": [
    "fruits = {'manzana', 'naranja', 'manzana', 'pera', 'naranja', 'banana'}\n",
    "\n",
    "print(\"Conjunto de frutas:\", fruits, \"tiene\", len(fruits), \"elementos\")\n",
    "\n",
    "fruits.clear()\n",
    "print(\"Conjunto de frutas:\", fruits, \"tiene\", len(fruits), \"elementos\")\n"
   ]
  },
  {
   "cell_type": "markdown",
   "id": "36f5ff51",
   "metadata": {},
   "source": [
    "\n",
    "Es posible remover el primer elemento **.pop()** del conjunto, el inconveniente es que no se puede garantizar un órden.\n"
   ]
  },
  {
   "cell_type": "code",
   "execution_count": null,
   "id": "30acb144",
   "metadata": {
    "scrolled": true
   },
   "outputs": [],
   "source": [
    "fruits = {'manzana', 'naranja', 'manzana', 'pera', 'naranja', 'banana'}\n",
    "\n",
    "print(\"Conjunto de frutas:\", fruits, \"tiene\", len(fruits), \"elementos\")\n",
    "\n",
    "fruits.pop()\n",
    "print(\"Conjunto de frutas:\", fruits, \"tiene\", len(fruits), \"elementos\")\n",
    "\n",
    "fruits.add('sandia')\n",
    "print(\"Conjunto de frutas:\", fruits, \"tiene\", len(fruits), \"elementos\")\n",
    "\n",
    "fruits.pop()\n",
    "print(\"Conjunto de frutas:\", fruits, \"tiene\", len(fruits), \"elementos\")\n"
   ]
  },
  {
   "cell_type": "markdown",
   "id": "651c1e95",
   "metadata": {},
   "source": [
    "\n",
    "Es posible remover un elemento **.discard(...)** o **.remove(...)** del conjunto indicando su valor.\n",
    "\n",
    "Averigua porqué hay dos métodos para hacer lo mismo."
   ]
  },
  {
   "cell_type": "code",
   "execution_count": null,
   "id": "039dbd30",
   "metadata": {
    "scrolled": true
   },
   "outputs": [],
   "source": [
    "fruits = {'manzana', 'naranja', 'manzana', 'pera', 'naranja', 'banana'}\n",
    "\n",
    "print(\"Conjunto de frutas:\", fruits, \"tiene\", len(fruits), \"elementos\")\n",
    "\n",
    "fruits.discard('naranja')\n",
    "print(\"Conjunto de frutas:\", fruits, \"tiene\", len(fruits), \"elementos\")\n",
    "\n",
    "fruits.remove('pera')\n",
    "print(\"Conjunto de frutas:\", fruits, \"tiene\", len(fruits), \"elementos\")\n"
   ]
  },
  {
   "cell_type": "markdown",
   "id": "bc8401fe",
   "metadata": {},
   "source": [
    "---\n",
    "\n",
    "### Recorrer un conjunto\n",
    "\n",
    "El conjunto es ITERABLE, **NO ES INDEXABLE**, pero se puede ENUMERAR, no hay garantía que la enumeración se mantenga.\n"
   ]
  },
  {
   "cell_type": "code",
   "execution_count": null,
   "id": "b9a0db9a",
   "metadata": {},
   "outputs": [],
   "source": [
    "\n",
    "fruits = {'manzana', 'naranja', 'manzana', 'pera', 'naranja', 'banana'}\n",
    "\n",
    "print(\"\\nEjemplo de ITERACIÓN\")\n",
    "for fruit in fruits:\n",
    "   print(\"Fruta\", fruit)\n",
    "\n",
    "# hace falta para obtener la información de ejecución\n",
    "import sys\n",
    "\n",
    "print(\"\\nEjemplo de NO INDEXACIÓN\")\n",
    "# se utiliza la sentencia try ... except para evitar que el código se detenga\n",
    "try:\n",
    "   print(fruits[2])\n",
    "except :\n",
    "   print(\"Se atrapó la excepción\", sys.exc_info()[0])\n",
    "\n",
    "print(\"\\nEjemplo de ENUMERACIÓN\")       \n",
    "for index, fruit in enumerate(fruits):\n",
    "   print(\"Fruta:\", fruit, \"en posición\", index)\n",
    "\n",
    "print(\"\\nAgregamos 'sandia' al conjunto de frutas\")\n",
    "fruits.add('sandia')\n",
    "\n",
    "print(\"\\nOtro ejemplo de ENUMERACIÓN\")       \n",
    "for index, fruit in enumerate(fruits):\n",
    "   print(\"Fruta:\", fruit, \"en posición\", index)\n"
   ]
  },
  {
   "cell_type": "markdown",
   "id": "adf4df46",
   "metadata": {},
   "source": [
    "---\n",
    "\n",
    "### Operaciones con conjuntos\n",
    "\n",
    "### Pertenencia\n",
    "\n",
    "El operador **in** determina si un elemento pertenece o no a un conjunto. Es posible negar el operador de pertenencia **not in**."
   ]
  },
  {
   "cell_type": "code",
   "execution_count": null,
   "id": "a1a617f4",
   "metadata": {},
   "outputs": [],
   "source": [
    "\n",
    "fruits = {'manzana', 'naranja', 'manzana', 'pera', 'naranja', 'banana'}\n",
    "\n",
    "print(\"'pera' pertenece al conjunto de frutas\", 'pera' in fruits)\n",
    "print(\"'sandia' pertenece al conjunto de frutas\", 'sandia' in fruits)\n"
   ]
  },
  {
   "cell_type": "markdown",
   "id": "8d911e74",
   "metadata": {},
   "source": [
    "### Unión\n",
    "\n",
    "El operador \"**|**\" realiza la unión de conjuntos, el resultado es otro conjunto cuyos elementos están en al menos uno de los conjuntos que se unen."
   ]
  },
  {
   "cell_type": "code",
   "execution_count": null,
   "id": "f6c36c25",
   "metadata": {},
   "outputs": [],
   "source": [
    "\n",
    "first_set = {1, 3, 5, 7}\n",
    "second_set = {2, 4, 6, 8}\n",
    "third_set = {11, 12, 13, 14}\n",
    "\n",
    "print(\"first_set\", first_set)\n",
    "print(\"second_set\", second_set)\n",
    "print(\"third_set\", third_set)\n",
    "print()\n",
    "print(\"first_set union second_set\", first_set | second_set)\n",
    "print(\"first_set union second_set union third_set\", first_set | second_set | third_set)\n",
    "\n",
    "print(\"\\nTambien se puede utilizar el método .union(...) de los conjuntos\")\n",
    "print(\"first_set union second_set\", first_set.union(second_set))\n",
    "print(\"first_set union second_set union third_set\", first_set.union(second_set, third_set))\n",
    "\n",
    "print(\"\\nEl conjunto que ejecuta el método no se modifica ...\")\n",
    "print(\"first_set\", first_set)\n"
   ]
  },
  {
   "cell_type": "markdown",
   "id": "acbc7f5e",
   "metadata": {},
   "source": [
    "### Intersección\n",
    "\n",
    "El operador \"**&**\" realiza la intersección de conjuntos, el resultado es otro conjunto cuyos elementos están en todos los conjuntos que se intersectan."
   ]
  },
  {
   "cell_type": "code",
   "execution_count": null,
   "id": "9190be95",
   "metadata": {},
   "outputs": [],
   "source": [
    "\n",
    "first_set = {1, 2, 3, 4}\n",
    "second_set = {2, 4, 6, 8}\n",
    "third_set = {11, 12, 13, 14}\n",
    "\n",
    "print(\"first_set\", first_set)\n",
    "print(\"second_set\", second_set)\n",
    "print(\"third_set\", third_set)\n",
    "print()\n",
    "print(\"first_set itersection second_set\", first_set & second_set)\n",
    "print(\"first_set itersection second_set itersection third_set\", first_set & second_set & third_set)\n",
    "\n",
    "print(\"\\nTambien se puede utilizar el método .intersection(...) de los conjuntos\")\n",
    "print(\"first_set intersection second_set\", first_set.intersection(second_set))\n",
    "print(\"first_set intersection second_set intersection third_set\", first_set.intersection(second_set, third_set))\n",
    "\n",
    "print(\"\\nEl conjunto que ejecuta el método no se modifica ...\")\n",
    "print(\"first_set\", first_set)\n"
   ]
  },
  {
   "cell_type": "markdown",
   "id": "c50a4cc7",
   "metadata": {},
   "source": [
    "### Diferencia\n",
    "\n",
    "El operador \"**-**\" realiza la diferencia de conjuntos, el resultado es otro conjunto cuyos elementos son los que están en el conjunto a la izquierda del operador pero no el conjunto que está a la derecha del operador."
   ]
  },
  {
   "cell_type": "code",
   "execution_count": null,
   "id": "ea426d5a",
   "metadata": {},
   "outputs": [],
   "source": [
    "\n",
    "first_set = {1, 2, 3, 4}\n",
    "second_set = {2, 4, 6, 8}\n",
    "third_set = {11, 12, 3, 4}\n",
    "\n",
    "print(\"first_set\", first_set)\n",
    "print(\"second_set\", second_set)\n",
    "print(\"third_set\", third_set)\n",
    "print()\n",
    "print(\"first_set difference second_set\", first_set - second_set)\n",
    "print(\"first_set difference second_set difference third_set\", first_set - second_set - third_set)\n",
    "print(\"first_set difference third_set difference second_set\", first_set - third_set - second_set)\n",
    "print(\"third_set difference second_set difference first_set\", third_set - second_set - first_set)\n",
    "\n",
    "print(\"\\nTambien se puede utilizar el método .difference(...) de los conjuntos\")\n",
    "print(\"first_set difference second_set\", first_set.difference(second_set))\n",
    "print(\"first_set difference second_set difference third_set\", first_set.difference(second_set, third_set))\n",
    "\n",
    "print(\"\\nEl conjunto que ejecuta el método no se modifica ...\")\n",
    "print(\"first_set\", first_set)\n"
   ]
  },
  {
   "cell_type": "markdown",
   "id": "f53da739",
   "metadata": {},
   "source": [
    "### Diferencia simétrica\n",
    "\n",
    "El operador \"**^**\" realiza la diferencia simétrica de conjuntos, el resultado es otro conjunto cuyos elementos son los que están en alguno de los conjuntos pero no se repiten."
   ]
  },
  {
   "cell_type": "code",
   "execution_count": null,
   "id": "49bd5bb4",
   "metadata": {},
   "outputs": [],
   "source": [
    "\n",
    "first_set = {1, 2, 3, 4}\n",
    "second_set = {2, 4, 6, 8}\n",
    "third_set = {11, 12, 3, 4}\n",
    "\n",
    "print(\"first_set\", first_set)\n",
    "print(\"second_set\", second_set)\n",
    "print(\"third_set\", third_set)\n",
    "print()\n",
    "print(\"first_set symmetric difference second_set\", first_set ^ second_set)\n",
    "print(\"first_set symmetric difference second_set symmetric difference third_set\", first_set ^ second_set ^ third_set)\n",
    "print(\"first_set symmetric difference third_set symmetric difference second_set\", first_set ^ third_set ^ second_set)\n",
    "print(\"third_set symmetric difference second_set symmetric difference first_set\", third_set ^ second_set ^ first_set)\n",
    "\n",
    "print(\"\\nTambien se puede utilizar el método .symmetric_difference(...) de los conjuntos\")\n",
    "print(\"first_set symmetric difference second_set\", first_set.symmetric_difference(second_set))\n",
    "print(\"first_set symmetric difference second_set symmetric difference third_set\", \n",
    "      first_set.symmetric_difference(second_set).symmetric_difference(third_set))\n",
    "print(\"first_set symmetric difference third_set symmetric difference second_set\", \n",
    "      first_set.symmetric_difference(third_set).symmetric_difference(second_set))\n",
    "print(\"third_set symmetric difference second_set symmetric difference first_set\", \n",
    "      third_set.symmetric_difference(second_set).symmetric_difference(first_set))\n",
    "\n",
    "print(\"\\nEl conjunto que ejecuta el método no se modifica ...\")\n",
    "print(\"first_set\", first_set)\n"
   ]
  },
  {
   "cell_type": "markdown",
   "id": "e89b5ebb",
   "metadata": {},
   "source": [
    "---\n",
    "\n",
    "### Método update(...)\n",
    "\n",
    "El método **.update(...)** permite actualizar un conjunto con el contenido de otro iterable. No devuelve nada.\n"
   ]
  },
  {
   "cell_type": "code",
   "execution_count": null,
   "id": "e722d662",
   "metadata": {},
   "outputs": [],
   "source": [
    "\n",
    "first_set = {1, 3, 5, 7}\n",
    "second_set = {2, 4, 6, 8}\n",
    "\n",
    "print(\"first_set\", first_set)\n",
    "print(\"second_set\", second_set)\n",
    "\n",
    "print(\"\\nEl método .update(...) actualiza el conjunto con otro iterable\")\n",
    "print(\"first_set update second_set\", first_set.update(second_set))\n",
    "\n",
    "print(\"\\nEl conjunto que ejecuta el método SI se modifica ...\")\n",
    "print(\"first_set\", first_set)\n",
    "\n",
    "first_set.update([\"uno\", \"dos\", \"tres\"])\n",
    "print(\"first_set\", first_set)\n",
    "\n",
    "first_set.update((\"uno\", \"dos\", \"tres\", \"cuatro\"))\n",
    "print(\"first_set\", first_set)\n"
   ]
  },
  {
   "cell_type": "markdown",
   "id": "77c89a33",
   "metadata": {},
   "source": [
    "### Método intersection_update(...)\n",
    "\n",
    "Caso particular de la intersección de conjuntos. No devuelve nada.\n"
   ]
  },
  {
   "cell_type": "code",
   "execution_count": null,
   "id": "6d1e1cc1",
   "metadata": {},
   "outputs": [],
   "source": [
    "\n",
    "first_set = {1, 2, 3, 4}\n",
    "second_set = {2, 4, 6, 8}\n",
    "\n",
    "print(\"first_set\", first_set)\n",
    "print(\"second_set\", second_set)\n",
    "\n",
    "print(\"\\nEl método .intersection_update(...) actualiza el conjunto que realiza la intersección de los conjuntos\")\n",
    "print(\"first_set intersection_update second_set\", first_set.intersection_update(second_set))\n",
    "\n",
    "print(\"\\nEl conjunto que ejecuta el método SI se modifica ...\")\n",
    "print(\"first_set\", first_set)\n"
   ]
  },
  {
   "cell_type": "markdown",
   "id": "1d6d1f67",
   "metadata": {},
   "source": [
    "### Método difference_update(...)\n",
    "\n",
    "Caso particular de la diferencia de conjuntos. No devuelve nada.\n"
   ]
  },
  {
   "cell_type": "code",
   "execution_count": null,
   "id": "1a0dba65",
   "metadata": {},
   "outputs": [],
   "source": [
    "\n",
    "first_set = {1, 2, 3, 4}\n",
    "second_set = {2, 4, 6, 8}\n",
    "\n",
    "print(\"first_set\", first_set)\n",
    "print(\"second_set\", second_set)\n",
    "\n",
    "print(\"\\nEl método .difference_update(...) actualiza el conjunto que realiza la diferencia de conjuntos\")\n",
    "print(\"first_set difference_update second_set\", first_set.difference_update(second_set))\n",
    "\n",
    "print(\"\\nEl conjunto que ejecuta el método SI se modifica ...\")\n",
    "print(\"first_set\", first_set)\n"
   ]
  }
 ],
 "metadata": {
  "kernelspec": {
   "display_name": "Python 3 (ipykernel)",
   "language": "python",
   "name": "python3"
  },
  "language_info": {
   "codemirror_mode": {
    "name": "ipython",
    "version": 3
   },
   "file_extension": ".py",
   "mimetype": "text/x-python",
   "name": "python",
   "nbconvert_exporter": "python",
   "pygments_lexer": "ipython3",
   "version": "3.9.7"
  }
 },
 "nbformat": 4,
 "nbformat_minor": 5
}
