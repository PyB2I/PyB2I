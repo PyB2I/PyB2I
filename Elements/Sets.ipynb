{
 "cells": [
  {
   "cell_type": "markdown",
   "id": "06e5d9e2",
   "metadata": {},
   "source": [
    "<img src=\"../Images/Level1Beginner.png\" alt=\"Beginner\" width=\"128\" height=\"128\" align=\"right\">\n",
    "\n",
    "## Conjuntos en Python\n",
    "\n",
    "Un conjunto es una colección de elementos **sin repetición**.\n",
    "\n",
    "Representa el concepto de conjuntos de la matemática, permite realizar las operaciones de pertenencia, unión, intersección, diferencia y diferencia simétrica.\n"
   ]
  },
  {
   "cell_type": "markdown",
   "id": "55100376",
   "metadata": {},
   "source": [
    "Un conjunto no vacío se crea indicando los elementos entre llaves “**{**“ y “**}**”.\n",
    "\n",
    "El conjunto vacío se debe crear con el constructor **set()**.\n",
    "\n",
    "La función len() aplicada a un conjunto devuelve la cantidad de elementos en él.\n"
   ]
  },
  {
   "cell_type": "code",
   "execution_count": null,
   "id": "bdd7288a",
   "metadata": {
    "scrolled": true
   },
   "outputs": [],
   "source": [
    "sampleSet = {'manzana', 'naranja', 'manzana', 'pera', 'naranja', 'banana'}\n",
    "\n",
    "print(\"Conjunto no vacío:\", sampleSet, \"tiene\", len(sampleSet), \"elementos\")\n",
    "print(\"Tipo:\", type(sampleSet), \"\\n\")\n",
    "\n",
    "emptySet = set()\n",
    "\n",
    "print(\"Conjunto vacío:\", emptySet, \"tiene\", len(emptySet), \"elementos\")\n",
    "print(\"Tipo:\", type(emptySet), \"\\n\")"
   ]
  },
  {
   "cell_type": "markdown",
   "id": "bc8401fe",
   "metadata": {},
   "source": [
    "### Recorrer un conjunto\n",
    "\n",
    "El conjunto es ITERABLE, NO ES INDEXABLE, se puede ENUMERAR,  no hay garantía que la enumeración se mantenga.\n"
   ]
  },
  {
   "cell_type": "code",
   "execution_count": null,
   "id": "b9a0db9a",
   "metadata": {},
   "outputs": [],
   "source": [
    "\n",
    "import sys\n",
    "\n",
    "sampleSet = {'manzana', 'naranja', 'manzana', 'pera', 'naranja', 'banana'}\n",
    "\n",
    "for fruit in sampleSet:\n",
    "   print(\"Fruta\", fruit)\n",
    "\n",
    "print(\"\\nEjemplo de NO INDEXACIÓN\\n\")\n",
    "try:\n",
    "   print(sampleSet[2])\n",
    "except :\n",
    "   print(\"Se atrapó la excepción\", sys.exc_info()[0])\n",
    "\n",
    "print(\"\\nEjemplo de ENUMERACIÓN\")       \n",
    "for i, fruit in enumerate(sampleSet):\n",
    "   print(\"Fruta:\", fruit, \"en posición\", i)\n"
   ]
  }
 ],
 "metadata": {
  "kernelspec": {
   "display_name": "Python 3 (ipykernel)",
   "language": "python",
   "name": "python3"
  },
  "language_info": {
   "codemirror_mode": {
    "name": "ipython",
    "version": 3
   },
   "file_extension": ".py",
   "mimetype": "text/x-python",
   "name": "python",
   "nbconvert_exporter": "python",
   "pygments_lexer": "ipython3",
   "version": "3.9.7"
  }
 },
 "nbformat": 4,
 "nbformat_minor": 5
}
