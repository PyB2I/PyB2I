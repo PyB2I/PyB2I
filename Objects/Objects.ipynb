{
 "cells": [
  {
   "cell_type": "markdown",
   "id": "621cfcea",
   "metadata": {},
   "source": [
    "<img src=\"../Images/Level1Beginner.png\" alt=\"Beginner\" width=\"128\" height=\"128\" align=\"right\">\n",
    "\n",
    "#  Objetos en Python\n",
    "\n",
    "Un objeto en Python es un **elemento** que se agrega a los que ya existen de forma predeterminada en el lenguaje de programación.\n"
   ]
  },
  {
   "cell_type": "markdown",
   "id": "d6cfea81",
   "metadata": {},
   "source": [
    "El término \"objeto\" refiere al elemento básico o principal de una forma de programar.\n",
    "\n",
    "En la programación estructurada o modular, los programadores escriben código que manipula los elementos.\n",
    "\n",
    "En la programación orientada a objetos, los programadores escriben código que define el comportamiento de los elementos.\n",
    "\n",
    "Por comportamiento entendemos lo que el objeto puede hacer, por ejemplo un objeto \"Perro\" puede ladrar, comer, dormir, ... mientras que un objeto \"Persona\" puede comer, dormir, inscribirse a rendir un examen, ...\n",
    "\n",
    "En Python un objeto \"Int\" puede sumarse a otro objeto \"Int\" y el resultado es un objeto \"Int\" cuyo valor es la suma matemática de los valores de los objetos que itervinieron en la operación; en cambio un objeto \"Str\" puede sumarse a otro objeto \"Str\" y el resultado es un objeto \"Str\" cuyo valor es la concatenación de los objetos que intervinieron en la operación.\n"
   ]
  },
  {
   "cell_type": "code",
   "execution_count": null,
   "id": "6c4aa15d",
   "metadata": {},
   "outputs": [],
   "source": [
    "one_integer = 55\n",
    "an_other_integer = 100\n",
    "result_of_addition = one_integer + an_other_integer\n",
    "\n",
    "print(one_integer, \" + \", an_other_integer, \" = \", result_of_addition)"
   ]
  },
  {
   "cell_type": "code",
   "execution_count": null,
   "id": "c965db75",
   "metadata": {},
   "outputs": [],
   "source": [
    "one_string = \"Hola\"\n",
    "an_other_string = \" bienvenido !!!\"\n",
    "result_of_concatenation = one_string + an_other_string\n",
    "\n",
    "print(one_string, \" + \", an_other_string, \" = \", result_of_concatenation)"
   ]
  },
  {
   "cell_type": "markdown",
   "id": "58f84212",
   "metadata": {},
   "source": [
    "---"
   ]
  },
  {
   "cell_type": "markdown",
   "id": "4c58a857",
   "metadata": {},
   "source": [
    "El lenguaje de programación Python tiene un poderoso analizador del código que permite \"traducir\" expresiones como por ejemplo:\n",
    "\n",
    "    one_integer = 55\n",
    "\n",
    "A lo que internamente corresponde que es la **creación de un objeto**\n",
    "\n",
    "    one_integer = int(55)\n"
   ]
  },
  {
   "cell_type": "code",
   "execution_count": null,
   "id": "4c8f4d45",
   "metadata": {},
   "outputs": [],
   "source": [
    "one_integer = int(55)\n",
    "\n",
    "print(type(one_integer))\n",
    "\n",
    "print(one_integer)"
   ]
  },
  {
   "cell_type": "markdown",
   "id": "58fdd1c0",
   "metadata": {},
   "source": [
    "Los objetos se **crean** invocando al constructor de ese tipo de objeto.\n",
    "\n",
    "El constructor no es otra cosa más que un método especial o particular en la definción del comportamiento del objeto\n",
    "\n",
    "Cuando se convierte una lista en conjunto en realidad se está construyendo un conjunto a partir de los valores de la lista."
   ]
  },
  {
   "cell_type": "code",
   "execution_count": null,
   "id": "fffe5f20",
   "metadata": {},
   "outputs": [],
   "source": [
    "fruits_list = ['manzana', 'naranja', 'manzana', 'pera', 'naranja', 'banana']\n",
    "\n",
    "print(fruits_list)\n",
    "\n",
    "fruits_set = set(fruits_list)\n",
    "\n",
    "print(fruits_set)\n"
   ]
  },
  {
   "cell_type": "markdown",
   "id": "3f34c6f0",
   "metadata": {},
   "source": [
    "---\n",
    "\n",
    "## Definición del comportamiento de un objeto"
   ]
  },
  {
   "cell_type": "markdown",
   "id": "df779434",
   "metadata": {},
   "source": [
    "La definición del comportamiento de un objeto se realiza en lo que se denomina definición de clase\n",
    "\n",
    "    class nombre_de_la_clase :\n",
    "        u\"\"\" descripción de la clase \"\"\"\n",
    "        ...\n",
    "        # sentencias que implementan el comportamiento\n",
    "\n",
    "\n",
    "El comportamiento se implementa mediante métodos.\n",
    "\n",
    "El código de un método es semejantes al de una función donde el primer parámetro se utiliza para acceder al objeto que está ejecutando el método.\n",
    "\n",
    "Se permite utilizar cualquier nombre para el primer parámetro de un método pero es costumbre utilizar **self**.\n"
   ]
  },
  {
   "cell_type": "code",
   "execution_count": null,
   "id": "c68239b6",
   "metadata": {},
   "outputs": [],
   "source": [
    "class Dog :\n",
    "    u\"\"\" Dog digital representation \"\"\"\n",
    "    \n",
    "    def bark(self) :\n",
    "        print(\"el perro está ladranddo ...\")\n",
    "    \n",
    "    def eat(this_object_reference) :\n",
    "        print(\"el perro está comiendo ...\")\n",
    "    \n",
    "    def sleep(o) :\n",
    "        print(\"el perro está durmiendo ...\")\n"
   ]
  },
  {
   "cell_type": "code",
   "execution_count": null,
   "id": "6586b77b",
   "metadata": {},
   "outputs": [],
   "source": [
    "one_dog = Dog()\n",
    "\n",
    "one_dog.bark()\n",
    "one_dog.eat()\n",
    "one_dog.sleep()"
   ]
  },
  {
   "cell_type": "markdown",
   "id": "261dff3f",
   "metadata": {},
   "source": [
    "La referencia al objeto que ejecuto el método es necesaria para poder acceder a los **atributos** o **propiedades**, variables que existen en de cada objeto"
   ]
  },
  {
   "cell_type": "code",
   "execution_count": null,
   "id": "4218fffb",
   "metadata": {},
   "outputs": [],
   "source": [
    "class Dog :\n",
    "    u\"\"\" Dog digital representation \"\"\"\n",
    "    \n",
    "    name = \"Duke\"\n",
    "    age = 8\n",
    "    \n",
    "    def bark(self) :\n",
    "        print(self.name, \"está ladranddo ...\")\n",
    "    \n",
    "    def eat(this_object_reference) :\n",
    "        print(this_object_reference.name, \"está comiendo ...\")\n",
    "    \n",
    "    def sleep(o) :\n",
    "        print(o.name, \"está durmiendo ...\")\n"
   ]
  },
  {
   "cell_type": "code",
   "execution_count": null,
   "id": "22d8a60a",
   "metadata": {},
   "outputs": [],
   "source": [
    "one_dog = Dog()\n",
    "\n",
    "one_dog.bark()\n",
    "one_dog.eat()\n",
    "one_dog.sleep()"
   ]
  },
  {
   "cell_type": "markdown",
   "id": "7e36eb26",
   "metadata": {},
   "source": [
    "Cuando está permitido es posible acceder a los atributos o propiedades de un objeto desde fuera de la definición de la clase."
   ]
  },
  {
   "cell_type": "code",
   "execution_count": null,
   "id": "152861fa",
   "metadata": {},
   "outputs": [],
   "source": [
    "one_dog = Dog()\n",
    "\n",
    "one_dog.bark()\n",
    "\n",
    "one_dog.name = \"Sultan\"\n",
    "one_dog.bark()"
   ]
  },
  {
   "cell_type": "markdown",
   "id": "bd51766a",
   "metadata": {},
   "source": [
    "---\n",
    "\n",
    "### Constructor de objetos\n",
    "\n",
    "El método que construye un objeto tiene un nómbre especial: **\\_\\_init\\_\\_(self, ...)**.\n",
    "\n",
    "Lo correcto es inicializar los atributos, propiedades técnicamente las **variables de instancia** en el método constructor."
   ]
  },
  {
   "cell_type": "code",
   "execution_count": null,
   "id": "17b39572",
   "metadata": {},
   "outputs": [],
   "source": [
    "class Dog :\n",
    "    u\"\"\" Dog digital representation \"\"\"\n",
    "    \n",
    "    def __init__(self) :\n",
    "        self.name = \"Duke\"\n",
    "        self.age = 8\n",
    "    \n",
    "    def bark(self) :\n",
    "        print(self.name, \"está ladranddo ...\")\n",
    "    \n",
    "    def eat(this_object_reference) :\n",
    "        print(this_object_reference.name, \"está comiendo ...\")\n",
    "    \n",
    "    def sleep(o) :\n",
    "        print(o.name, \"está durmiendo ...\")\n"
   ]
  },
  {
   "cell_type": "markdown",
   "id": "0d2eaf07",
   "metadata": {},
   "source": [
    "La ejecución del siguiente código hace lo mismo que antes solo que está bien escrito."
   ]
  },
  {
   "cell_type": "code",
   "execution_count": null,
   "id": "b163bf14",
   "metadata": {},
   "outputs": [],
   "source": [
    "one_dog = Dog()\n",
    "\n",
    "one_dog.bark()\n",
    "\n",
    "one_dog.name = \"Sultan\"\n",
    "one_dog.bark()"
   ]
  },
  {
   "cell_type": "markdown",
   "id": "2ca49de5",
   "metadata": {},
   "source": [
    "Escribir el código necesario en el método constructor de cada objeto es importante para inicializar las variables de instancia incluso con parámetros que se pueden enviar cuando se invoca el constructor de objetos."
   ]
  },
  {
   "cell_type": "code",
   "execution_count": null,
   "id": "f41625c7",
   "metadata": {},
   "outputs": [],
   "source": [
    "class Dog :\n",
    "    u\"\"\" Dog digital representation \"\"\"\n",
    "    \n",
    "    def __init__(self, name = \"Duke\", age = 8) :\n",
    "        self.name = name\n",
    "        self.age = age\n",
    "    \n",
    "    def bark(self) :\n",
    "        print(self.name, \"está ladranddo ...\")\n",
    "    \n",
    "    def eat(this_object_reference) :\n",
    "        print(this_object_reference.name, \"está comiendo ...\")\n",
    "    \n",
    "    def sleep(o) :\n",
    "        print(o.name, \"está durmiendo ...\")\n"
   ]
  },
  {
   "cell_type": "code",
   "execution_count": null,
   "id": "d90486d9",
   "metadata": {},
   "outputs": [],
   "source": [
    "one_dog = Dog()\n",
    "one_dog.bark()\n",
    "\n",
    "on_other_dog = Dog(\"Sultan\")\n",
    "on_other_dog.bark()"
   ]
  },
  {
   "cell_type": "markdown",
   "id": "c7736afe",
   "metadata": {},
   "source": [
    "---\n",
    "\n",
    "### Eliminando objetos\n",
    "\n",
    "Para dejar de utilizar un objeto y liberar la memoria asignada al mismo se debe utilizar la palabra reservada **del**.\n"
   ]
  },
  {
   "cell_type": "code",
   "execution_count": null,
   "id": "31ccc06c",
   "metadata": {},
   "outputs": [],
   "source": [
    "# ejecutar antes la celda que define los objetos del tipo Dog\n",
    "\n",
    "one_dog = Dog()\n",
    "one_dog.bark()\n",
    "\n",
    "del one_dog\n",
    "\n",
    "# intentar ejecutar esta celda sin la estructura try ... except\n",
    "\n",
    "try :\n",
    "    one_dog.bark()\n",
    "except :\n",
    "    print(\"El objeto one_dog no existe más\")\n"
   ]
  }
 ],
 "metadata": {
  "kernelspec": {
   "display_name": "Python 3 (ipykernel)",
   "language": "python",
   "name": "python3"
  },
  "language_info": {
   "codemirror_mode": {
    "name": "ipython",
    "version": 3
   },
   "file_extension": ".py",
   "mimetype": "text/x-python",
   "name": "python",
   "nbconvert_exporter": "python",
   "pygments_lexer": "ipython3",
   "version": "3.9.7"
  }
 },
 "nbformat": 4,
 "nbformat_minor": 5
}
