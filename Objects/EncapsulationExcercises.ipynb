{
 "cells": [
  {
   "cell_type": "markdown",
   "id": "621cfcea",
   "metadata": {},
   "source": [
    "<img src=\"../Images/Level1Beginner.png\" alt=\"Beginner\" width=\"128\" height=\"128\" align=\"right\">\n",
    "\n",
    "#  Ejercicios de Encapsulamiento\n",
    "\n"
   ]
  },
  {
   "cell_type": "markdown",
   "id": "73e1db39",
   "metadata": {},
   "source": [
    "Defina la clase que permita crear objetos del tipo **Account(...)** para representar una cuenta de banco.\n",
    "\n",
    "El comportamiento básico de una cuenta de banco es depositar un importe **deposit(amount)** y extraer un importe **withdraw(amount)**.\n",
    "\n",
    "Estas cuentas de banco tienen un límite de credito de hasta cien mil pesos !!!, lo que significa que es posible extraer sin tener dinero depositado, en realidad es un préstamo.\n",
    "\n",
    "Hace falta un mecanismo para visualizar el saldo o estado de la cuenta así como un resumen de los últimos movimientos.\n"
   ]
  },
  {
   "cell_type": "code",
   "execution_count": null,
   "id": "8887ded2",
   "metadata": {},
   "outputs": [],
   "source": [
    "# Definición de la clase Account()\n",
    "# ..."
   ]
  },
  {
   "cell_type": "markdown",
   "id": "64379810",
   "metadata": {},
   "source": [
    "<img src=\"../Images/Level2Intermediate.png\" alt=\"Intermediate\" width=\"128\" height=\"128\" align=\"right\">"
   ]
  },
  {
   "cell_type": "markdown",
   "id": "80cd7948",
   "metadata": {},
   "source": [
    "Desarrolle la primera versión de una clase Banco **Bank(..)** que tendrá varias cuentas banacarias de modo que se pueda transferir un importe de una cuenta a otra."
   ]
  }
 ],
 "metadata": {
  "kernelspec": {
   "display_name": "Python 3 (ipykernel)",
   "language": "python",
   "name": "python3"
  },
  "language_info": {
   "codemirror_mode": {
    "name": "ipython",
    "version": 3
   },
   "file_extension": ".py",
   "mimetype": "text/x-python",
   "name": "python",
   "nbconvert_exporter": "python",
   "pygments_lexer": "ipython3",
   "version": "3.9.7"
  }
 },
 "nbformat": 4,
 "nbformat_minor": 5
}
