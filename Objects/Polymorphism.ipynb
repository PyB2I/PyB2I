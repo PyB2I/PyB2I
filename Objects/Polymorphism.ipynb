{
 "cells": [
  {
   "cell_type": "markdown",
   "id": "ea0d9592",
   "metadata": {},
   "source": [
    "<img src=\"../Images/Level1Beginner.png\" alt=\"Beginner\" width=\"128\" height=\"128\" align=\"right\">\n",
    "\n",
    "#  Polimorfismo en Python\n",
    "\n",
    "En Programación Orientada a Objetos se entiende que **polimorfismo** es la capacidad de ejecutar bloques de sentencias con independencia del tipo.\n",
    "\n",
    "En otras palabras, se sabe que los \"objetos\" pueden ejecutar un método independientemente del tipo de objeto que sea.\n"
   ]
  },
  {
   "cell_type": "markdown",
   "id": "770e6494",
   "metadata": {},
   "source": [
    "---\n",
    "\n",
    "En toda jerarquía de clases se asume que existe polimorfismo por herencia, dado que una instancia u objeto de una clase ejecuta los métodos declarados en esa clase o los que están en la jerarquía."
   ]
  },
  {
   "cell_type": "markdown",
   "id": "d6cfea81",
   "metadata": {},
   "source": [
    "---\n",
    "\n",
    "En Python varios objetos responden a la función integrada **len(...)**.\n",
    "\n",
    "En realidad el intérprete de Python cada vez que se utiliza la función integrada len(...) lo que hace es invocar el método **\\_\\_len\\_\\_()** del objeto"
   ]
  },
  {
   "cell_type": "code",
   "execution_count": null,
   "id": "a792a786",
   "metadata": {},
   "outputs": [],
   "source": [
    "class demo_class :\n",
    "    u\"\"\" ... \"\"\"\n",
    "    def __len__(self) :\n",
    "        return 1\n",
    "    \n",
    "   \n",
    "# ---------\n",
    "\n",
    "a_list = [\"one\", \"two\", \"three\", \"four\"]\n",
    "a_tuple = (4, 3, 2, 1)\n",
    "a_set = {'a', 'e', 'i', 'o', 'u'}\n",
    "a_dict = {\"uno\" : \"one\", \"dos\" : \"two\", \"tres\" : \"three\", \"cuatro\" : \"four\"}\n",
    "a_string = \"Hola que tal\"\n",
    "a_obj = demo_class()\n",
    "\n",
    "objects = [a_list, a_tuple, a_set, a_dict, a_string, a_obj]\n",
    "\n",
    "for o in objects :\n",
    "    print(o, \" --> \", len(o))"
   ]
  },
  {
   "cell_type": "markdown",
   "id": "284d4046",
   "metadata": {},
   "source": [
    "Se debe tener mucho cuidado a la hora de cambiar la implementación de métodos especiales."
   ]
  }
 ],
 "metadata": {
  "kernelspec": {
   "display_name": "Python 3 (ipykernel)",
   "language": "python",
   "name": "python3"
  },
  "language_info": {
   "codemirror_mode": {
    "name": "ipython",
    "version": 3
   },
   "file_extension": ".py",
   "mimetype": "text/x-python",
   "name": "python",
   "nbconvert_exporter": "python",
   "pygments_lexer": "ipython3",
   "version": "3.9.7"
  }
 },
 "nbformat": 4,
 "nbformat_minor": 5
}
