{
 "cells": [
  {
   "cell_type": "markdown",
   "id": "2e23f6ef",
   "metadata": {},
   "source": [
    "<img src=\"../Images/Level1Beginner.png\" alt=\"Beginner\" width=\"128\" height=\"128\" align=\"right\">\n",
    "\n",
    "## Ejercicios de Objetos\n",
    "\n"
   ]
  },
  {
   "cell_type": "markdown",
   "id": "fbf58af4",
   "metadata": {},
   "source": [
    "En los ejercicios de tuplas se codificaron funciones para realizar operaciones matemáticas con vectores.\n",
    "\n",
    "Definir una clase que implemente el comportamiento de un vector tal como se indica en esos ejercicios"
   ]
  },
  {
   "cell_type": "code",
   "execution_count": null,
   "id": "016e281d",
   "metadata": {},
   "outputs": [],
   "source": [
    "# definición de la clase\n",
    "class vector :\n",
    "    u\"\"\" digital three dimensional vector \"\"\"\n",
    "    \n",
    "    def __init__(self) :\n",
    "        pass\n",
    "    "
   ]
  },
  {
   "cell_type": "markdown",
   "id": "d8e17a8c",
   "metadata": {},
   "source": [
    "Escribir el código que muestre el uso de objetos del tipo \"vector\" mediante la aplicación de las operaciones"
   ]
  },
  {
   "cell_type": "code",
   "execution_count": null,
   "id": "1b65a30a",
   "metadata": {},
   "outputs": [],
   "source": [
    "# ejemplo de suma de vectores"
   ]
  },
  {
   "cell_type": "code",
   "execution_count": null,
   "id": "7c49563a",
   "metadata": {},
   "outputs": [],
   "source": [
    "# ejemplo de diferentcia de vectores"
   ]
  },
  {
   "cell_type": "code",
   "execution_count": null,
   "id": "1fb0ffd3",
   "metadata": {},
   "outputs": [],
   "source": [
    "# ejemplo de producto escalar de vectores"
   ]
  },
  {
   "cell_type": "code",
   "execution_count": null,
   "id": "569584ed",
   "metadata": {},
   "outputs": [],
   "source": [
    "# ejemplo de producto vectorial de vectores"
   ]
  }
 ],
 "metadata": {
  "kernelspec": {
   "display_name": "Python 3 (ipykernel)",
   "language": "python",
   "name": "python3"
  },
  "language_info": {
   "codemirror_mode": {
    "name": "ipython",
    "version": 3
   },
   "file_extension": ".py",
   "mimetype": "text/x-python",
   "name": "python",
   "nbconvert_exporter": "python",
   "pygments_lexer": "ipython3",
   "version": "3.9.7"
  }
 },
 "nbformat": 4,
 "nbformat_minor": 5
}
