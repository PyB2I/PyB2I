{
 "cells": [
  {
   "cell_type": "markdown",
   "id": "ea0d9592",
   "metadata": {},
   "source": [
    "<img src=\"../Images/Level1Beginner.png\" alt=\"Beginner\" width=\"128\" height=\"128\" align=\"right\">\n",
    "\n",
    "#  Herencia en Python\n",
    "\n",
    "Mediante la **herencia** en programación orientada a objetos es posible definir clases utilizando como base otras clases.\n",
    "\n",
    "La nueva clase **hereda** todas las definiciones de las clases utilizadas como base y permite modificar el comportamiento de las mismas o utilizarlo tal cual está en las clases bases."
   ]
  },
  {
   "cell_type": "markdown",
   "id": "d6cfea81",
   "metadata": {},
   "source": [
    "Para indicar que una clase **hereda** de otra, solo hace falta indicarlo entre paréntesis en la declaración de la clase.\n",
    "\n",
    "    class child_class(parent_class) :\n",
    "        u\"\"\" ... \"\"\"\n",
    "        pass\n",
    "\n",
    "Una instancia de una jerarquía de clases, intenta ejecutar el método en la deficinión de la clase a la que corresponde el objeto; cuando en esa clase no se ha definidio un método busca el método siguiendo hacia arriba la jerarquía de clases."
   ]
  },
  {
   "cell_type": "code",
   "execution_count": null,
   "id": "a792a786",
   "metadata": {},
   "outputs": [],
   "source": [
    "class parent_class :\n",
    "    u\"\"\" ... \"\"\"\n",
    "    def __init__(self) :\n",
    "        print(\"Ejecutando el constructor de parent_class\")\n",
    "        return\n",
    "    \n",
    "    \n",
    "    def __str__(self) :\n",
    "        return \"cadena de texto que representa al objeto\"\n",
    "    \n",
    "    \n",
    "class child_class(parent_class) :\n",
    "    u\"\"\" ... \"\"\"\n",
    "    def __init__(self) :\n",
    "        print(\"Ejecutando el constructor de child_class\")\n",
    "        return\n",
    "\n",
    "    \n",
    "# ---------\n",
    "\n",
    "one_object = child_class()\n",
    "\n",
    "print(one_object)"
   ]
  },
  {
   "cell_type": "markdown",
   "id": "621cfcea",
   "metadata": {},
   "source": [
    "---\n",
    "\n",
    "## Jerarquía de clases\n",
    "\n",
    "Es posible definir una **jerarquía de clases** que va desde lo general hasta lo específico.\n",
    "\n",
    "En el siguiente ejemplo se tiene un paquete para representar una granja y en ella las aves como ser pollos, patos y corderos que no son aves sino mamiferos.\n"
   ]
  },
  {
   "cell_type": "code",
   "execution_count": null,
   "id": "1928bf94",
   "metadata": {},
   "outputs": [],
   "source": [
    "import farm as farm\n",
    "\n",
    "fowls = (farm.Chicken(\"Claudio\")\n",
    "         , farm.Lamb(\"Snow\")\n",
    "         , farm.Chicken(\"Pollito amarillo\")\n",
    "         , farm.Duck(\"Donald\")\n",
    "        )\n",
    "\n",
    "for fowl in fowls :\n",
    "    print(fowl, fowl.greet())"
   ]
  }
 ],
 "metadata": {
  "kernelspec": {
   "display_name": "Python 3 (ipykernel)",
   "language": "python",
   "name": "python3"
  },
  "language_info": {
   "codemirror_mode": {
    "name": "ipython",
    "version": 3
   },
   "file_extension": ".py",
   "mimetype": "text/x-python",
   "name": "python",
   "nbconvert_exporter": "python",
   "pygments_lexer": "ipython3",
   "version": "3.9.7"
  }
 },
 "nbformat": 4,
 "nbformat_minor": 5
}
