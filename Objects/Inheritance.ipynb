{
 "cells": [
  {
   "cell_type": "markdown",
   "id": "621cfcea",
   "metadata": {},
   "source": [
    "<img src=\"../Images/Level1Beginner.png\" alt=\"Beginner\" width=\"128\" height=\"128\" align=\"right\">\n",
    "\n",
    "#  Herencia en Python\n",
    "\n",
    "Mediante la **herencia** en programación orientada a objetos es posible definir clases utilizando como base otras clases.\n",
    "\n",
    "La nueva clase **hereda** todas las definiciones de las clases utilizadas como base y permite modificar el comportamiento de las mismas o utilizarlo tal cual está en las clases bases.\n",
    "\n",
    "Es posible definir una **jerarquía de clases** que va desde lo general hasta lo específico.\n"
   ]
  },
  {
   "cell_type": "markdown",
   "id": "d6cfea81",
   "metadata": {},
   "source": [
    "Herencia ..."
   ]
  }
 ],
 "metadata": {
  "kernelspec": {
   "display_name": "Python 3 (ipykernel)",
   "language": "python",
   "name": "python3"
  },
  "language_info": {
   "codemirror_mode": {
    "name": "ipython",
    "version": 3
   },
   "file_extension": ".py",
   "mimetype": "text/x-python",
   "name": "python",
   "nbconvert_exporter": "python",
   "pygments_lexer": "ipython3",
   "version": "3.9.7"
  }
 },
 "nbformat": 4,
 "nbformat_minor": 5
}
