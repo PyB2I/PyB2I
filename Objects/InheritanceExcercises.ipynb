{
 "cells": [
  {
   "cell_type": "markdown",
   "id": "621cfcea",
   "metadata": {},
   "source": [
    "<img src=\"../Images/Level1Beginner.png\" alt=\"Beginner\" width=\"128\" height=\"128\" align=\"right\">\n",
    "\n",
    "#  Ejercicios de Herencia\n",
    "\n"
   ]
  },
  {
   "cell_type": "markdown",
   "id": "73e1db39",
   "metadata": {},
   "source": [
    "Defina la clase que permita crear objetos del tipo **Person(...)**."
   ]
  },
  {
   "cell_type": "code",
   "execution_count": null,
   "id": "8887ded2",
   "metadata": {},
   "outputs": [],
   "source": [
    "# Definición de la clase Person()\n",
    "# ..."
   ]
  },
  {
   "cell_type": "markdown",
   "id": "68ab39bd",
   "metadata": {},
   "source": [
    "Defina una subclase de la clase Person(...) que permita crear objetos del tipo **Student(...)**."
   ]
  },
  {
   "cell_type": "code",
   "execution_count": null,
   "id": "3c455499",
   "metadata": {},
   "outputs": [],
   "source": [
    "# Definición de la subclase Student()"
   ]
  }
 ],
 "metadata": {
  "kernelspec": {
   "display_name": "Python 3 (ipykernel)",
   "language": "python",
   "name": "python3"
  },
  "language_info": {
   "codemirror_mode": {
    "name": "ipython",
    "version": 3
   },
   "file_extension": ".py",
   "mimetype": "text/x-python",
   "name": "python",
   "nbconvert_exporter": "python",
   "pygments_lexer": "ipython3",
   "version": "3.9.7"
  }
 },
 "nbformat": 4,
 "nbformat_minor": 5
}
