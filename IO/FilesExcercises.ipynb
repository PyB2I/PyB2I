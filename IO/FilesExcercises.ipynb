{
 "cells": [
  {
   "cell_type": "markdown",
   "id": "8b403b6a",
   "metadata": {},
   "source": [
    "<img src=\"../Images/Level1Beginner.png\" alt=\"Beginner\" width=\"128\" height=\"128\" align=\"right\">\n",
    "\n",
    "## Ejercicios de Archivos\n"
   ]
  },
  {
   "cell_type": "markdown",
   "id": "cc503c6d",
   "metadata": {},
   "source": [
    "### Encabezado de un archivo\n",
    "\n",
    "Implementar el código necesario para una función que lea las **n primeras líneas** del archivo **rockandrollyfiebre.txt**.\n"
   ]
  },
  {
   "cell_type": "code",
   "execution_count": null,
   "id": "edfe556f",
   "metadata": {},
   "outputs": [],
   "source": [
    "# ...\n",
    "def head(filepath, maxnumber=5) :\n",
    "    u\"\"\" Read first lines from file\n",
    "    \n",
    "    Args:\n",
    "    * filepath : Full file path and name\n",
    "    * maxnumber : Max number of lines to read\n",
    "    \n",
    "    Return array of lines readed\n",
    "    \"\"\"\n",
    "    \n",
    "    lines = []\n",
    "    # ...\n",
    "    return lines\n",
    "\n",
    "# --- Test function\n"
   ]
  },
  {
   "cell_type": "markdown",
   "id": "561e08d8",
   "metadata": {},
   "source": [
    "### Cola de un archivo\n",
    "\n",
    "Implementar el código necesario para una función que lea las **n últimas líneas** del archivo **rockandrollyfiebre.txt**.\n"
   ]
  },
  {
   "cell_type": "code",
   "execution_count": null,
   "id": "051bf78d",
   "metadata": {},
   "outputs": [],
   "source": [
    "# ...\n",
    "def tail(filepath, maxnumber=5) :\n",
    "    u\"\"\" Read last lines from file\n",
    "    \n",
    "    Args:\n",
    "    * filepath : Full file path and name\n",
    "    * maxnumber : Max number of lines to read\n",
    "    \n",
    "    Return array of lines readed\n",
    "    \"\"\"\n",
    "    \n",
    "    lines = []\n",
    "    # ...\n",
    "    return lines\n",
    "\n",
    "# --- Test function\n"
   ]
  },
  {
   "cell_type": "markdown",
   "id": "4a2a1835",
   "metadata": {},
   "source": [
    "### Encontrar las palabras de una canción\n",
    "\n",
    "Implementar el código necesario para leer el archivo **rockandrollyfiebre.txt** y hallar todas las palabras que se utilizan en la canción; mostrar las palabras ordenadas alfabéticamente\n"
   ]
  },
  {
   "cell_type": "code",
   "execution_count": null,
   "id": "73c9d861",
   "metadata": {},
   "outputs": [],
   "source": [
    "# ..."
   ]
  },
  {
   "cell_type": "markdown",
   "id": "39e49781",
   "metadata": {},
   "source": [
    "### Contar los mails\n",
    "\n",
    "El archivo **mbox-short.txt** contiene información de mails, al inspeccionar el archivo se descubre que cada mail comienza con la línea \"From \" seguida de la cuenta que envía el mail (esperamos que nadie haya puesto una linea de texto que comience con \"From \" en el cuerpo del mail).\n",
    "\n",
    "Implementar el código necesario para contar los mails en el archivo, verficiar de alguna manera (deberían ser 27) luego ejecutar para el archivo **mbox.txt** que contiene muchos más mails.\n"
   ]
  },
  {
   "cell_type": "code",
   "execution_count": null,
   "id": "a49725ae",
   "metadata": {},
   "outputs": [],
   "source": [
    "# ...\n"
   ]
  },
  {
   "cell_type": "markdown",
   "id": "a09a4a4d",
   "metadata": {},
   "source": [
    "<img src=\"../Images/Level2Intermediate.png\" alt=\"Intermediate\" width=\"128\" height=\"128\" align=\"right\">\n"
   ]
  },
  {
   "cell_type": "markdown",
   "id": "85acacdc",
   "metadata": {},
   "source": [
    "### Cola de grandes archivos\n",
    "\n",
    "Implementar el código que lee las **n últimas líneas** para grandes archivos sin el peligro de quedarse sin memoria, por ejemplo **mbox.txt**.\n"
   ]
  },
  {
   "cell_type": "code",
   "execution_count": null,
   "id": "115fb68a",
   "metadata": {},
   "outputs": [],
   "source": [
    "# ..."
   ]
  },
  {
   "cell_type": "markdown",
   "id": "c6e828a3",
   "metadata": {},
   "source": [
    "### Árbol de directorios\n",
    "\n",
    "Implementar una función que muestre el arbol de directorios desde uno en particular, con la posibilidad de mostrar o no los archivos que hay en cada directorio.\n"
   ]
  },
  {
   "cell_type": "code",
   "execution_count": null,
   "id": "35d9aefb",
   "metadata": {},
   "outputs": [],
   "source": [
    "# ...\n",
    "import os\n",
    "\n",
    "def tree(basepath=\".\", with_files=False) :\n",
    "    u\"\"\"\n",
    "    \"\"\"\n",
    "    pass\n",
    "\n",
    "# --- test function\n"
   ]
  }
 ],
 "metadata": {
  "kernelspec": {
   "display_name": "Python 3 (ipykernel)",
   "language": "python",
   "name": "python3"
  },
  "language_info": {
   "codemirror_mode": {
    "name": "ipython",
    "version": 3
   },
   "file_extension": ".py",
   "mimetype": "text/x-python",
   "name": "python",
   "nbconvert_exporter": "python",
   "pygments_lexer": "ipython3",
   "version": "3.9.7"
  }
 },
 "nbformat": 4,
 "nbformat_minor": 5
}
