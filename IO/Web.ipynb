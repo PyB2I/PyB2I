{
 "cells": [
  {
   "cell_type": "markdown",
   "id": "2e23f6ef",
   "metadata": {},
   "source": [
    "<img src=\"../Images/Level1Beginner.png\" alt=\"Beginner\" width=\"128\" height=\"128\" align=\"right\">\n",
    "\n",
    "## Web en Python\n",
    "\n",
    "En Python el acceso a los \"recursos\" que se encuentran en la World Wide Web se hace utilizando librerías (paquetes) que permiten realizar las distintas tareas que cada caso requiere"
   ]
  },
  {
   "cell_type": "markdown",
   "id": "bce66511",
   "metadata": {},
   "source": [
    "Muchas personas en la comunidad de Python utilizan (al menos comienzan utilizando) la librería **requests** cuya documentación se encuentra en: [Requests: HTTP para Humanos](https://docs.python-requests.org/es/latest/index.html)\n"
   ]
  },
  {
   "cell_type": "code",
   "execution_count": null,
   "id": "e8551fe8",
   "metadata": {},
   "outputs": [],
   "source": [
    "import requests"
   ]
  },
  {
   "cell_type": "code",
   "execution_count": null,
   "id": "5fae41cb",
   "metadata": {},
   "outputs": [],
   "source": [
    "\n",
    "try :\n",
    "    r = requests.get(\"https://pyb2i.com\")\n",
    "    data = r.content\n",
    "    print(data)\n",
    "\n",
    "except Exception as e:\n",
    "    print(\"Error de Entrada/Salida:\", e)\n",
    "\n",
    "else :\n",
    "    r.close()"
   ]
  },
  {
   "cell_type": "code",
   "execution_count": null,
   "id": "d3700a82",
   "metadata": {},
   "outputs": [],
   "source": [
    "\n",
    "try :\n",
    "    r = requests.get(\"https://pyb2i.com\")\n",
    "    \n",
    "    print(\"\\nHeaders\\n\", r.headers)\n",
    "\n",
    "    print(\"\\nTexto\\n\", r.text)\n",
    "\n",
    "except Exception as e:\n",
    "    print(\"Error de Entrada/Salida:\", e)\n",
    "\n",
    "else :\n",
    "    r.close()\n"
   ]
  },
  {
   "cell_type": "markdown",
   "id": "ad045687",
   "metadata": {},
   "source": [
    "Se recomienda comenzar el aprendizaje y entrenamiento de cómo utilizar esta librería por [Quickstart](https://docs.python-requests.org/es/latest/user/quickstart.html)"
   ]
  },
  {
   "cell_type": "markdown",
   "id": "2890cc4f",
   "metadata": {},
   "source": [
    "En el URL de PyB2I se encuentra una página web muy simple; demopage.html"
   ]
  },
  {
   "cell_type": "code",
   "execution_count": null,
   "id": "65990e62",
   "metadata": {},
   "outputs": [],
   "source": [
    "\n",
    "try :\n",
    "    r = requests.get(\"https://pyb2i.com/demopage.html\")\n",
    "    \n",
    "    print(\"\\nHeaders\\n\")\n",
    "    for k, v in r.headers.items() :\n",
    "        print(k, \":\", v)\n",
    "    \n",
    "    print(\"\\nTexto\\n\", r.text)\n",
    "\n",
    "except Exception as e:\n",
    "    print(\"Error de Entrada/Salida:\", e)\n",
    "\n",
    "else :\n",
    "    r.close()\n"
   ]
  },
  {
   "cell_type": "markdown",
   "id": "cfeb6718",
   "metadata": {},
   "source": [
    "---\n",
    "### HTML y XHTML\n",
    "\n",
    "El contenido de las páginas web se entregaba en formato **HTML - HyperText Markup Language**, los sitios actualizados entregan el contenido en **XHTML - eXtensible Hyper Text Markup Language** [estándard](https://www.w3.org/blog/news/archives/4167#:~:text=The%20HTML%20Working%20Group%20today,of%20the%20Open%20Web%20Platform.)"
   ]
  },
  {
   "cell_type": "markdown",
   "id": "f79b7362",
   "metadata": {},
   "source": [
    "Todo **lenguaje de marcado** se basa en el uso de la **identificación de apertura y cierre de marcas**\n",
    "\n",
    "Se ha establecido como un estandar utilizar los símbolos **<** (menor) y **>** (mayor) para identificar la apertura de una marca y el símbolo **/** (barra) después del símbolo menor para identifcar el cierre de una marca; de este modo\n",
    "\n",
    "\\<h1> indica la apertura de la marca \"h1\"\n",
    "   \n",
    "\\</h1> indica el cierre de la marca \"h1\"\n",
    "\n",
    "Existen excepciones que se pueden hallar en la documentación oficial\n",
    "\n",
    "El procesamiento de un **texto en lenguaje de marcado** implica detectar las \"marcas\" y actuar en consecuencia, en el caso de documentos para páginas web significa presentar la información mediante un \"browser\" o navegador web\n",
    "\n",
    "Con el tiempo HTML y actualmente XHTML incorporarón un enorme conjunto de \"marcas\" para **formatear** la información no solamente presentar; estas marcas evolucionaron a lo que hoy se conoce como **CSS - Cascading Style Sheets** [estandard](https://www.w3.org/Style/CSS/#specs)"
   ]
  },
  {
   "cell_type": "markdown",
   "id": "fa869343",
   "metadata": {},
   "source": [
    "<img src=\"../Images/Level1Beginner.png\" alt=\"Beginner\" width=\"128\" height=\"128\" align=\"right\">\n"
   ]
  },
  {
   "cell_type": "markdown",
   "id": "9652c8f4",
   "metadata": {},
   "source": [
    "### XML\n",
    "\n",
    "**XML - eXtensible Markup Language** es un lenguaje de marcado sin marcas preestablecidas [estandard](https://www.w3.org/XML/)\n",
    "\n",
    "Bajo el mismo principio de \"abrir y cerrar marcas\", en XML se espera que quién crea un documento utilice correctamente las marcas que necesite\n",
    "\n",
    "    <personas>\n",
    "        <persona lastname=\"Tentor\" firstname=\"Julio\"></persona>\n",
    "        <persona lastname=\"Perez\" firstname=\"Juan\"></persona>\n",
    "    </personas>'''\n",
    "\n",
    "La librería básica para procesar datos en formato XML es **xml.etree.ElementTree** que normalmente se importa como **ET**\n"
   ]
  },
  {
   "cell_type": "code",
   "execution_count": null,
   "id": "a1c28884",
   "metadata": {},
   "outputs": [],
   "source": [
    "import xml.etree.ElementTree as ET"
   ]
  },
  {
   "cell_type": "code",
   "execution_count": null,
   "id": "57da1899",
   "metadata": {},
   "outputs": [],
   "source": [
    "\n",
    "data = '''\n",
    "<personas>\n",
    "    <persona lastname=\"Tentor\" firstname=\"Julio\"></persona>\n",
    "    <persona lastname=\"Perez\" firstname=\"Juan\"></persona>\n",
    "</personas>'''\n",
    "\n",
    "root = ET.fromstring(data)\n",
    "\n",
    "print(root.tag)\n",
    "for child in root :\n",
    "    print(child.tag, child.attrib)\n"
   ]
  },
  {
   "cell_type": "markdown",
   "id": "7841f11a",
   "metadata": {},
   "source": [
    "---\n",
    "### JSON\n",
    "\n",
    "**JSON - JavaScript Object Notation** es un formato para manter datos como listas de pares clave-valor, en Python eso se conoce como una lista de dicccionarios\n",
    "\n"
   ]
  },
  {
   "cell_type": "code",
   "execution_count": null,
   "id": "cecb1ece",
   "metadata": {},
   "outputs": [],
   "source": [
    "import json"
   ]
  },
  {
   "cell_type": "code",
   "execution_count": null,
   "id": "f14ff6c3",
   "metadata": {},
   "outputs": [],
   "source": [
    "data = '''\n",
    "[\n",
    "    { \"lastname\": \"Tentor\", \"firstname\" : \"Julio\" },\n",
    "    { \"lastname\": \"Perez\", \"firstname\" : \"Juan\" }\n",
    "]'''\n",
    "\n",
    "persons = json.loads(data)\n",
    "for person in persons :\n",
    "    for k, v in person.items() :\n",
    "        print(k, v)"
   ]
  },
  {
   "cell_type": "markdown",
   "id": "823bb9be",
   "metadata": {},
   "source": [
    "---\n",
    "El formato JSON es muy útil para almacenar datos de un programa en Python"
   ]
  },
  {
   "cell_type": "code",
   "execution_count": null,
   "id": "c0d7aef4",
   "metadata": {},
   "outputs": [],
   "source": [
    "filename = \"agenda.txt\"\n",
    "try :\n",
    "    file = open(filename, mode='rt', encoding='UTF8')\n",
    "\n",
    "    persons = json.load(file)\n",
    "    for person in persons :\n",
    "        for k, v in person.items() :\n",
    "            print(k, v)\n",
    "    \n",
    "except Exception as e:\n",
    "    print(\"Error de Entrada/Salida:\", e)\n",
    "\n",
    "else :\n",
    "    file.close()\n"
   ]
  }
 ],
 "metadata": {
  "kernelspec": {
   "display_name": "Python 3 (ipykernel)",
   "language": "python",
   "name": "python3"
  },
  "language_info": {
   "codemirror_mode": {
    "name": "ipython",
    "version": 3
   },
   "file_extension": ".py",
   "mimetype": "text/x-python",
   "name": "python",
   "nbconvert_exporter": "python",
   "pygments_lexer": "ipython3",
   "version": "3.9.7"
  }
 },
 "nbformat": 4,
 "nbformat_minor": 5
}
