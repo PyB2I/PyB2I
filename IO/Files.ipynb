{
 "cells": [
  {
   "cell_type": "markdown",
   "id": "8b403b6a",
   "metadata": {},
   "source": [
    "## Ejercicios de Archivos\n"
   ]
  },
  {
   "cell_type": "markdown",
   "id": "4a2a1835",
   "metadata": {},
   "source": [
    "### Encontrar las palabras de una canción\n",
    "\n",
    "Escribir el código necesario para leer el archivo **rockandrollyfiebre.txt** y hallar todas las palabras que se utilizan en la canción; mostrar las palabras ordenadas alfabéticamente\n"
   ]
  },
  {
   "cell_type": "code",
   "execution_count": null,
   "id": "73c9d861",
   "metadata": {},
   "outputs": [],
   "source": [
    "# ..."
   ]
  }
 ],
 "metadata": {
  "kernelspec": {
   "display_name": "Python 3",
   "language": "python",
   "name": "python3"
  },
  "language_info": {
   "codemirror_mode": {
    "name": "ipython",
    "version": 3
   },
   "file_extension": ".py",
   "mimetype": "text/x-python",
   "name": "python",
   "nbconvert_exporter": "python",
   "pygments_lexer": "ipython3",
   "version": "3.8.8"
  }
 },
 "nbformat": 4,
 "nbformat_minor": 5
}
