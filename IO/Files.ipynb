{
 "cells": [
  {
   "cell_type": "markdown",
   "id": "8b403b6a",
   "metadata": {},
   "source": [
    "## Archivos en Python\n"
   ]
  },
  {
   "cell_type": "markdown",
   "id": "4a2a1835",
   "metadata": {},
   "source": [
    "### File Handler o Manejador de Archivo\n",
    "\n",
    "En Python un **file handler** es una variable que referencia a un objeto que representa a un archivo, es por medio de ese objeto que se pueden realizar operaciones con el archivo.\n"
   ]
  },
  {
   "cell_type": "markdown",
   "id": "7b7baedc",
   "metadata": {},
   "source": [
    "#### Abrir un archvo\n",
    "\n",
    "Mediante la función **open(...)** se asigna el **file handler** a una variable; el argumento obligatorio es el nombre del archivo incluida la ruta de acceso al mismo si fuese necesario.\n",
    "\n",
    "Un segundo argumento opcional permite determinar el modo de acceso al archivo y el tratamiento del archivo binario o texto; por defecto el modo de acceso es \"**r**\" - **Read** y el tratamiento es \"**t**\" - **Text**.\n",
    "\n",
    "En un archivo de texto los bytes almacenados en el archivo se consideran caracteres mientras que en un archivo binario cada byte es tratado sin conversión alguna.\n",
    "\n",
    "Cuando la operación de apertura del archivo no se puede realizar se lanza una excepción."
   ]
  },
  {
   "cell_type": "code",
   "execution_count": null,
   "id": "73c9d861",
   "metadata": {},
   "outputs": [],
   "source": [
    "# Abrir un archivo con valores por defecto\n",
    "\n",
    "fileHandler = open(\"rockandrollyfiebre.txt\")\n",
    "\n",
    "print(fileHandler)\n"
   ]
  }
 ],
 "metadata": {
  "kernelspec": {
   "display_name": "Python 3",
   "language": "python",
   "name": "python3"
  },
  "language_info": {
   "codemirror_mode": {
    "name": "ipython",
    "version": 3
   },
   "file_extension": ".py",
   "mimetype": "text/x-python",
   "name": "python",
   "nbconvert_exporter": "python",
   "pygments_lexer": "ipython3",
   "version": "3.8.8"
  }
 },
 "nbformat": 4,
 "nbformat_minor": 5
}
