{
 "cells": [
  {
   "cell_type": "markdown",
   "id": "8b403b6a",
   "metadata": {},
   "source": [
    "<img src=\"../Images/Level1Beginner.png\" alt=\"Beginner\" width=\"128\" height=\"128\" align=\"right\">\n",
    "\n",
    "## Archivos en Python\n"
   ]
  },
  {
   "cell_type": "markdown",
   "id": "4a2a1835",
   "metadata": {},
   "source": [
    "### File Handler o Manejador de Archivo\n",
    "\n",
    "En Python un **file object** es una variable que referencia a un objeto que representa a un archivo, es por medio de ese objeto que se pueden realizar operaciones con el archivo.\n"
   ]
  },
  {
   "cell_type": "markdown",
   "id": "7b7baedc",
   "metadata": {},
   "source": [
    "#### Abrir un archvo\n",
    "\n",
    "Mediante la función **open(...)** se asigna el **file object** a una variable; el argumento obligatorio es el nombre del archivo incluida la ruta de acceso al mismo si fuese necesario.\n",
    "\n",
    "Un segundo argumento opcional permite determinar el modo de acceso al archivo y el tratamiento del archivo binario o texto; por defecto el modo de acceso es \"**r**\" - **Read** y el tratamiento es \"**t**\" - **Text**.\n",
    "\n",
    "Cuando la operación de apertura del archivo no se puede realizar se lanza una excepción.\n",
    "\n",
    "En el tratamiento de archivos se deben considerar muchas situaciones excepcionales, el código siempre debe contemplar el tratamiento de las excepciones.\n",
    "\n",
    "Enlace a la lista [excepciones específicas](https://docs.python.org/es/3/library/exceptions.html#concrete-exceptions) "
   ]
  },
  {
   "cell_type": "code",
   "execution_count": null,
   "id": "73c9d861",
   "metadata": {},
   "outputs": [],
   "source": [
    "# Abrir un archivo con valores por defecto\n",
    "\n",
    "try :\n",
    "    file = open(\"rockandrollyfiebre.txt\", mode='rt')\n",
    "\n",
    "    print(file)\n",
    "    \n",
    "    \n",
    "except Exception as e:\n",
    "    print(\"Error de Entrada/Salida:\", e)\n",
    "\n",
    "else :\n",
    "    print(\"Cerrando el archivo\")\n",
    "    file.close()\n"
   ]
  },
  {
   "cell_type": "markdown",
   "id": "39adbe8d",
   "metadata": {},
   "source": [
    "---\n",
    "\n",
    "### Tipos de archivos\n",
    "\n",
    "En Python se consideran dos tipos de archivos, los que tienen líneas de texto y los que tienen secuencias de bytes.\n",
    "\n",
    "Una línea de texto es una secuencia de caracteres que finaliza con un caracter especial conocideo como **salto de linea** que se representa mediante **'\\\\n'**\n",
    "\n",
    "Una secuencia de bytes corresponde a algún tipo de convención, o acuerdo que indica el significado de cada uno de esos bytes; en otras palabras para trabajar con secuencias de bytes es necesario conocer la estructura o formato en que esa secuencia de bytes fue construida."
   ]
  },
  {
   "cell_type": "markdown",
   "id": "43a94f84",
   "metadata": {},
   "source": [
    "---\n",
    "### Lectura de archivos de texto\n",
    "\n",
    "El manejador de archivo (file handle) permite acceder secuencialmente a todas las lineas de texto contenidas en el archivo."
   ]
  },
  {
   "cell_type": "code",
   "execution_count": null,
   "id": "641178a3",
   "metadata": {},
   "outputs": [],
   "source": [
    "# Lectura de cada una de las lineas de un archivo de text\n",
    "\n",
    "try :\n",
    "    file = open(\"rockandrollyfiebre.txt\", mode='rt')\n",
    "\n",
    "    for line in file :\n",
    "        print(line)\n",
    "    \n",
    "    \n",
    "except Exception as e:\n",
    "    print(\"Error de Entrada/Salida:\", e)\n",
    "\n",
    "else :\n",
    "    #print(\"Cerrando el archivo\")\n",
    "    file.close()\n"
   ]
  },
  {
   "cell_type": "markdown",
   "id": "d8529ac9",
   "metadata": {},
   "source": [
    "Es posible leer todo el contenido del archivo."
   ]
  },
  {
   "cell_type": "code",
   "execution_count": null,
   "id": "cffc7b17",
   "metadata": {},
   "outputs": [],
   "source": [
    "# Lectura de todo el contenido de un archivo de texto\n",
    "\n",
    "try :\n",
    "    file = open(\"rockandrollyfiebre.txt\", mode='rt', encoding='UTF8')\n",
    "\n",
    "    text = file.read()\n",
    "    print(text)\n",
    "    \n",
    "    \n",
    "except Exception as e:\n",
    "    print(\"Error de Entrada/Salida:\", e)\n",
    "\n",
    "else :\n",
    "    #print(\"Cerrando el archivo\")\n",
    "    file.close()\n"
   ]
  },
  {
   "cell_type": "markdown",
   "id": "d2638f9a",
   "metadata": {},
   "source": [
    "Es posible leer todas las lineas del archivo."
   ]
  },
  {
   "cell_type": "code",
   "execution_count": null,
   "id": "7782a2de",
   "metadata": {},
   "outputs": [],
   "source": [
    "# Lectura de todas las lineas de un archivo de texto\n",
    "\n",
    "try :\n",
    "    file = open(\"rockandrollyfiebre.txt\", mode='rt', encoding='UTF8')\n",
    "\n",
    "    lines = file.readlines()\n",
    "    print(lines)\n",
    "    \n",
    "    \n",
    "except Exception as e:\n",
    "    print(\"Error de Entrada/Salida:\", e)\n",
    "\n",
    "else :\n",
    "    #print(\"Cerrando el archivo\")\n",
    "    file.close()\n"
   ]
  },
  {
   "cell_type": "markdown",
   "id": "8f5c780e",
   "metadata": {},
   "source": [
    "---\n",
    "### Escritura de archivos de texto\n",
    "\n",
    "Para **escribir** en un archivo de texto es necesario abrirlo en alguna de estas modalidades:\n",
    "\n",
    "**a** agrega texto al final del archivo, el archivo debe existir\n",
    "\n",
    "**w** trunca el archivo y permite agregar texto, crea el archivo si no existe\n",
    "\n",
    "**x** crea el archivo y permite agregar texto, falla si el archivo ya existe"
   ]
  },
  {
   "cell_type": "code",
   "execution_count": null,
   "id": "ca4c1c09",
   "metadata": {},
   "outputs": [],
   "source": [
    "# Escritura de una archivo\n",
    "\n",
    "try :\n",
    "    file = open(\"pepe.txt\", mode='wt', encoding='UTF8')\n",
    "\n",
    "    file.write(\"Primera linea en el archivo\\n\")\n",
    "    file.write(\"\\n\\nFin.\")\n",
    "    \n",
    "except Exception as e:\n",
    "    print(\"Error de Entrada/Salida:\", e)\n",
    "\n",
    "else :\n",
    "    #print(\"Cerrando el archivo\")\n",
    "    file.close()\n"
   ]
  },
  {
   "cell_type": "markdown",
   "id": "9df27870",
   "metadata": {},
   "source": [
    "<img src=\"../Images/Level2Intermediate.png\" alt=\"Intermediate\" width=\"128\" height=\"128\" align=\"right\">"
   ]
  },
  {
   "cell_type": "markdown",
   "id": "3297ae43",
   "metadata": {},
   "source": [
    "### Directorios\n",
    "\n",
    "Los sistemas de almacenamiento de archivos suelen organizarse en forma de **carpetas** o **directorios**, en Python se cuenta con el paquete **os** que facilita el tratamiento de estas estructuras."
   ]
  },
  {
   "cell_type": "code",
   "execution_count": null,
   "id": "2650e5b1",
   "metadata": {},
   "outputs": [],
   "source": [
    "import os"
   ]
  },
  {
   "cell_type": "markdown",
   "id": "58a881d8",
   "metadata": {},
   "source": [
    "Mediante **os.listdir(...)** es posible obtener una lista de todos los archivos y directorios en un directorio en particular."
   ]
  },
  {
   "cell_type": "code",
   "execution_count": null,
   "id": "a4880e93",
   "metadata": {},
   "outputs": [],
   "source": [
    "# Lista de archivos y directorios en el directorio actual\n",
    "print(os.listdir(\".\"))"
   ]
  },
  {
   "cell_type": "code",
   "execution_count": null,
   "id": "e0cbca99",
   "metadata": {},
   "outputs": [],
   "source": [
    "# Lista de archivos y directorios en el directorio anterior al actual\n",
    "print(os.listdir(\"..\"))"
   ]
  },
  {
   "cell_type": "code",
   "execution_count": null,
   "id": "680f41ec",
   "metadata": {},
   "outputs": [],
   "source": [
    "# Lista de archivos y directorios en dos directorios anteriores al actual\n",
    "print(os.listdir(\"../..\"))"
   ]
  },
  {
   "cell_type": "markdown",
   "id": "3e3e3d54",
   "metadata": {},
   "source": [
    "En el paquete **os** se encuentra un subpaquete **path** con funciones útiles para manipular la información de un directorio."
   ]
  },
  {
   "cell_type": "code",
   "execution_count": null,
   "id": "524b4ad8",
   "metadata": {},
   "outputs": [],
   "source": [
    "def listfiles(filepath=\".\") :\n",
    "    u\"\"\" Returns a list of only files in filepath \"\"\"\n",
    "    return [filename for filename in os.listdir(filepath) if os.path.isfile(os.path.join(filepath, filename))]\n",
    "\n",
    "\n",
    "def listdirectories(filepath=\".\") :\n",
    "    u\"\"\" Returns a list of only directories in filepath \"\"\"\n",
    "    return [filename for filename in os.listdir(filepath) if not os.path.isfile(os.path.join(filepath, filename))]\n"
   ]
  },
  {
   "cell_type": "code",
   "execution_count": null,
   "id": "540f4942",
   "metadata": {},
   "outputs": [],
   "source": [
    "print(listfiles(\"..\"))\n",
    "print(listdirectories(\"..\"))"
   ]
  }
 ],
 "metadata": {
  "kernelspec": {
   "display_name": "Python 3 (ipykernel)",
   "language": "python",
   "name": "python3"
  },
  "language_info": {
   "codemirror_mode": {
    "name": "ipython",
    "version": 3
   },
   "file_extension": ".py",
   "mimetype": "text/x-python",
   "name": "python",
   "nbconvert_exporter": "python",
   "pygments_lexer": "ipython3",
   "version": "3.9.7"
  }
 },
 "nbformat": 4,
 "nbformat_minor": 5
}
