{
 "cells": [
  {
   "cell_type": "markdown",
   "id": "2e23f6ef",
   "metadata": {},
   "source": [
    "<img src=\"../Images/Level1Beginner.png\" alt=\"Beginner\" width=\"128\" height=\"128\" align=\"right\">\n",
    "\n",
    "## Ejercicios - Paquetes"
   ]
  },
  {
   "cell_type": "markdown",
   "id": "ff2781cf",
   "metadata": {},
   "source": [
    "\n",
    "En el resumen conceptual de Objetos se presentó la definición sencilla de la clase Dog.\n",
    "\n",
    "Incorpore en la subcarpeta subpackage1 de la carpeta packagedemo el código de la clase Dog y logre que al importar packagedemo automáticamente se pueda crear objetos del tipo **Dog()**.\n",
    "\n"
   ]
  },
  {
   "cell_type": "code",
   "execution_count": 1,
   "id": "2783e586",
   "metadata": {
    "scrolled": false
   },
   "outputs": [
    {
     "name": "stdout",
     "output_type": "stream",
     "text": [
      "\n",
      "Ejecutando __init__.py en la carpeta packagedemo\n",
      "\n",
      "\n",
      "Ejecutando el módulo packagedemo.module1\n",
      "\n",
      "\n",
      "Ejecutando __init__.py en la carpeta packagedemo.subpackage1\n",
      "\n",
      "Sultan está ladranddo ...\n"
     ]
    }
   ],
   "source": [
    "# importar lo que haga falta\n",
    "# ...\n",
    "\n",
    "one_dog = Dog(\"Sultan\")\n",
    "\n",
    "one_dog.bark()"
   ]
  }
 ],
 "metadata": {
  "kernelspec": {
   "display_name": "Python 3 (ipykernel)",
   "language": "python",
   "name": "python3"
  },
  "language_info": {
   "codemirror_mode": {
    "name": "ipython",
    "version": 3
   },
   "file_extension": ".py",
   "mimetype": "text/x-python",
   "name": "python",
   "nbconvert_exporter": "python",
   "pygments_lexer": "ipython3",
   "version": "3.9.7"
  }
 },
 "nbformat": 4,
 "nbformat_minor": 5
}
