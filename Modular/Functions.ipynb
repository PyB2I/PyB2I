{
 "cells": [
  {
   "cell_type": "markdown",
   "id": "17c463c8",
   "metadata": {},
   "source": [
    "# Funciones\n",
    "\n",
    "En programación una función es un bloque de sentencias que tienen un nombre y hacen \"algo\"; suelen tener \"argumentos\" y devolver  un valor\n"
   ]
  },
  {
   "cell_type": "code",
   "execution_count": null,
   "id": "3cf6561f",
   "metadata": {},
   "outputs": [],
   "source": [
    "\n",
    "print(type(\"texto\"))\n"
   ]
  },
  {
   "cell_type": "code",
   "execution_count": null,
   "id": "5c820a7b",
   "metadata": {},
   "outputs": [],
   "source": [
    "\n",
    "print()\n"
   ]
  },
  {
   "cell_type": "markdown",
   "id": "5f254cd0",
   "metadata": {},
   "source": [
    "Python cuenta con una serie de funciones incluidas (Built-in functions), que siempre están disponibles.\n",
    "\n",
    "Algunas fueron utilizadas **type(...)**, **len(...)**, **print(...)**, **range(...)** o las que permiten convertir tipos de datos **int(...)**, **float(...)**, **complex(...)**, **str(...)**, **list(...)**, **tuple(...)**, **set(...)**, **dict(...)**\n",
    "\n",
    "Otras como **abs(...)**, **max(...)**, **min(...)**, **sum(...)** están disponibles pero se recomienda indagar qué hacen ...\n",
    "\n",
    "En [Funciones Built-in](https://docs.python.org/es/3/library/functions.html) se encuentra el listado oficial\n"
   ]
  },
  {
   "cell_type": "markdown",
   "id": "111ae07a",
   "metadata": {},
   "source": [
    "### Argumentos y Parámetros\n",
    "\n",
    "Algunas funciones tienen argumentos como por ejemplo **len(...)** que devuelve la cantidad de elementos que tiene el valor que se pone entre los paréntesis\n"
   ]
  },
  {
   "cell_type": "code",
   "execution_count": null,
   "id": "61afc6f8",
   "metadata": {},
   "outputs": [],
   "source": [
    "len(\"Hola, bienvenido\")"
   ]
  },
  {
   "cell_type": "code",
   "execution_count": null,
   "id": "3e0f2701",
   "metadata": {},
   "outputs": [],
   "source": [
    "len([\"Hola\", \"bienvenido\"])"
   ]
  },
  {
   "cell_type": "code",
   "execution_count": null,
   "id": "a19dee71",
   "metadata": {},
   "outputs": [],
   "source": [
    "print(len(\"Hola, bienvenido\") + len([\"Hola\", \"bienvenido\"]))"
   ]
  },
  {
   "cell_type": "markdown",
   "id": "1df4a1e1",
   "metadata": {},
   "source": [
    "\n",
    "El **argumento** puede ser un valor, una variable o una expresión que se **evalúa antes de invocar la función**, de este modo siempre se obtiene un **valor del argumento** que se entrega a la función\n",
    "\n",
    "La función recibe\" cada **argumento** como un **parámetro**, para ello en la definición de la función es necesario indicar el nombre de cada parámetro\n",
    "\n",
    "En el cuerpo de la función el nombre de cada parámetro se utiliza de la misma forma que se utilizan las variables\n"
   ]
  }
 ],
 "metadata": {
  "kernelspec": {
   "display_name": "Python 3",
   "language": "python",
   "name": "python3"
  },
  "language_info": {
   "codemirror_mode": {
    "name": "ipython",
    "version": 3
   },
   "file_extension": ".py",
   "mimetype": "text/x-python",
   "name": "python",
   "nbconvert_exporter": "python",
   "pygments_lexer": "ipython3",
   "version": "3.8.8"
  }
 },
 "nbformat": 4,
 "nbformat_minor": 5
}
