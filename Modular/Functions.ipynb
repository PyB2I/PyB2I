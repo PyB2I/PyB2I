{
 "cells": [
  {
   "cell_type": "markdown",
   "id": "17c463c8",
   "metadata": {},
   "source": [
    "<img src=\"../Images/Level1Beginner.png\" alt=\"Beginner\" width=\"128\" height=\"128\" align=\"right\">\n",
    "\n",
    "# Funciones en Python\n",
    "\n",
    "En programación una **función** es un **bloque de sentencias** que **tiene nombre** y hace \"algo\".\n",
    "\n",
    "La potencia de una función es que se puede \"invocar\", \"llamar\" o \"ejecutar\" tantas veces como se quiera desde distintas partes de otro código, lo que facilita la **reutilización**, **evolución** y **mantenimiento** del código.\n",
    "\n",
    "Las funciones suelen tener \"argumentos\", que es la forma en la que desde otras partes del código se les \"pasa\" valores que la función puede utilizar como \"variables locales\" o **parámetros**.\n",
    "\n",
    "La mayoría de las funciones suelen **devolver algo**, en general se invoca una función justamente para obtener ese resultado.\n"
   ]
  },
  {
   "cell_type": "code",
   "execution_count": null,
   "id": "3cf6561f",
   "metadata": {},
   "outputs": [],
   "source": [
    "# la función type(...) recibe un argumento y devuelve algo\n",
    "\n",
    "type(\"texto\")\n"
   ]
  },
  {
   "cell_type": "code",
   "execution_count": null,
   "id": "8cd9c116",
   "metadata": {},
   "outputs": [],
   "source": [
    "type(78.5)"
   ]
  },
  {
   "cell_type": "code",
   "execution_count": null,
   "id": "1ab1dded",
   "metadata": {},
   "outputs": [],
   "source": [
    "# la función type(...) devuelve algo que se conoce como type\n",
    "\n",
    "type(type(\"texto\"))"
   ]
  },
  {
   "cell_type": "code",
   "execution_count": null,
   "id": "5c820a7b",
   "metadata": {},
   "outputs": [],
   "source": [
    "# la función print(...) recibe argumentos pero no devuleve nada\n",
    "\n",
    "print(\"texto\")\n",
    "\n",
    "print(78.5, True, [1, 2, 3])\n",
    "\n",
    "print()\n",
    "\n",
    "print(\"otro texto después de print() sin argumentos\")\n",
    "\n",
    "print(\"lo que devuelve print(...)\", type(print()))\n"
   ]
  },
  {
   "cell_type": "markdown",
   "id": "5f254cd0",
   "metadata": {},
   "source": [
    "---\n",
    "\n",
    "Python cuenta con una serie de funciones incluidas (Built-in functions), que siempre están disponibles.\n",
    "\n",
    "Algunas ya fueron utilizadas como ser: **type(...)**, **len(...)**, **print(...)**, **range(...)**.\n",
    "\n",
    "También están las que permiten convertir tipos de datos **int(...)**, **float(...)**, **complex(...)**, **str(...)**, **list(...)**, **tuple(...)**, **set(...)**, **dict(...)** se toman como funciones pero son constructores (método especial que que se tratará con el tema **objetos**).\n",
    "\n",
    "Otras como **abs(...)**, **max(...)**, **min(...)**, **sum(...)** están disponibles y se recomienda indagar qué hacen ...\n",
    "\n",
    "En [Funciones Built-in](https://docs.python.org/es/3/library/functions.html) se encuentra el listado oficial de funciones incluidas en el intérprete de Python.\n"
   ]
  },
  {
   "cell_type": "markdown",
   "id": "ebf723ef",
   "metadata": {},
   "source": [
    "---\n",
    "\n",
    "## Declarando funciones\n",
    "\n",
    "La palabra reservada **def** se utiliza para indicar el inicio de la declaración de una función.\n",
    "\n",
    "Luego **se debe indicar** el nombre de la función, a continuación *entre parentesis* la lista de parámetros si es que los tiene, finalmente con los dos puntos \"**:**\" se comienza el  bloque de sentencias.\n",
    "\n",
    "Es posible indicar el nombre de la función, la lista de parámetros en múltiples líneas (ayuda a la visibilidad) del código cuando una función tiene muchos parámetros.\n",
    "\n",
    "A continuación de la **firma de la función** debe estar el **texto de documentación** o **docstring** en el que se consigna información sobre lo que la función hace.\n",
    "\n",
    "Existe un convenio sobre cómo documentar el código; se trata del [PEP 257 - Docstring Conventions](https://www.python.org/dev/peps/pep-0257/).\n",
    "\n",
    "Al final de la función se puede poner la instrucción **return**, no es necesario a menos que se deba devolver un valor; din embargo puede ser útil para indicar que ahí finaliza el código de la función. **Quién programa debe verificar que las siguientes sentencias estén en el nivel de indentación anterior**.\n",
    "\n",
    "En el código Python las funciones **deben definirse antes de invocarse o utilizarse**."
   ]
  },
  {
   "cell_type": "code",
   "execution_count": null,
   "id": "46097f04",
   "metadata": {},
   "outputs": [],
   "source": [
    "# definción de una función\n",
    "\n",
    "def some_function(first_parameter, second_parameter) :\n",
    "    \"\"\" descripción de lo que hace esta función \"\"\"\n",
    "    # ...\n",
    "    print(\"\\t...\")\n",
    "    print(\"\\tfirst_parameter:\", first_parameter)\n",
    "    print(\"\\tsecond_parameter:\", second_parameter)\n",
    "    print(\"\\t...\")\n",
    "    # ...\n",
    "    return\n",
    "\n",
    "\n",
    "some_function(\"hola\", \"que tal\")\n",
    "\n",
    "some_function(15, True)\n",
    "\n",
    "some_function(('a', 'b'), [1, 2, 3])\n"
   ]
  },
  {
   "cell_type": "markdown",
   "id": "111ae07a",
   "metadata": {},
   "source": [
    "### Argumentos y Parámetros\n",
    "\n",
    "El **argumento** puede ser un valor, una variable o una expresión que se **evalúa antes de invocar la función**, el resultado de esa evaluación es lo que se entrega a la función.\n"
   ]
  },
  {
   "cell_type": "code",
   "execution_count": null,
   "id": "61afc6f8",
   "metadata": {},
   "outputs": [],
   "source": [
    "len(\"Hola, bienvenido\")"
   ]
  },
  {
   "cell_type": "code",
   "execution_count": null,
   "id": "3e0f2701",
   "metadata": {},
   "outputs": [],
   "source": [
    "some_list = [\"Hola\", \"bienvenido\"]\n",
    "len(some_list)"
   ]
  },
  {
   "cell_type": "code",
   "execution_count": null,
   "id": "a19dee71",
   "metadata": {},
   "outputs": [],
   "source": [
    "len(\"Hola, bienvenido\") + len([\"Hola\", \"bienvenido\"])"
   ]
  },
  {
   "cell_type": "markdown",
   "id": "4fe5e6f4",
   "metadata": {},
   "source": [
    "---\n",
    "\n",
    "La función recibe cada **argumento** como un **parámetro**, para ello en la definición de la función es necesario indicar el nombre de cada parámetro.\n",
    "\n",
    "Dentro de la función, en el bloque de sentencias de la función se puede **utilizar los parámetros** como si fuesen variables cuya **visibilidad o ámbito** es el de esa función, ocultando la visibilidad o ámbito de otra variable que tenga el mismo nombre.\n",
    "\n",
    "En el cuerpo de la función el nombre de cada parámetro responde a la forma en que se identifican y utilizan las variables."
   ]
  },
  {
   "cell_type": "code",
   "execution_count": null,
   "id": "b3a95dbf",
   "metadata": {},
   "outputs": [],
   "source": [
    "# definción de una función\n",
    "\n",
    "def some_function(first_parameter, second_parameter) :\n",
    "    \"\"\" descripción de lo que hace esta función \"\"\"\n",
    "    # ...\n",
    "    \n",
    "    print(\"\\t...\")\n",
    "    print(\"\\tfirst_parameter:\", first_parameter)\n",
    "    print(\"\\tsecond_parameter:\", second_parameter)\n",
    "    \n",
    "    print(\"\\t... cambiando los valores ...\")\n",
    "    \n",
    "    first_parameter = \"Algun texto que se puede poner\"\n",
    "    second_parameter = second_parameter * 2\n",
    "    \n",
    "    print(\"\\tfirst_parameter:\", first_parameter)\n",
    "    print(\"\\tsecond_parameter:\", second_parameter)\n",
    "    print(\"\\t...\")\n",
    "    \n",
    "    # ...\n",
    "    return\n",
    "\n",
    "first_parameter = \"hola\"\n",
    "second_parameter = \"que tal\"\n",
    "\n",
    "print(\"... en el nivel anterior a la función\")\n",
    "print(\"first_parameter:\", first_parameter)\n",
    "print(\"second_parameter:\", second_parameter)\n",
    "\n",
    "some_function(first_parameter, \"Julio\")\n",
    "\n",
    "some_function(15, True)\n",
    "\n",
    "some_function(('a', 'b'), [1, 2, 3])\n",
    "\n",
    "print(\"... en el nivel anterior a la función\")\n",
    "print(\"first_parameter:\", first_parameter)\n",
    "print(\"second_parameter:\", second_parameter)\n"
   ]
  },
  {
   "cell_type": "markdown",
   "id": "81b08c38",
   "metadata": {},
   "source": [
    "\n",
    "### Argumentos nominales\n",
    "\n",
    "El paso de argumentos normalmente ser hacer por su posición.\n",
    "\n",
    "En una función que tiene varios parámetros, cuando se invoca se asume que el primer argumento coincide con el el primer parámetro, el segundo argumento con el segundo parámetro y así sucesivamente.\n",
    "\n",
    "Es posible indicar qué argumento se quiere asignar a cada parámetro."
   ]
  },
  {
   "cell_type": "code",
   "execution_count": null,
   "id": "bab04ee0",
   "metadata": {},
   "outputs": [],
   "source": [
    "# definción de una función\n",
    "\n",
    "def some_function(first_parameter, second_parameter) :\n",
    "    \"\"\" descripción de lo que hace esta función \"\"\"\n",
    "    # ...\n",
    "    \n",
    "    print(\"\\t...\")\n",
    "    print(\"\\tfirst_parameter:\", first_parameter)\n",
    "    print(\"\\tsecond_parameter:\", second_parameter)\n",
    "    \n",
    "    # ...\n",
    "    return\n",
    "\n",
    "some_function(\"esto va en el 1er argumento\", \"esto va como segundo argumento\")\n",
    "\n",
    "some_function(second_parameter = \"esto va como segundo argumento\", first_parameter = \"esto va en el 1er argumento\")\n"
   ]
  },
  {
   "cell_type": "markdown",
   "id": "9776cf5f",
   "metadata": {},
   "source": [
    "<img src=\"../Images/Level2Intermediate.png\" alt=\"Intermediate\" width=\"128\" height=\"128\" align=\"right\">"
   ]
  },
  {
   "cell_type": "markdown",
   "id": "d33016a4",
   "metadata": {},
   "source": [
    "\n",
    "### Argumentos variables\n",
    "\n",
    "Existen situaciones en las que un función **puede recibier los valores de una cantidad variable de argumentos**.\n",
    "\n",
    "En la firma de la función es posible indicar una **lista de parametros**\n"
   ]
  },
  {
   "cell_type": "code",
   "execution_count": null,
   "id": "cda5625d",
   "metadata": {},
   "outputs": [],
   "source": [
    "# definción de una función\n",
    "\n",
    "def some_function(*args) :\n",
    "    \"\"\" descripción de lo que hace esta función \"\"\"\n",
    "    # ...\n",
    "    \n",
    "    print(\"\\t...\")\n",
    "    for arg in args :\n",
    "        print(\"\\targumento:\", arg)\n",
    "    \n",
    "    # ...\n",
    "    return\n",
    "\n",
    "some_function(\"1er argumento\", \"segundo argumento\")\n",
    "\n",
    "some_function(78, ['a', 'b', 'c'], \"otro argumento\")\n",
    "\n"
   ]
  },
  {
   "cell_type": "markdown",
   "id": "44f17f4f",
   "metadata": {},
   "source": [
    "\n",
    "### Argumentos variables nominales\n",
    "\n",
    "En otras situaciones una función **puede recibier valores de una cantidad variable de argumentos indicando el nombre de estos argumentos**.\n",
    "\n",
    "En la firma de la función es posible indicar un **diccionario de parametros**\n"
   ]
  },
  {
   "cell_type": "code",
   "execution_count": null,
   "id": "0db06ff9",
   "metadata": {},
   "outputs": [],
   "source": [
    "# definción de una función\n",
    "\n",
    "def some_function(**kwargs) :\n",
    "    \"\"\" descripción de lo que hace esta función \"\"\"\n",
    "    # ...\n",
    "    \n",
    "    print(\"\\t...\")\n",
    "    for arg_key, arg_value in kwargs.items() :\n",
    "        print(\"\\targumento:\", arg_key, arg_value)\n",
    "    \n",
    "    # ...\n",
    "    return\n",
    "\n",
    "some_function(first_parameter = \"1er argumento\", second_parameter = \"segundo argumento\")\n",
    "\n",
    "some_function(int_parameter = 78, list_parameter = ['a', 'b', 'c'], string_parameter = \"otro argumento\")\n",
    "\n"
   ]
  }
 ],
 "metadata": {
  "kernelspec": {
   "display_name": "Python 3 (ipykernel)",
   "language": "python",
   "name": "python3"
  },
  "language_info": {
   "codemirror_mode": {
    "name": "ipython",
    "version": 3
   },
   "file_extension": ".py",
   "mimetype": "text/x-python",
   "name": "python",
   "nbconvert_exporter": "python",
   "pygments_lexer": "ipython3",
   "version": "3.9.7"
  }
 },
 "nbformat": 4,
 "nbformat_minor": 5
}
