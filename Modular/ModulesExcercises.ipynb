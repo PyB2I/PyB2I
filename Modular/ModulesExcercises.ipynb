{
 "cells": [
  {
   "cell_type": "markdown",
   "id": "2e23f6ef",
   "metadata": {},
   "source": [
    "<img src=\"../Images/Level1Beginner.png\" alt=\"Beginner\" width=\"128\" height=\"128\" align=\"right\">\n",
    "\n",
    "## Ejercicios - Módulos"
   ]
  },
  {
   "cell_type": "markdown",
   "id": "ff2781cf",
   "metadata": {},
   "source": [
    "En muchos programas es necesario que el usuario ingrese por teclado el valor de un número; a veces el número debe ser un entero otras veces puede ser un número en punto flotante.\n",
    "\n",
    "La conversión de los caracteres que el usuario tipea a un número puede provocar situaciones excepcionales.\n",
    "\n",
    "Los programadores suelen tener un módulo que les permite ingresar enteros, ingresar flotantes, ingresar un número entre dos valores dados dados, ...\n",
    "\n",
    "Codifique un módulo que defina las funciones para realizar estas operaciones.\n",
    "\n",
    "Ejemplo:\n",
    "\n",
    "    def get_int(message) :\n",
    "        while True :\n",
    "            try :\n",
    "                value = int(input(message))\n",
    "                return value\n",
    "            except :\n",
    "                print(\"...\")"
   ]
  }
 ],
 "metadata": {
  "kernelspec": {
   "display_name": "Python 3 (ipykernel)",
   "language": "python",
   "name": "python3"
  },
  "language_info": {
   "codemirror_mode": {
    "name": "ipython",
    "version": 3
   },
   "file_extension": ".py",
   "mimetype": "text/x-python",
   "name": "python",
   "nbconvert_exporter": "python",
   "pygments_lexer": "ipython3",
   "version": "3.9.7"
  }
 },
 "nbformat": 4,
 "nbformat_minor": 5
}
