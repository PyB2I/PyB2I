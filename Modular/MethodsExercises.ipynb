{
 "cells": [
  {
   "cell_type": "markdown",
   "id": "2e23f6ef",
   "metadata": {},
   "source": [
    "<img src=\"../Images/Level1Beginner.png\" alt=\"Beginner\" width=\"128\" height=\"128\" align=\"right\">\n",
    "\n",
    "## Ejercicios - Métodos"
   ]
  },
  {
   "cell_type": "markdown",
   "id": "0644efdf",
   "metadata": {},
   "source": [
    "En [Métodos de listas](https://docs.python.org/es/3/tutorial/datastructures.html#more-on-lists) se encuentra información sobre los métodos que se pueden ejecutar con un objeto lista.\n",
    "\n",
    "Indague sobré el método **.sort(...)** para resolver el siguiente ejercicio\n"
   ]
  },
  {
   "cell_type": "code",
   "execution_count": null,
   "id": "8025a532",
   "metadata": {},
   "outputs": [],
   "source": [
    "\n",
    "fruits = [\"aguacate\", \"ananá\", \"arándano\", \"banana\", \"cereza\", \n",
    "          \"ciruela\", \"coco\", \"damasco\", \"durazcno\", \"frambuesa\", \n",
    "          \"fresa\", \"frutilla\", \"guinda\", \"granada\", \"higo\", \n",
    "          \"kiwi\", \"lima\", \"limon\", \"mandarina\", \"mango\", \"maracuya\", \n",
    "          \"melocoton\", \"melon\", \"membrillo\", \"mora\", \"naranja\", \n",
    "          \"papaya\", \"palta\", \"pera\", \"pomelo\", \"sandia\", \"uva\", \n",
    "          \"zarzamora\"]\n",
    "\n",
    "print(\"Todas las frutas:\", fruits)\n",
    "\n",
    "print(\"Todas las frutas en orden descendente:\", \"???\")\n",
    "\n",
    "print(\"Todas las frutas ordenadas de acuerdo a la cantidad de letras:\", \"???\")"
   ]
  }
 ],
 "metadata": {
  "kernelspec": {
   "display_name": "Python 3 (ipykernel)",
   "language": "python",
   "name": "python3"
  },
  "language_info": {
   "codemirror_mode": {
    "name": "ipython",
    "version": 3
   },
   "file_extension": ".py",
   "mimetype": "text/x-python",
   "name": "python",
   "nbconvert_exporter": "python",
   "pygments_lexer": "ipython3",
   "version": "3.9.7"
  }
 },
 "nbformat": 4,
 "nbformat_minor": 5
}
