{
 "cells": [
  {
   "cell_type": "markdown",
   "id": "621cfcea",
   "metadata": {},
   "source": [
    "<img src=\"../Images/Level1Beginner.png\" alt=\"Beginner\" width=\"128\" height=\"128\" align=\"right\">\n",
    "\n",
    "#  Módulos en Python\n",
    "\n",
    "Un módulo en Python es un **archivo** que contiene definiciones y funciones que se pueden ejecutar.\n",
    "\n",
    "Organizar el código en módulos es una buena práctica de programación; permite mantener en un mismo \"archivo\" el código necesario o relaciondo con una parte del trabajo a realizar.\n"
   ]
  },
  {
   "cell_type": "markdown",
   "id": "d6cfea81",
   "metadata": {},
   "source": [
    "---\n",
    "\n",
    "Un módulo tiene el nombre que el sistema operativo permite para los archivos con la extensión **.py**.\n",
    "\n",
    "Para utilizar lo que está dentro de un módulo es necesario **importar** (total o parcialmente) su contenido."
   ]
  },
  {
   "cell_type": "code",
   "execution_count": null,
   "id": "c081d25a",
   "metadata": {},
   "outputs": [],
   "source": [
    "import module\n",
    "\n",
    "# invocamos una función que sabemos existe en el módulo llamado **module**\n",
    "module.some_function()"
   ]
  },
  {
   "cell_type": "markdown",
   "id": "a51db052",
   "metadata": {},
   "source": [
    "Para ver o editar el contenido del módulo solo debe abrir el archivo mediante las opciones **File | Open** en el menú principal, en caso de la celda anterior el archivo es **module.py**"
   ]
  },
  {
   "cell_type": "markdown",
   "id": "a78be039",
   "metadata": {},
   "source": [
    "---\n",
    "\n",
    "### Espacio de nombres"
   ]
  },
  {
   "cell_type": "markdown",
   "id": "f20f999e",
   "metadata": {},
   "source": [
    "Para evitar que las definiciones existentes en un módulo se sobreescriban con las definciones de otros módulos incluso del código que importa a los módules, Python utiliza un esquema de **espacios de nombres**.\n",
    "\n",
    "Cuando se importa un módulo, todo el contenido que se incorpora o importa existe dentro de un \"espacio de nombres\" que tiene justamente el nombre del módulo.\n",
    "\n",
    "Para ejecutar una función que existe dentro de un espacio de nombres es necesario anteponer el \"espacio de nombres\" al nombre de la función."
   ]
  },
  {
   "cell_type": "code",
   "execution_count": null,
   "id": "e4f43237",
   "metadata": {},
   "outputs": [],
   "source": [
    "# acceder a las variables en el módulo importado\n",
    "\n",
    "print(\"Empresa..:\", module.COMPANY)\n",
    "print(\"Dirección:\", module.ADDRESS)"
   ]
  },
  {
   "cell_type": "markdown",
   "id": "1b20e78c",
   "metadata": {},
   "source": [
    "---\n",
    "\n",
    "Si se desea suprimir un espacio de nombres y todo su contenido, se puede utilizar la instrucción **del**."
   ]
  },
  {
   "cell_type": "code",
   "execution_count": null,
   "id": "2746fe32",
   "metadata": {},
   "outputs": [],
   "source": [
    "del module"
   ]
  },
  {
   "cell_type": "code",
   "execution_count": null,
   "id": "b16722f4",
   "metadata": {},
   "outputs": [],
   "source": [
    "# la siguiente sentencias provoca un error\n",
    "\n",
    "print(\"Empresa..:\", module.COMPANY)\n"
   ]
  },
  {
   "cell_type": "markdown",
   "id": "bd08a630",
   "metadata": {},
   "source": [
    "---\n",
    "\n",
    "Una ventaja que facilitan los módulos es la de poder intercambiarlos.\n",
    "\n",
    "De este modo el programador puede utilizar distintas \"versiones\" de código siempre que hagan lo mismo.\n",
    "\n",
    "Para ello en Python se puede importar un módulo asignando el \"espacio de nombres\"."
   ]
  },
  {
   "cell_type": "code",
   "execution_count": null,
   "id": "09c6779b",
   "metadata": {},
   "outputs": [],
   "source": [
    "# utiliza la versión recursiva\n",
    "import recursive_factorial as tool\n",
    "\n",
    "print(\"El factorial de 5 es\", tool.factorial(5))"
   ]
  },
  {
   "cell_type": "code",
   "execution_count": null,
   "id": "8bdee22a",
   "metadata": {},
   "outputs": [],
   "source": [
    "# utiliza la versión iterativa\n",
    "import iterative_factorial as tool\n",
    "\n",
    "print(\"El factorial de 5 es\", tool.factorial(5))"
   ]
  },
  {
   "cell_type": "markdown",
   "id": "51979a9e",
   "metadata": {},
   "source": [
    "---\n",
    "\n",
    "En Python es posible importar un módulo incorporando todas las definiciones al \"espacio de nombres\" actual."
   ]
  },
  {
   "cell_type": "code",
   "execution_count": null,
   "id": "7513e08c",
   "metadata": {},
   "outputs": [],
   "source": [
    "# utiliza la versión recursiva\n",
    "from recursive_factorial import *\n",
    "\n",
    "print(\"El factorial de 5 es\", factorial(5))"
   ]
  },
  {
   "cell_type": "code",
   "execution_count": null,
   "id": "ac14ec10",
   "metadata": {},
   "outputs": [],
   "source": [
    "# utiliza la versión recursiva\n",
    "from iterative_factorial import *\n",
    "\n",
    "print(\"El factorial de 5 es\", factorial(5))"
   ]
  },
  {
   "cell_type": "markdown",
   "id": "9060b03b",
   "metadata": {},
   "source": [
    "---\n",
    "\n",
    "## Módulos clásicos\n",
    "\n",
    "Junto al intérprete de Python se instalan varios módulos que proveen definiciones y funciones útiles.\n"
   ]
  },
  {
   "cell_type": "code",
   "execution_count": null,
   "id": "5bc85253",
   "metadata": {},
   "outputs": [],
   "source": [
    "# módulo con definiciones y funciones de matemáticas básicas\n",
    "\n",
    "import math\n",
    "\n",
    "print(\"Número PI\", math.pi)\n",
    "\n",
    "print(\"Raíz cuadrada de 2 es\", math.sqrt(2))"
   ]
  },
  {
   "cell_type": "code",
   "execution_count": null,
   "id": "5645956e",
   "metadata": {},
   "outputs": [],
   "source": [
    "# módulo cond definiciones y funciones relacionadas con números pseudo aleatorios\n",
    "\n",
    "import random\n",
    "\n",
    "print(\"Número pseudo aleatorio:\", random.randint(1, 100))"
   ]
  },
  {
   "cell_type": "code",
   "execution_count": null,
   "id": "78eb977a",
   "metadata": {},
   "outputs": [],
   "source": [
    "# módulo con definiciones y funciones relacionadas con fechas y horas\n",
    "\n",
    "import datetime\n",
    "\n",
    "print(\"Hoy es:\", datetime.date.today())"
   ]
  },
  {
   "cell_type": "code",
   "execution_count": null,
   "id": "50e95c1d",
   "metadata": {},
   "outputs": [],
   "source": [
    "# módulo con definiciones y funciones relacionadas con el sistema operativo\n",
    "\n",
    "import sys\n",
    "\n",
    "print(\"Plataforma:\", sys.platform)"
   ]
  },
  {
   "cell_type": "markdown",
   "id": "b63dc54d",
   "metadata": {},
   "source": [
    "El intérprete de Python \"busca\" los archivos a importar en las carpetas indicadas por la variable **sys.path**.\n"
   ]
  },
  {
   "cell_type": "code",
   "execution_count": null,
   "id": "bd4b53b8",
   "metadata": {},
   "outputs": [],
   "source": [
    "# sys.path es una lista con la ruta de acceso a las carpetas donde se encuentran los módulos\n",
    "# es posible modificar esta variable\n",
    "\n",
    "print(sys.path)"
   ]
  },
  {
   "cell_type": "code",
   "execution_count": null,
   "id": "07793516",
   "metadata": {},
   "outputs": [],
   "source": []
  }
 ],
 "metadata": {
  "kernelspec": {
   "display_name": "Python 3 (ipykernel)",
   "language": "python",
   "name": "python3"
  },
  "language_info": {
   "codemirror_mode": {
    "name": "ipython",
    "version": 3
   },
   "file_extension": ".py",
   "mimetype": "text/x-python",
   "name": "python",
   "nbconvert_exporter": "python",
   "pygments_lexer": "ipython3",
   "version": "3.9.7"
  }
 },
 "nbformat": 4,
 "nbformat_minor": 5
}
