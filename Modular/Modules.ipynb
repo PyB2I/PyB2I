{
 "cells": [
  {
   "cell_type": "markdown",
   "id": "621cfcea",
   "metadata": {},
   "source": [
    "<img src=\"../Images/Level1Beginner.png\" alt=\"Beginner\" width=\"128\" height=\"128\" align=\"right\">\n",
    "\n",
    "#  Módulos en Python\n",
    "\n",
    "Un módulo en Python es un **archivo** que contiene definiciones y funciones que se pueden ejecutar.\n"
   ]
  },
  {
   "cell_type": "markdown",
   "id": "d6cfea81",
   "metadata": {},
   "source": [
    "Un módulo tiene el nombre que el sistema operativo permite con la extensión **.py**.\n",
    "\n",
    "Para utilizar lo que está dentro de un módulo es necesario **importar** total o particalmente su contenido."
   ]
  },
  {
   "cell_type": "code",
   "execution_count": 2,
   "id": "c081d25a",
   "metadata": {},
   "outputs": [
    {
     "name": "stdout",
     "output_type": "stream",
     "text": [
      "Ejecutando some_function() ...\n",
      "Pulse enter para regresar a la siguiente línea de código desde donde se invocó esta funcion\n"
     ]
    }
   ],
   "source": [
    "import modulo\n",
    "\n",
    "# invocamos una función que sabemos existe en el módulo llamado **modulo**\n",
    "modulo.some_function()"
   ]
  },
  {
   "cell_type": "code",
   "execution_count": null,
   "id": "6c4aa15d",
   "metadata": {},
   "outputs": [],
   "source": []
  }
 ],
 "metadata": {
  "kernelspec": {
   "display_name": "Python 3 (ipykernel)",
   "language": "python",
   "name": "python3"
  },
  "language_info": {
   "codemirror_mode": {
    "name": "ipython",
    "version": 3
   },
   "file_extension": ".py",
   "mimetype": "text/x-python",
   "name": "python",
   "nbconvert_exporter": "python",
   "pygments_lexer": "ipython3",
   "version": "3.9.7"
  }
 },
 "nbformat": 4,
 "nbformat_minor": 5
}
