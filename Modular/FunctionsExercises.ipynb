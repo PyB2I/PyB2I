{
 "cells": [
  {
   "cell_type": "markdown",
   "id": "2e23f6ef",
   "metadata": {},
   "source": [
    "## Ejercicios - Funciones"
   ]
  },
  {
   "cell_type": "markdown",
   "id": "0970dad5",
   "metadata": {},
   "source": [
    "### Cuenta espacios\n",
    "\n",
    "Escriba una función que reciba una cadena y devuelva la cantidad de espacios en blancos que tiene la cadena."
   ]
  },
  {
   "cell_type": "markdown",
   "id": "cb0cfb53",
   "metadata": {},
   "source": [
    "### Tiene dígitos\n",
    "\n",
    "Escriba una función que reciba una cadena y devuelva verdadero si tiene algún dígito entre los caracteres o falso si no los tiene."
   ]
  },
  {
   "cell_type": "markdown",
   "id": "31c0faed",
   "metadata": {},
   "source": [
    "### Cuenta palabras\n",
    "\n",
    "Escriba una función que reciba una cadena y devuelva la cantidad de palabras que tiene la cadena."
   ]
  },
  {
   "cell_type": "markdown",
   "id": "3abcf43c",
   "metadata": {},
   "source": [
    "### Cuenta dígitos\n",
    "\n",
    "Escriba una función que reciba una cadnea y devuelva la cantidad de dígitos que tiene la cadena."
   ]
  },
  {
   "cell_type": "markdown",
   "id": "5ca529ea",
   "metadata": {},
   "source": [
    "### Palabras largas\n",
    "\n",
    "Escriba una función que reciba una cadena y un número y devuelva una lista con las palabras de la cadena cuya longitud es mayor al número recibido."
   ]
  },
  {
   "cell_type": "markdown",
   "id": "a83a18cc",
   "metadata": {},
   "source": [
    "### Horas extras\n",
    "\n",
    "Escriba una función que calcule y devuelva el salario de un empleado de manera que cobre 1.5 veces el valor de cada hora que exceda las 40 mensuales."
   ]
  },
  {
   "cell_type": "markdown",
   "id": "8d1461be",
   "metadata": {},
   "source": [
    "### Calificaciones\n",
    "\n",
    "Escriba una función que determine y devuelva la denominación de una calificación de acuerdo al siguiente detalle:\n",
    "\n",
    "\n",
    "\\>= 0.9 - Sobresaliente\n",
    "\n",
    "\\>= 0.8 - Notable\n",
    "\n",
    "\\>= 0.7 - Bien\n",
    "\n",
    "\\>= 0.6 - Suficiente\n",
    "\n",
    "\\<  0.6 - Insuficiente\n",
    "\n",
    "Los valores fuera del rango 0.0 y 1.0 no deben aceptarse."
   ]
  },
  {
   "cell_type": "markdown",
   "id": "bd32ed21",
   "metadata": {},
   "source": [
    "### Validar una entrada\n",
    "\n",
    "Escriba una función que solicite el ingrese de un número entre dos valores inclusive, si se ingresa un número fuera del rango el código solicita nuevamente que se ingrese el número tantas vecese como sea necesario hasta cumplir con la validación."
   ]
  },
  {
   "cell_type": "markdown",
   "id": "d7c2471a",
   "metadata": {},
   "source": [
    "### Máximo Común Divisor\n",
    "\n",
    "Escribe la función que permita obtener el máximo común divisor de dos números."
   ]
  },
  {
   "cell_type": "markdown",
   "id": "283beb5c",
   "metadata": {},
   "source": [
    "### Palabra alfabética\n",
    "\n",
    "Se dice que una palabra es alfabética si todas sus letras están ordenadas alfabéticamente, por ejemplo \"chino\".\n",
    "\n",
    "Escriba una función que reciba una palabra y devuelva verdadero si la palabra es alfabética y falso si no lo es"
   ]
  },
  {
   "cell_type": "markdown",
   "id": "4a8ed20e",
   "metadata": {},
   "source": [
    "### Criptografía básica\n",
    "\n",
    "Dado un alfabeto (secuencia de símbolos o caracteres de un lenguaje) una técnica de encriptar es tomar un texto y un número y reemplazar cada caracter del texto por el caracter que se encuentra tantas posiciones más a la derecha como el valor del número; cuando se alcanza el final del alfabeto se vuelve a comenzar por el primer símbolo.\n",
    "\n",
    "Escriba una función que reciba una cadena y un número y devuelva la cadena encriptada según la técnica indicada anteriormente de acuerdo a un alfabeto que contenga los símbolos para números, mayúsculas y minúsculas."
   ]
  },
  {
   "cell_type": "markdown",
   "id": "5e8011cd",
   "metadata": {},
   "source": [
    "### Máximo Común Divisor de varios números\n",
    "\n",
    "Escribe la función que permita obtener el máximo común divisor de al menos tres números."
   ]
  },
  {
   "cell_type": "markdown",
   "id": "9a1e864b",
   "metadata": {},
   "source": [
    "### Números primos\n",
    "\n",
    "Escribe la función que determina si un número es primo o no."
   ]
  },
  {
   "cell_type": "markdown",
   "id": "286c8110",
   "metadata": {},
   "source": [
    "### Cuenta números\n",
    "\n",
    "Escribe una función que reciba una cadena y devuelva la cantidad de números (no dígitos) que tiene la cadena."
   ]
  }
 ],
 "metadata": {
  "kernelspec": {
   "display_name": "Python 3",
   "language": "python",
   "name": "python3"
  },
  "language_info": {
   "codemirror_mode": {
    "name": "ipython",
    "version": 3
   },
   "file_extension": ".py",
   "mimetype": "text/x-python",
   "name": "python",
   "nbconvert_exporter": "python",
   "pygments_lexer": "ipython3",
   "version": "3.8.8"
  }
 },
 "nbformat": 4,
 "nbformat_minor": 5
}
