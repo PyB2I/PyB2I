{
 "cells": [
  {
   "cell_type": "markdown",
   "id": "8de87b5e",
   "metadata": {},
   "source": [
    "<img src=\"../Images/Level1Beginner.png\" alt=\"Beginner\" width=\"128\" height=\"128\" align=\"right\">\n",
    "\n",
    "# Métodos en Python\n",
    "\n",
    "Un método en Python es un bloque de sentencias que un elemento (objeto) puede invocar.\n",
    "\n",
    "La diferencia entre un método y una función es que la función es un bloque de sentencias que se puede invocar desde cualquier parte del código, en cambio el método necesita que sea un elemento u objeto el que lo invoca.\n"
   ]
  },
  {
   "cell_type": "code",
   "execution_count": null,
   "id": "fe1c0a1f",
   "metadata": {},
   "outputs": [],
   "source": [
    "\n",
    "some_text = \"Funciones y Métodos se parecen\"\n",
    "\n",
    "# la función len(...) devuelve la cantidad de elementos; no requiere de un elemento para ejecutarla\n",
    "print(some_text)\n",
    "print(len(some_text))\n",
    "\n",
    "# el método .lower() devuelve el elemento u objeto que ejecuta con todas sus letras en minúsculas\n",
    "print(some_text.lower())\n",
    "print(some_text)\n"
   ]
  },
  {
   "cell_type": "markdown",
   "id": "0f2b7d5b",
   "metadata": {},
   "source": [
    "---\n",
    "\n",
    "Independientemente de la \"forma\" en que se programa, en Python permanentemente se utilizan objetos de este modo, quién programa naturalmente escribe código en el que los objetos invocan métodos asociados al tipo correspondiente.\n",
    "\n",
    "Los [Métodos de las cadenas de caracteres](https://docs.python.org/es/3/library/stdtypes.html#string-methods) son utilizados con mayor frecuencia.\n"
   ]
  },
  {
   "cell_type": "code",
   "execution_count": null,
   "id": "6bf4224d",
   "metadata": {},
   "outputs": [],
   "source": [
    "# Algunos métodos de objetos string\n",
    "\n",
    "text = \"todas las cadenas de caracteres pueden invocar los metodos del tipo\"\n",
    "\n",
    "print(text)\n",
    "\n",
    "print(text.capitalize())\n",
    "\n",
    "print(text.center(80))\n",
    "\n",
    "print(text.split())\n",
    "\n",
    "print(text.title())\n",
    "\n",
    "print(text.upper())"
   ]
  },
  {
   "cell_type": "code",
   "execution_count": null,
   "id": "2a48ddb9",
   "metadata": {},
   "outputs": [],
   "source": [
    "# help(int)\n",
    "\n"
   ]
  }
 ],
 "metadata": {
  "kernelspec": {
   "display_name": "Python 3 (ipykernel)",
   "language": "python",
   "name": "python3"
  },
  "language_info": {
   "codemirror_mode": {
    "name": "ipython",
    "version": 3
   },
   "file_extension": ".py",
   "mimetype": "text/x-python",
   "name": "python",
   "nbconvert_exporter": "python",
   "pygments_lexer": "ipython3",
   "version": "3.9.7"
  }
 },
 "nbformat": 4,
 "nbformat_minor": 5
}
