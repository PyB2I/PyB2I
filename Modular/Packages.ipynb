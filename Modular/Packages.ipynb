{
 "cells": [
  {
   "cell_type": "markdown",
   "id": "621cfcea",
   "metadata": {},
   "source": [
    "<img src=\"../Images/Level1Beginner.png\" alt=\"Beginner\" width=\"128\" height=\"128\" align=\"right\">\n",
    "\n",
    "#  Paquetes en Python\n",
    "\n",
    "Un paquete en Python es una **carpeta** que contiene módulos.\n",
    "\n",
    "Utilizar carpetas (directorios) y subcarpetas (subdirectorios) es la manera en que Python permite organizar el código cuando unos pocoso módulos no son suficientes.\n",
    "\n",
    "La evolución de un producto de software requiere de incorporar código para poder utilizar nuevos dispositivos o variantes de uno que se está utilizando, sin embargo el mercado -la mayoría de las veces- requiere que se mantenga la compatibidilidad con los dispositivos o variantes anteriores; esta situación implica que el mismo producto de software tenga la habilidad de actuar con uno u otro dispositivo.\n"
   ]
  },
  {
   "cell_type": "markdown",
   "id": "d6cfea81",
   "metadata": {},
   "source": [
    "---\n",
    "\n",
    "Un paquete tiene el nombre que el sistema operativo permite para las carpetas, dentro de esa carpte debe existir un módulo con el nombre **__init__.py**.\n",
    "\n",
    "Para utilizar lo que está dentro del paquete es necesario **importar** (total o parcialmente) su contenido."
   ]
  },
  {
   "cell_type": "code",
   "execution_count": 1,
   "id": "c081d25a",
   "metadata": {},
   "outputs": [
    {
     "name": "stdout",
     "output_type": "stream",
     "text": [
      "\n",
      "Ejecutando __init__.py en la carpeta packagedemo\n",
      "\n",
      "\n",
      "Ejecutando el módulo packagedemo.module1\n",
      "\n"
     ]
    }
   ],
   "source": [
    "import packagedemo\n"
   ]
  },
  {
   "cell_type": "markdown",
   "id": "a78be039",
   "metadata": {},
   "source": [
    "---\n",
    "\n",
    "### Espacio de nombres"
   ]
  },
  {
   "cell_type": "markdown",
   "id": "f20f999e",
   "metadata": {},
   "source": [
    "Para evitar colisión en las definiciones existentes el **espacios de nombres** de cada definición se compone de las carpetas, subcarpetas y módulos.\n"
   ]
  },
  {
   "cell_type": "code",
   "execution_count": 2,
   "id": "468858c5",
   "metadata": {},
   "outputs": [
    {
     "name": "stdout",
     "output_type": "stream",
     "text": [
      "Ejecutando function1 en packagedemo.module1\n",
      "\n"
     ]
    }
   ],
   "source": [
    "packagedemo.module1.function1()"
   ]
  },
  {
   "cell_type": "markdown",
   "id": "8d09ef29",
   "metadata": {},
   "source": [
    "Es posible importar un módulo con las modalidades aprendidas en el tema de módulos"
   ]
  },
  {
   "cell_type": "code",
   "execution_count": 3,
   "id": "cfd19fc1",
   "metadata": {},
   "outputs": [
    {
     "name": "stdout",
     "output_type": "stream",
     "text": [
      "\n",
      "Ejecutando el módulo packagedemo.module2\n",
      "\n"
     ]
    }
   ],
   "source": [
    "import packagedemo.module2 "
   ]
  },
  {
   "cell_type": "markdown",
   "id": "9b1ef555",
   "metadata": {},
   "source": [
    "Sin embargo en algunas situaciones el **espacio de nombres** suele ser muy incómodo"
   ]
  },
  {
   "cell_type": "code",
   "execution_count": 4,
   "id": "88b32836",
   "metadata": {},
   "outputs": [
    {
     "name": "stdout",
     "output_type": "stream",
     "text": [
      "Ejecutando constructor de ClassDemo en packagedemo.module2\n"
     ]
    }
   ],
   "source": [
    "one_object = packagedemo.module2.ClassDemo()"
   ]
  },
  {
   "cell_type": "markdown",
   "id": "c8bdfe2d",
   "metadata": {},
   "source": [
    "En la mayoría de los casos se importa la definición de clases de manera que no requiera espacio de nombres"
   ]
  },
  {
   "cell_type": "code",
   "execution_count": 5,
   "id": "66fa8fca",
   "metadata": {},
   "outputs": [],
   "source": [
    "from packagedemo.module2 import ClassDemo"
   ]
  },
  {
   "cell_type": "code",
   "execution_count": 6,
   "id": "d116c7d4",
   "metadata": {},
   "outputs": [
    {
     "name": "stdout",
     "output_type": "stream",
     "text": [
      "Ejecutando constructor de ClassDemo en packagedemo.module2\n"
     ]
    }
   ],
   "source": [
    "one_object = ClassDemo()"
   ]
  }
 ],
 "metadata": {
  "kernelspec": {
   "display_name": "Python 3 (ipykernel)",
   "language": "python",
   "name": "python3"
  },
  "language_info": {
   "codemirror_mode": {
    "name": "ipython",
    "version": 3
   },
   "file_extension": ".py",
   "mimetype": "text/x-python",
   "name": "python",
   "nbconvert_exporter": "python",
   "pygments_lexer": "ipython3",
   "version": "3.9.7"
  }
 },
 "nbformat": 4,
 "nbformat_minor": 5
}
